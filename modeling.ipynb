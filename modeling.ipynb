{
 "cells": [
  {
   "cell_type": "code",
   "execution_count": 2,
   "metadata": {},
   "outputs": [
    {
     "data": {
      "text/html": [
       "<div>\n",
       "<style scoped>\n",
       "    .dataframe tbody tr th:only-of-type {\n",
       "        vertical-align: middle;\n",
       "    }\n",
       "\n",
       "    .dataframe tbody tr th {\n",
       "        vertical-align: top;\n",
       "    }\n",
       "\n",
       "    .dataframe thead th {\n",
       "        text-align: right;\n",
       "    }\n",
       "</style>\n",
       "<table border=\"1\" class=\"dataframe\">\n",
       "  <thead>\n",
       "    <tr style=\"text-align: right;\">\n",
       "      <th></th>\n",
       "      <th>회사명</th>\n",
       "      <th>거래소코드</th>\n",
       "      <th>회계년도</th>\n",
       "      <th>상장일</th>\n",
       "      <th>상장폐지일</th>\n",
       "      <th>부실기업1</th>\n",
       "      <th>부실기업2</th>\n",
       "      <th>부실기업</th>\n",
       "      <th>업종</th>\n",
       "      <th>경기민감도</th>\n",
       "      <th>...</th>\n",
       "      <th>기계장비율_계산</th>\n",
       "      <th>자본집약도_계산</th>\n",
       "      <th>총자본회전률</th>\n",
       "      <th>자기자본회전률</th>\n",
       "      <th>타인자본회전률</th>\n",
       "      <th>유동자산회전률</th>\n",
       "      <th>당좌자산회전률</th>\n",
       "      <th>재고자산회전률</th>\n",
       "      <th>매출채권회전률</th>\n",
       "      <th>순운전자본회전률</th>\n",
       "    </tr>\n",
       "  </thead>\n",
       "  <tbody>\n",
       "    <tr>\n",
       "      <th>0</th>\n",
       "      <td>(주)CMG제약</td>\n",
       "      <td>58820</td>\n",
       "      <td>201112</td>\n",
       "      <td>200108</td>\n",
       "      <td>NaN</td>\n",
       "      <td>0.0</td>\n",
       "      <td>0</td>\n",
       "      <td>0</td>\n",
       "      <td>제조업</td>\n",
       "      <td>1</td>\n",
       "      <td>...</td>\n",
       "      <td>19.715837</td>\n",
       "      <td>204.066667</td>\n",
       "      <td>0.66</td>\n",
       "      <td>0.984333</td>\n",
       "      <td>2.01</td>\n",
       "      <td>1.25</td>\n",
       "      <td>1.55</td>\n",
       "      <td>6.42</td>\n",
       "      <td>2.45</td>\n",
       "      <td>0.86</td>\n",
       "    </tr>\n",
       "  </tbody>\n",
       "</table>\n",
       "<p>1 rows × 59 columns</p>\n",
       "</div>"
      ],
      "text/plain": [
       "        회사명  거래소코드    회계년도     상장일 상장폐지일  부실기업1  부실기업2  부실기업   업종  경기민감도  ...  \\\n",
       "0  (주)CMG제약  58820  201112  200108   NaN    0.0      0     0  제조업      1  ...   \n",
       "\n",
       "    기계장비율_계산    자본집약도_계산  총자본회전률   자기자본회전률  타인자본회전률  유동자산회전률  당좌자산회전률  \\\n",
       "0  19.715837  204.066667    0.66  0.984333     2.01     1.25     1.55   \n",
       "\n",
       "   재고자산회전률  매출채권회전률  순운전자본회전률  \n",
       "0     6.42     2.45      0.86  \n",
       "\n",
       "[1 rows x 59 columns]"
      ]
     },
     "execution_count": 2,
     "metadata": {},
     "output_type": "execute_result"
    }
   ],
   "source": [
    "import pandas as pd\n",
    "\n",
    "df = pd.read_csv('data/전처리/전처리part5_final.csv', encoding='CP949')\n",
    "df.head(1)"
   ]
  },
  {
   "cell_type": "markdown",
   "metadata": {},
   "source": [
    "## 피처와 클래스"
   ]
  },
  {
   "cell_type": "code",
   "execution_count": null,
   "metadata": {},
   "outputs": [],
   "source": [
    "data = df.columns[:]\n",
    "target = df['부실기업']"
   ]
  },
  {
   "cell_type": "markdown",
   "metadata": {},
   "source": [
    "## 데이터 수동 분리"
   ]
  },
  {
   "cell_type": "code",
   "execution_count": null,
   "metadata": {},
   "outputs": [],
   "source": [
    "X_train = data[:]\n",
    "X_test = data[:]\n",
    "y_train = data[:]\n",
    "y_test = data[:]\n",
    "\n",
    "print('X 테스트 데이터 :')\n",
    "print(X_test)\n",
    "print('y 테스트 데이터 :')\n",
    "print(list(y_test))"
   ]
  },
  {
   "cell_type": "markdown",
   "metadata": {},
   "source": [
    "## 분류모델"
   ]
  },
  {
   "cell_type": "markdown",
   "metadata": {},
   "source": [
    "#### Logistic Regression\n",
    "#### DecisionTree, RandomForest, GBM(Gradient Boost Machine), XGBoost Classifier\n",
    "#### Stacking Ensemble\n",
    "#### KNN, Naive Bayes, SVM"
   ]
  },
  {
   "cell_type": "code",
   "execution_count": 5,
   "metadata": {},
   "outputs": [],
   "source": [
    "from sklearn.linear_model import LogisticRegression\n",
    "from sklearn.tree import DecisionTreeClassifier\n",
    "from sklearn.ensemble import RandomForestClassifier\n",
    "from sklearn.ensemble import GradientBoostingClassifier\n",
    "import xgboost as xgb\n",
    "from xgboost import XGBClassifier\n",
    "from sklearn.neighbors import KNeighborsClassifier\n",
    "from sklearn.naive_bayes import GaussianNB\n",
    "from sklearn.svm import SVC\n",
    "from sklearn.metrics import accuracy_score, roc_auc_score\n",
    "import numpy as np \n",
    "import time\n",
    "import warnings\n",
    "warnings.filterwarnings('ignore')"
   ]
  },
  {
   "cell_type": "code",
   "execution_count": null,
   "metadata": {},
   "outputs": [],
   "source": [
    "lr_clf = LogisticRegression()\n",
    "dt_clf = DecisionTreeClassifier(random_state=42)\n",
    "rf_clf = RandomForestClassifier(random_state=42, n_jobs=-1)\n",
    "gb_clf = GradientBoostingClassifier(random_state=42)\n",
    "xgb_clf = XGBClassifier(n_estimator=300, learning_rate=0.1, max_depth=5)\n",
    "knn_clf = KNeighborsClassifier()\n",
    "nb_clf = GaussianNB()\n",
    "svm_clf = SVC()\n",
    "\n",
    "# LogisticRegression 학습/예측/평가\n",
    "lr_clf_time = time.time()\n",
    "lr_clf.fit(X_train, y_train)\n",
    "lr_pred = lr_clf.predict(X_test)\n",
    "print('LogisticRegression 정확도: {0:.4f}'.format(accuracy_score(y_test, lr_pred)))\n",
    "print('LogisticRegression roc_auc: {:0.3f}'.format(roc_auc_score(y_test, lr_pred)))\n",
    "print('LogisticRegression 수행 시간: {0:.1f} 초'.format(time.time()-lr_clf_time))\n",
    "\n",
    "# DecisionTreeClassifier 학습/예측/평가\n",
    "dt_clf_time = time.time()\n",
    "dt_clf.fit(X_train, y_train)\n",
    "dt_pred = dt_clf.predict(X_test)\n",
    "print('\\nDecisionTreeClassifier 정확도: {0:.4f}'.format(accuracy_score(y_test, dt_pred)))\n",
    "print('DecisionTreeClassifier roc_auc: {:0.3f}'.format(roc_auc_score(y_test, dt_pred)))\n",
    "print('DecisionTree 수행 시간: {0:.1f} 초'.format(time.time()-dt_clf_time))\n",
    "\n",
    "# RandomForestClassifier 학습/예측/평가\n",
    "rf_clf_time = time.time()\n",
    "rf_clf.fit(X_train, y_train)\n",
    "rf_pred = rf_clf.predict(X_test)\n",
    "print('\\nRandomForestClassifier 정확도: {0:.4f}'.format(accuracy_score(y_test, rf_pred)))\n",
    "print('RandomForestClassifier roc_auc: {:0.3f}'.format(roc_auc_score(y_test, rf_pred)))\n",
    "print('RandomForest 수행 시간: {0:.1f} 초'.format(time.time()-rf_clf_time))\n",
    "\n",
    "# GBM 학습/예측/평가\n",
    "gb_clf_time = time.time()\n",
    "gb_clf.fit(X_train, y_train)\n",
    "gb_pred = gb_clf.predict(X_test)\n",
    "print('\\nGBM 정확도: {0:.4f}'.format(accuracy_score(y_test, gb_pred)))\n",
    "print('GBM roc_auc: {:0.3f}'.format(roc_auc_score(y_test, gb_pred)))\n",
    "print('GBM 수행 시간: {0:.1f} 초'.format(time.time()-gb_clf_time))\n",
    "\n",
    "# XGBClassifier 학습/예측/평가\n",
    "xgb_clf_time = time.time()\n",
    "xgb_clf.fit(X_train, y_train)\n",
    "xgb_pred = xgb_clf.predict(X_test)\n",
    "print('\\nXGBC 정확도: {0:.4f}'.format(accuracy_score(y_test, xgb_pred)))\n",
    "print('XGBC roc_auc: {:0.3f}'.format(roc_auc_score(y_test, xgb_pred)))\n",
    "print('XGBC 수행 시간: {0:.1f} 초'.format(time.time()-xgb_clf_time))\n",
    "\n",
    "# KNN 학습/예측/평가\n",
    "knn_clf_time = time.time()\n",
    "knn_clf.fit(X_train, y_train)\n",
    "knn_pred = knn_clf.predict(X_test)\n",
    "print('\\nKNN 정확도: {0:.4f}'.format(accuracy_score(y_test, knn_pred)))\n",
    "print('KNN roc_auc: {:0.3f}'.format(roc_auc_score(y_test, knn_pred)))\n",
    "print('KNN 수행 시간: {0:.1f} 초'.format(time.time()-knn_clf_time))\n",
    "\n",
    "# NB 학습/예측/평가\n",
    "nb_clf_time = time.time()\n",
    "nb_clf.fit(X_train, y_train)\n",
    "nb_pred = nb_clf.predict(X_test)\n",
    "print('\\nNB 정확도: {0:.4f}'.format(accuracy_score(y_test, nb_pred)))\n",
    "print('NB roc_auc: {:0.3f}'.format(roc_auc_score(y_test, nb_pred)))\n",
    "print('NB 수행 시간: {0:.1f} 초'.format(time.time()-nb_clf_time))\n",
    "\n",
    "# SVM 학습/예측/평가\n",
    "svm_clf_time = time.time()\n",
    "svm_clf.fit(X_train, y_train)\n",
    "svm_pred = svm_clf.predict(X_test)\n",
    "print('\\nSVM 정확도: {0:.4f}'.format(accuracy_score(y_test, svm_pred)))\n",
    "print('SVM roc_auc: {:0.3f}'.format(roc_auc_score(y_test, svm_pred)))\n",
    "print('SVM 수행 시간: {0:.1f} 초'.format(time.time()-svm_clf_time))\n"
   ]
  },
  {
   "cell_type": "markdown",
   "metadata": {},
   "source": [
    "## 데이터 검증"
   ]
  },
  {
   "cell_type": "markdown",
   "metadata": {},
   "source": [
    "### StratifiedKFold"
   ]
  },
  {
   "cell_type": "code",
   "execution_count": null,
   "metadata": {},
   "outputs": [],
   "source": [
    "from sklearn.model_selection import StratifiedKFold\n",
    "\n",
    "def exec_skfold(clf, folds=5):\n",
    "    # 폴드 세트를 5개인 KFold객체 생성\n",
    "    skfold = StratifiedKFold(n_splits=folds)\n",
    "    scores = []\n",
    "    \n",
    "    # SKFold 교차 검증\n",
    "    for iter_count, (train_index, test_index) in enumerate(skfold.split(data, target)):\n",
    "        X_train, X_test = data.values[train_index], data.values[test_index]\n",
    "        y_train, y_test = target.values[train_index], target.values[test_index]\n",
    "        \n",
    "        clf.fit(X_train, y_train)\n",
    "        predictions = clf.predict(X_test)\n",
    "        accuracy = accuracy_score(y_test, predictions)\n",
    "        scores.append(accuracy)\n",
    "        print(\"교차 검증 {0} 정확도: {1:.4f}\".format(iter_count, accuracy))\n",
    "        \n",
    "    mean_score = np.mean(scores)\n",
    "    print(\"평균 정확도: {0:.4f}\".format(mean_score))"
   ]
  },
  {
   "cell_type": "code",
   "execution_count": null,
   "metadata": {},
   "outputs": [],
   "source": [
    "# DecisionTree SKFold\n",
    "exec_skfold(dt_clf, folds=5)"
   ]
  },
  {
   "cell_type": "markdown",
   "metadata": {},
   "source": [
    "#### 레이블 데이터 분포 확인"
   ]
  },
  {
   "cell_type": "code",
   "execution_count": null,
   "metadata": {},
   "outputs": [],
   "source": [
    "from sklearn.model_selection import StratifiedKFold\n",
    "\n",
    "skfold = StratifiedKFold(n_splits=5)\n",
    "n_iter=0\n",
    "cv_accuracy=[]\n",
    "\n",
    "# 학습 데이터세트의 인덱스는 수가 많아서 생략\n",
    "for train_index, test_index in skfold.split(data, target):\n",
    "    n_iter += 1\n",
    "    \n",
    "    # 학습 및 검증 레이블 데이터 분포\n",
    "    label_train = target.iloc[train_index]\n",
    "    label_test = target.iloc[test_index]\n",
    "    print('학습 레이블 데이터 분포:\\n', label_train.value_counts())\n",
    "    print('검증 레이블 데이터 분포:\\n', label_test.value_counts())"
   ]
  },
  {
   "cell_type": "markdown",
   "metadata": {},
   "source": [
    "### GridSearch CV\n",
    "#### 교차 검증과 최적 하이퍼 파라미터 한번에 찾기"
   ]
  },
  {
   "cell_type": "markdown",
   "metadata": {},
   "source": [
    "# DecisionTreeClassifier GridSearchCV\n",
    "\n",
    "from sklearn.model_selection import GridSearchCV\n",
    "\n",
    "parameters = {'max_depth':[2, 3, 4, 5, 6],\\\n",
    "            'min_samples_split':[2, 3, 4, 5, 6],\\\n",
    "            'min_samples_leaf':[1, 5, 6, 7, 8]}\n",
    "\n",
    "def best_dtparam(clf, param, scoring_name, cv_num):\n",
    "    grid_cv = GridSearchCV(clf, param_grid=param, scoring=scoring_name, cv=cv_num,)\n",
    "    grid_cv.fit(X_train, y_train)\n",
    "    \n",
    "    print('GridSearchCV 최적 하이퍼 파라미터 :', grid_cv.best_params_)\n",
    "    print('GridSearchCV 최고 정확도 :{0:.4f}'.format(grid_cv.best_score_))\n",
    "    best_est = grid_cv.best_estimator_\n",
    "    \n",
    "    # GridSearchCV의 최적 하이퍼 마라미터로 학습된 Estimator로 예측 및 평가 수행\n",
    "    predictions = best_est.predict(X_test)\n",
    "    accuracy = accuracy_score(y_test, predictions)\n",
    "    print('테스트 세트에서의 DecisionTreeClassifier 정확도 : {0:.4f}'.format(accuracy))\n",
    "    \n",
    "best_dtparam(dt_clf, parameters, 'accuracy', 5)"
   ]
  },
  {
   "cell_type": "code",
   "execution_count": null,
   "metadata": {},
   "outputs": [],
   "source": [
    "# 최적 하이퍼 파라미터 적용\n",
    "dt_clf1 = DecisionTreeClassifier(max_depth=2, min_samples_split=2, min_samples_leaf=5)\n",
    "dt_clf1.fit(X_train, y_train)\n",
    "dt1_pred = dt_clf1.predict(X_test)\n",
    "print('예측 정확도: {0:.4f}'.format(accuracy_score(y_test, dt1_pred)))"
   ]
  },
  {
   "cell_type": "markdown",
   "metadata": {},
   "source": [
    "## 피처중요도"
   ]
  },
  {
   "cell_type": "code",
   "execution_count": null,
   "metadata": {},
   "outputs": [],
   "source": [
    "import matplotlib.pyplot as plt\n",
    "import seaborn as sns\n",
    "\n",
    "plt.rcParams[\"font.family\"] = \"Malgun Gothic\"\n",
    "\n",
    "fig, axes = plt.subplots(2, 1, squeeze=False)\n",
    "fig.set_size_inches((16,14))\n",
    "\n",
    "plt.title(\"피처중요도\")\n",
    "sns.barplot(x=dt_clf.feature_importances_, y=data.columns, ax=axes[0,0])\n",
    "axes[0,0].title.set_text(\"DecisionTree 피처중요도\")\n",
    "sns.barplot(x=rf_clf1.feature_importances_, y=data.columns, ax=axes[1,0])\n",
    "axes[1,0].title.set_text(\"RandomForest 피처중요도\")\n",
    "\n",
    "plt.show()"
   ]
  },
  {
   "cell_type": "markdown",
   "metadata": {},
   "source": [
    "## 모델 성능 평가"
   ]
  },
  {
   "cell_type": "code",
   "execution_count": null,
   "metadata": {},
   "outputs": [],
   "source": [
    "from sklearn.metrics import accuracy_score, precision_score, recall_score, confusion_matrix, f1_score, roc_auc_score\n",
    "\n",
    "# 오차행렬, 정확도, 정밀도, 재현율, F1스코어 함수에 ROC_AUC 추가\n",
    "def get_clf_eval(y_test, pred=None, pred_proba=None):\n",
    "    confusion = confusion_matrix(y_test, pred)\n",
    "    accuracy = accuracy_score(y_test, pred)\n",
    "    precision = precision_score(y_test, pred)\n",
    "    recall = recall_score(y_test, pred)\n",
    "    f1 = f1_score(y_test, pred)\n",
    "    roc_auc = roc_auc_score(y_test, pred_proba)\n",
    "    print('오차행렬')\n",
    "    print(confusion)\n",
    "    print('정확도: {0:.4f}, 정밀도: {1:.4f}, 재현율: {2:.4f}, F1:{3:.4f}, AUC:{4:.4f}'.format(accuracy, precision, recall, f1, roc_auc))"
   ]
  },
  {
   "cell_type": "code",
   "execution_count": null,
   "metadata": {},
   "outputs": [],
   "source": [
    "get_clf_eval(y_test, preds, pred_probs)"
   ]
  }
 ],
 "metadata": {
  "kernelspec": {
   "display_name": "Python 3.10.1 64-bit",
   "language": "python",
   "name": "python3"
  },
  "language_info": {
   "codemirror_mode": {
    "name": "ipython",
    "version": 3
   },
   "file_extension": ".py",
   "mimetype": "text/x-python",
   "name": "python",
   "nbconvert_exporter": "python",
   "pygments_lexer": "ipython3",
   "version": "3.10.1"
  },
  "orig_nbformat": 4,
  "vscode": {
   "interpreter": {
    "hash": "664601c8c9e5ea170ac235a51849067b39cba8c284ace64cc1dec43cb5b20d30"
   }
  }
 },
 "nbformat": 4,
 "nbformat_minor": 2
}
