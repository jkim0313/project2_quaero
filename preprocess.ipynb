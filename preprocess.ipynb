{
 "cells": [
  {
   "cell_type": "code",
   "execution_count": 1,
   "metadata": {},
   "outputs": [],
   "source": [
    "import pandas as pd"
   ]
  },
  {
   "cell_type": "code",
   "execution_count": 3,
   "metadata": {},
   "outputs": [],
   "source": [
    "consolidated = pd.read_csv('data/연결기업.csv', encoding='CP949')\n",
    "separate = pd.read_csv('data/별도기업.csv', encoding='CP949')"
   ]
  },
  {
   "cell_type": "code",
   "execution_count": 8,
   "metadata": {},
   "outputs": [],
   "source": [
    "pd.set_option('display.max_columns', None)\n",
    "pd.set_option('display.max_rows', None)"
   ]
  },
  {
   "cell_type": "code",
   "execution_count": 24,
   "metadata": {},
   "outputs": [
    {
     "data": {
      "text/plain": [
       "(19810, 70)"
      ]
     },
     "execution_count": 24,
     "metadata": {},
     "output_type": "execute_result"
    }
   ],
   "source": [
    "consolidated.shape"
   ]
  },
  {
   "cell_type": "code",
   "execution_count": 25,
   "metadata": {},
   "outputs": [
    {
     "data": {
      "text/plain": [
       "(22145, 70)"
      ]
     },
     "execution_count": 25,
     "metadata": {},
     "output_type": "execute_result"
    }
   ],
   "source": [
    "separate.shape"
   ]
  },
  {
   "cell_type": "code",
   "execution_count": 9,
   "metadata": {},
   "outputs": [
    {
     "data": {
      "text/plain": [
       "회사명                              0\n",
       "거래소코드                            0\n",
       "회계년도                             0\n",
       "통계청 한국표준산업분류 10차(대분류)            0\n",
       "총자본증가율(IFRS연결)                3942\n",
       "정상영업이익증가율(IFRS연결)             3942\n",
       "순이익증가율(IFRS연결)                3942\n",
       "자기자본증가율(IFRS연결)               3942\n",
       "매출액증가율(IFRS연결)                3942\n",
       "종업원1인당 매출액증가율(IFRS)           1402\n",
       "유형자산증가율(IFRS연결)               3942\n",
       "유동자산증가율(IFRS연결)               3942\n",
       "재고자산증가율(IFRS연결)               3942\n",
       "매출액총이익률(IFRS연결)               3942\n",
       "매출액정상영업이익률(IFRS연결)            3942\n",
       "매출액순이익률(IFRS연결)               3942\n",
       "총자본순이익률(IFRS연결)               3942\n",
       "자기자본정상영업이익률(IFRS연결)           3942\n",
       "자기자본순이익률(IFRS연결)              3942\n",
       "금융비용부담률(IFRS연결)               3942\n",
       "수지비율(관계기업투자손익 제외)(IFRS연결)     3942\n",
       "사내유보 대 자기자본비율(IFRS연결)        19810\n",
       "1주당매출액(IFRS연결)(원)             3942\n",
       "1주당순이익(IFRS연결)(원)             3942\n",
       "1주당 CASH FLOW(IFRS연결)(원)      3942\n",
       "1주당순자산(IFRS연결)(원)            19810\n",
       "유보율(IFRS연결)                   3942\n",
       "금융손익비율(IFRS연결)                3942\n",
       "매출원가 대 매출액비율(IFRS연결)          3942\n",
       "이자부담률(IFRS연결)                 3942\n",
       "지급이자율(IFRS연결)                 3942\n",
       "차입금평균이자율(IFRS연결)              3942\n",
       "자기자본구성비율(IFRS연결)              3942\n",
       "유동비율(IFRS연결)                  3942\n",
       "당좌비율(IFRS연결)                  3942\n",
       "현금비율(IFRS연결)                  3941\n",
       "재고자산 대 순운전자본비율(IFRS연결)        3942\n",
       "매출채권 대 매입채무비율(IFRS연결)         3942\n",
       "부채비율(IFRS연결)                  3942\n",
       "이자보상배율(이자비용)(IFRS연결)          3942\n",
       "CASH FLOW 대 부채비율(IFRS연결)      3942\n",
       "CASH FLOW 대 차입금비율(IFRS연결)     3942\n",
       "CASH FLOW 대 총자본비율(IFRS연결)     3942\n",
       "유동자산구성비율(IFRS연결)              3942\n",
       "재고자산 대 유동자산비율(IFRS연결)         3942\n",
       "타인자본구성비율(IFRS연결)              3942\n",
       "자기자본배율(IFRS연결)                3942\n",
       "매출채권비율(IFRS연결)                3942\n",
       "유동부채비율(IFRS연결)                3942\n",
       "단기차입금 대 총차입금비율(IFRS연결)        3942\n",
       "차입금의존도(IFRS연결)                3942\n",
       "차입금비율(IFRS연결)                 3942\n",
       "총자본회전률(IFRS연결)                3942\n",
       "자기자본회전률(IFRS연결)               3942\n",
       "타인자본회전률(IFRS연결)               3942\n",
       "유동자산회전률(IFRS연결)               3942\n",
       "당좌자산회전률(IFRS연결)               3942\n",
       "재고자산회전률(IFRS연결)               3942\n",
       "매출채권회전률(IFRS연결)               3942\n",
       "순운전자본회전률(IFRS연결)              3942\n",
       "운전자본회전률(IFRS연결)               3942\n",
       "유형자산회전율(IFRS연결)               3942\n",
       "종업원1인당 부가가치(IFRS연결)(백만원)     19810\n",
       "노동장비율(IFRS연결)                19810\n",
       "기계장비율(IFRS연결)                19810\n",
       "자본집약도(IFRS연결)                19810\n",
       "총자본투자효율(IFRS연결)               3942\n",
       "설비투자효율(IFRS연결)                3942\n",
       "기계투자효율(IFRS연결)                3942\n",
       "부가가치율(IFRS연결)                 3942\n",
       "노동소득분배율(IFRS연결)               3942\n",
       "dtype: int64"
      ]
     },
     "execution_count": 9,
     "metadata": {},
     "output_type": "execute_result"
    }
   ],
   "source": [
    "consolidated.isna().sum()"
   ]
  },
  {
   "cell_type": "code",
   "execution_count": 10,
   "metadata": {},
   "outputs": [
    {
     "data": {
      "text/plain": [
       "회사명                           0\n",
       "회계년도                          0\n",
       "통계청 한국표준산업분류 10차(대분류)         0\n",
       "종업원수증가율(IFRS)              1699\n",
       "매출액총이익률(IFRS)              1699\n",
       "매출액정상영업이익률(IFRS)           1699\n",
       "매출액순이익률(IFRS)              1699\n",
       "자기자본정상영업이익률(IFRS)          1699\n",
       "자기자본순이익률(IFRS)             1699\n",
       "금융손익비율(IFRS)               1699\n",
       "금융비용부담률(IFRS)              1699\n",
       "수지비율(관계기업투자손익 제외)(IFRS)    1699\n",
       "사내유보 대 자기자본비율(IFRS)        1699\n",
       "유보율(IFRS)                  1699\n",
       "1주당매출액(IFRS)(원)            1699\n",
       "1주당순이익(IFRS)(원)            1699\n",
       "1주당 CASH FLOW(IFRS)(원)     1699\n",
       "1주당순자산(IFRS)(원)            1699\n",
       "매출원가 대 매출액비율(IFRS)         1699\n",
       "이자부담률(IFRS)                1699\n",
       "지급이자율(IFRS)                1699\n",
       "차입금평균이자율(IFRS)             1699\n",
       "총자본순이익률(IFRS)              1699\n",
       "유동자산구성비율(IFRS)             1699\n",
       "재고자산 대 유동자산비율(IFRS)        1699\n",
       "자기자본배율(IFRS)               1699\n",
       "자기자본구성비율(IFRS)             1699\n",
       "유동비율(IFRS)                 1699\n",
       "당좌비율(IFRS)                 1699\n",
       "현금비율(IFRS)                 1698\n",
       "재고자산 대 순운전자본비율(IFRS)       1699\n",
       "매출채권 대 매입채무비율(IFRS)        1699\n",
       "부채비율(IFRS)                 1699\n",
       "이자보상배율(이자비용)(IFRS)         1699\n",
       "CASH FLOW 대 부채비율(IFRS)     1699\n",
       "CASH FLOW 대 차입금비율(IFRS)    1699\n",
       "CASH FLOW 대 총자본비율(IFRS)    1699\n",
       "타인자본구성비율(IFRS)             1699\n",
       "매출채권비율(IFRS)               1699\n",
       "유동부채비율(IFRS)               1699\n",
       "단기차입금 대 총차입금비율(IFRS)       1699\n",
       "차입금의존도(IFRS)               1699\n",
       "차입금비율(IFRS)                1699\n",
       "총자본회전률(IFRS)               1699\n",
       "자기자본회전률(IFRS)              1699\n",
       "타인자본회전률(IFRS)              1699\n",
       "유동자산회전률(IFRS)              1699\n",
       "당좌자산회전률(IFRS)              1699\n",
       "재고자산회전률(IFRS)              1699\n",
       "매출채권회전률(IFRS)              1699\n",
       "순운전자본회전률(IFRS)             1699\n",
       "운전자본회전률(IFRS)              1699\n",
       "유형자산회전율(IFRS)              1699\n",
       "종업원1인당 부가가치(IFRS)(백만원)     1703\n",
       "노동장비율(IFRS)                1703\n",
       "기계장비율(IFRS)                1703\n",
       "자본집약도(IFRS)                1703\n",
       "총자본투자효율(IFRS)              1703\n",
       "설비투자효율(IFRS)               1703\n",
       "기계투자효율(IFRS)               1703\n",
       "부가가치율(IFRS)                1703\n",
       "노동소득분배율(IFRS)              1703\n",
       "총자본증가율(IFRS)               1699\n",
       "유형자산증가율(IFRS)              1699\n",
       "정상영업이익증가율(IFRS)            1699\n",
       "순이익증가율(IFRS)               1699\n",
       "자기자본증가율(IFRS)              1699\n",
       "매출액증가율(IFRS)               1699\n",
       "유동자산증가율(IFRS)              1699\n",
       "재고자산증가율(IFRS)              1699\n",
       "dtype: int64"
      ]
     },
     "execution_count": 10,
     "metadata": {},
     "output_type": "execute_result"
    }
   ],
   "source": [
    "separate.isna().sum()"
   ]
  },
  {
   "cell_type": "code",
   "execution_count": null,
   "metadata": {},
   "outputs": [],
   "source": [
    "consolidated.drop([\"거래소코드\"], axis=1, inplace=True)"
   ]
  },
  {
   "cell_type": "code",
   "execution_count": 11,
   "metadata": {},
   "outputs": [
    {
     "data": {
      "text/plain": [
       "Index(['회사명', '회계년도', '통계청 한국표준산업분류 10차(대분류)', '총자본증가율(IFRS연결)',\n",
       "       '정상영업이익증가율(IFRS연결)', '순이익증가율(IFRS연결)', '자기자본증가율(IFRS연결)',\n",
       "       '매출액증가율(IFRS연결)', '종업원1인당 매출액증가율(IFRS)', '유형자산증가율(IFRS연결)',\n",
       "       '유동자산증가율(IFRS연결)', '재고자산증가율(IFRS연결)', '매출액총이익률(IFRS연결)',\n",
       "       '매출액정상영업이익률(IFRS연결)', '매출액순이익률(IFRS연결)', '총자본순이익률(IFRS연결)',\n",
       "       '자기자본정상영업이익률(IFRS연결)', '자기자본순이익률(IFRS연결)', '금융비용부담률(IFRS연결)',\n",
       "       '수지비율(관계기업투자손익 제외)(IFRS연결)', '사내유보 대 자기자본비율(IFRS연결)',\n",
       "       '1주당매출액(IFRS연결)(원)', '1주당순이익(IFRS연결)(원)', '1주당 CASH FLOW(IFRS연결)(원)',\n",
       "       '1주당순자산(IFRS연결)(원)', '유보율(IFRS연결)', '금융손익비율(IFRS연결)',\n",
       "       '매출원가 대 매출액비율(IFRS연결)', '이자부담률(IFRS연결)', '지급이자율(IFRS연결)',\n",
       "       '차입금평균이자율(IFRS연결)', '자기자본구성비율(IFRS연결)', '유동비율(IFRS연결)', '당좌비율(IFRS연결)',\n",
       "       '현금비율(IFRS연결)', '재고자산 대 순운전자본비율(IFRS연결)', '매출채권 대 매입채무비율(IFRS연결)',\n",
       "       '부채비율(IFRS연결)', '이자보상배율(이자비용)(IFRS연결)', 'CASH FLOW 대 부채비율(IFRS연결)',\n",
       "       'CASH FLOW 대 차입금비율(IFRS연결)', 'CASH FLOW 대 총자본비율(IFRS연결)',\n",
       "       '유동자산구성비율(IFRS연결)', '재고자산 대 유동자산비율(IFRS연결)', '타인자본구성비율(IFRS연결)',\n",
       "       '자기자본배율(IFRS연결)', '매출채권비율(IFRS연결)', '유동부채비율(IFRS연결)',\n",
       "       '단기차입금 대 총차입금비율(IFRS연결)', '차입금의존도(IFRS연결)', '차입금비율(IFRS연결)',\n",
       "       '총자본회전률(IFRS연결)', '자기자본회전률(IFRS연결)', '타인자본회전률(IFRS연결)',\n",
       "       '유동자산회전률(IFRS연결)', '당좌자산회전률(IFRS연결)', '재고자산회전률(IFRS연결)',\n",
       "       '매출채권회전률(IFRS연결)', '순운전자본회전률(IFRS연결)', '운전자본회전률(IFRS연결)',\n",
       "       '유형자산회전율(IFRS연결)', '종업원1인당 부가가치(IFRS연결)(백만원)', '노동장비율(IFRS연결)',\n",
       "       '기계장비율(IFRS연결)', '자본집약도(IFRS연결)', '총자본투자효율(IFRS연결)', '설비투자효율(IFRS연결)',\n",
       "       '기계투자효율(IFRS연결)', '부가가치율(IFRS연결)', '노동소득분배율(IFRS연결)'],\n",
       "      dtype='object')"
      ]
     },
     "execution_count": 11,
     "metadata": {},
     "output_type": "execute_result"
    }
   ],
   "source": [
    "consolidated.columns"
   ]
  },
  {
   "cell_type": "code",
   "execution_count": 23,
   "metadata": {},
   "outputs": [
    {
     "data": {
      "text/plain": [
       "Index(['회사명', '회계년도', '통계청 한국표준산업분류 10차(대분류)', '종업원수증가율(IFRS)',\n",
       "       '매출액총이익률(IFRS)', '매출액정상영업이익률(IFRS)', '매출액순이익률(IFRS)',\n",
       "       '자기자본정상영업이익률(IFRS)', '자기자본순이익률(IFRS)', '금융손익비율(IFRS)', '금융비용부담률(IFRS)',\n",
       "       '수지비율(관계기업투자손익 제외)(IFRS)', '사내유보 대 자기자본비율(IFRS)', '유보율(IFRS)',\n",
       "       '1주당매출액(IFRS)(원)', '1주당순이익(IFRS)(원)', '1주당 CASH FLOW(IFRS)(원)',\n",
       "       '1주당순자산(IFRS)(원)', '매출원가 대 매출액비율(IFRS)', '이자부담률(IFRS)', '지급이자율(IFRS)',\n",
       "       '차입금평균이자율(IFRS)', '총자본순이익률(IFRS)', '유동자산구성비율(IFRS)',\n",
       "       '재고자산 대 유동자산비율(IFRS)', '자기자본배율(IFRS)', '자기자본구성비율(IFRS)', '유동비율(IFRS)',\n",
       "       '당좌비율(IFRS)', '현금비율(IFRS)', '재고자산 대 순운전자본비율(IFRS)',\n",
       "       '매출채권 대 매입채무비율(IFRS)', '부채비율(IFRS)', '이자보상배율(이자비용)(IFRS)',\n",
       "       'CASH FLOW 대 부채비율(IFRS)', 'CASH FLOW 대 차입금비율(IFRS)',\n",
       "       'CASH FLOW 대 총자본비율(IFRS)', '타인자본구성비율(IFRS)', '매출채권비율(IFRS)',\n",
       "       '유동부채비율(IFRS)', '단기차입금 대 총차입금비율(IFRS)', '차입금의존도(IFRS)', '차입금비율(IFRS)',\n",
       "       '총자본회전률(IFRS)', '자기자본회전률(IFRS)', '타인자본회전률(IFRS)', '유동자산회전률(IFRS)',\n",
       "       '당좌자산회전률(IFRS)', '재고자산회전률(IFRS)', '매출채권회전률(IFRS)', '순운전자본회전률(IFRS)',\n",
       "       '운전자본회전률(IFRS)', '유형자산회전율(IFRS)', '종업원1인당 부가가치(IFRS)(백만원)',\n",
       "       '노동장비율(IFRS)', '기계장비율(IFRS)', '자본집약도(IFRS)', '총자본투자효율(IFRS)',\n",
       "       '설비투자효율(IFRS)', '기계투자효율(IFRS)', '부가가치율(IFRS)', '노동소득분배율(IFRS)',\n",
       "       '총자본증가율(IFRS)', '유형자산증가율(IFRS)', '정상영업이익증가율(IFRS)', '순이익증가율(IFRS)',\n",
       "       '자기자본증가율(IFRS)', '매출액증가율(IFRS)', '유동자산증가율(IFRS)', '재고자산증가율(IFRS)'],\n",
       "      dtype='object')"
      ]
     },
     "execution_count": 23,
     "metadata": {},
     "output_type": "execute_result"
    }
   ],
   "source": [
    "separate.columns"
   ]
  },
  {
   "cell_type": "code",
   "execution_count": 22,
   "metadata": {},
   "outputs": [
    {
     "ename": "KeyError",
     "evalue": "\"['종업원1인당 매출액증가율(IFRS)'] not in index\"",
     "output_type": "error",
     "traceback": [
      "\u001b[1;31m---------------------------------------------------------------------------\u001b[0m",
      "\u001b[1;31mKeyError\u001b[0m                                  Traceback (most recent call last)",
      "\u001b[1;32mc:\\project2_quaero\\preprocess.ipynb 셀 12\u001b[0m in \u001b[0;36m<cell line: 1>\u001b[1;34m()\u001b[0m\n\u001b[1;32m----> <a href='vscode-notebook-cell:/c%3A/project2_quaero/preprocess.ipynb#X11sZmlsZQ%3D%3D?line=0'>1</a>\u001b[0m separate \u001b[39m=\u001b[39m separate[[\u001b[39m'\u001b[39;49m\u001b[39m회사명\u001b[39;49m\u001b[39m'\u001b[39;49m, \u001b[39m'\u001b[39;49m\u001b[39m회계년도\u001b[39;49m\u001b[39m'\u001b[39;49m, \u001b[39m'\u001b[39;49m\u001b[39m통계청 한국표준산업분류 10차(대분류)\u001b[39;49m\u001b[39m'\u001b[39;49m, \u001b[39m'\u001b[39;49m\u001b[39m총자본증가율(IFRS)\u001b[39;49m\u001b[39m'\u001b[39;49m,\n\u001b[0;32m      <a href='vscode-notebook-cell:/c%3A/project2_quaero/preprocess.ipynb#X11sZmlsZQ%3D%3D?line=1'>2</a>\u001b[0m        \u001b[39m'\u001b[39;49m\u001b[39m정상영업이익증가율(IFRS)\u001b[39;49m\u001b[39m'\u001b[39;49m, \u001b[39m'\u001b[39;49m\u001b[39m순이익증가율(IFRS)\u001b[39;49m\u001b[39m'\u001b[39;49m, \u001b[39m'\u001b[39;49m\u001b[39m자기자본증가율(IFRS)\u001b[39;49m\u001b[39m'\u001b[39;49m,\n\u001b[0;32m      <a href='vscode-notebook-cell:/c%3A/project2_quaero/preprocess.ipynb#X11sZmlsZQ%3D%3D?line=2'>3</a>\u001b[0m        \u001b[39m'\u001b[39;49m\u001b[39m매출액증가율(IFRS)\u001b[39;49m\u001b[39m'\u001b[39;49m, \u001b[39m'\u001b[39;49m\u001b[39m종업원1인당 매출액증가율(IFRS)\u001b[39;49m\u001b[39m'\u001b[39;49m, \u001b[39m'\u001b[39;49m\u001b[39m유형자산증가율(IFRS)\u001b[39;49m\u001b[39m'\u001b[39;49m,\n\u001b[0;32m      <a href='vscode-notebook-cell:/c%3A/project2_quaero/preprocess.ipynb#X11sZmlsZQ%3D%3D?line=3'>4</a>\u001b[0m        \u001b[39m'\u001b[39;49m\u001b[39m유동자산증가율(IFRS)\u001b[39;49m\u001b[39m'\u001b[39;49m, \u001b[39m'\u001b[39;49m\u001b[39m재고자산증가율(IFRS)\u001b[39;49m\u001b[39m'\u001b[39;49m, \u001b[39m'\u001b[39;49m\u001b[39m매출액총이익률(IFRS)\u001b[39;49m\u001b[39m'\u001b[39;49m,\n\u001b[0;32m      <a href='vscode-notebook-cell:/c%3A/project2_quaero/preprocess.ipynb#X11sZmlsZQ%3D%3D?line=4'>5</a>\u001b[0m        \u001b[39m'\u001b[39;49m\u001b[39m매출액정상영업이익률(IFRS)\u001b[39;49m\u001b[39m'\u001b[39;49m, \u001b[39m'\u001b[39;49m\u001b[39m매출액순이익률(IFRS)\u001b[39;49m\u001b[39m'\u001b[39;49m, \u001b[39m'\u001b[39;49m\u001b[39m총자본순이익률(IFRS)\u001b[39;49m\u001b[39m'\u001b[39;49m,\n\u001b[0;32m      <a href='vscode-notebook-cell:/c%3A/project2_quaero/preprocess.ipynb#X11sZmlsZQ%3D%3D?line=5'>6</a>\u001b[0m        \u001b[39m'\u001b[39;49m\u001b[39m자기자본정상영업이익률(IFRS)\u001b[39;49m\u001b[39m'\u001b[39;49m, \u001b[39m'\u001b[39;49m\u001b[39m자기자본순이익률(IFRS)\u001b[39;49m\u001b[39m'\u001b[39;49m, \u001b[39m'\u001b[39;49m\u001b[39m금융비용부담률(IFRS)\u001b[39;49m\u001b[39m'\u001b[39;49m,\n\u001b[0;32m      <a href='vscode-notebook-cell:/c%3A/project2_quaero/preprocess.ipynb#X11sZmlsZQ%3D%3D?line=6'>7</a>\u001b[0m        \u001b[39m'\u001b[39;49m\u001b[39m수지비율(관계기업투자손익 제외)(IFRS)\u001b[39;49m\u001b[39m'\u001b[39;49m, \u001b[39m'\u001b[39;49m\u001b[39m사내유보 대 자기자본비율(IFRS)\u001b[39;49m\u001b[39m'\u001b[39;49m,\n\u001b[0;32m      <a href='vscode-notebook-cell:/c%3A/project2_quaero/preprocess.ipynb#X11sZmlsZQ%3D%3D?line=7'>8</a>\u001b[0m        \u001b[39m'\u001b[39;49m\u001b[39m1주당매출액(IFRS)(원)\u001b[39;49m\u001b[39m'\u001b[39;49m, \u001b[39m'\u001b[39;49m\u001b[39m1주당순이익(IFRS)(원)\u001b[39;49m\u001b[39m'\u001b[39;49m, \u001b[39m'\u001b[39;49m\u001b[39m1주당 CASH FLOW(IFRS)(원)\u001b[39;49m\u001b[39m'\u001b[39;49m,\n\u001b[0;32m      <a href='vscode-notebook-cell:/c%3A/project2_quaero/preprocess.ipynb#X11sZmlsZQ%3D%3D?line=8'>9</a>\u001b[0m        \u001b[39m'\u001b[39;49m\u001b[39m1주당순자산(IFRS)(원)\u001b[39;49m\u001b[39m'\u001b[39;49m, \u001b[39m'\u001b[39;49m\u001b[39m유보율(IFRS)\u001b[39;49m\u001b[39m'\u001b[39;49m, \u001b[39m'\u001b[39;49m\u001b[39m금융손익비율(IFRS)\u001b[39;49m\u001b[39m'\u001b[39;49m,\n\u001b[0;32m     <a href='vscode-notebook-cell:/c%3A/project2_quaero/preprocess.ipynb#X11sZmlsZQ%3D%3D?line=9'>10</a>\u001b[0m        \u001b[39m'\u001b[39;49m\u001b[39m매출원가 대 매출액비율(IFRS)\u001b[39;49m\u001b[39m'\u001b[39;49m, \u001b[39m'\u001b[39;49m\u001b[39m이자부담률(IFRS)\u001b[39;49m\u001b[39m'\u001b[39;49m, \u001b[39m'\u001b[39;49m\u001b[39m지급이자율(IFRS)\u001b[39;49m\u001b[39m'\u001b[39;49m,\n\u001b[0;32m     <a href='vscode-notebook-cell:/c%3A/project2_quaero/preprocess.ipynb#X11sZmlsZQ%3D%3D?line=10'>11</a>\u001b[0m        \u001b[39m'\u001b[39;49m\u001b[39m차입금평균이자율(IFRS)\u001b[39;49m\u001b[39m'\u001b[39;49m, \u001b[39m'\u001b[39;49m\u001b[39m자기자본구성비율(IFRS)\u001b[39;49m\u001b[39m'\u001b[39;49m, \u001b[39m'\u001b[39;49m\u001b[39m유동비율(IFRS)\u001b[39;49m\u001b[39m'\u001b[39;49m, \u001b[39m'\u001b[39;49m\u001b[39m당좌비율(IFRS)\u001b[39;49m\u001b[39m'\u001b[39;49m,\n\u001b[0;32m     <a href='vscode-notebook-cell:/c%3A/project2_quaero/preprocess.ipynb#X11sZmlsZQ%3D%3D?line=11'>12</a>\u001b[0m        \u001b[39m'\u001b[39;49m\u001b[39m현금비율(IFRS)\u001b[39;49m\u001b[39m'\u001b[39;49m, \u001b[39m'\u001b[39;49m\u001b[39m재고자산 대 순운전자본비율(IFRS)\u001b[39;49m\u001b[39m'\u001b[39;49m, \u001b[39m'\u001b[39;49m\u001b[39m매출채권 대 매입채무비율(IFRS)\u001b[39;49m\u001b[39m'\u001b[39;49m,\n\u001b[0;32m     <a href='vscode-notebook-cell:/c%3A/project2_quaero/preprocess.ipynb#X11sZmlsZQ%3D%3D?line=12'>13</a>\u001b[0m        \u001b[39m'\u001b[39;49m\u001b[39m부채비율(IFRS)\u001b[39;49m\u001b[39m'\u001b[39;49m, \u001b[39m'\u001b[39;49m\u001b[39m이자보상배율(이자비용)(IFRS)\u001b[39;49m\u001b[39m'\u001b[39;49m, \u001b[39m'\u001b[39;49m\u001b[39mCASH FLOW 대 부채비율(IFRS)\u001b[39;49m\u001b[39m'\u001b[39;49m,\n\u001b[0;32m     <a href='vscode-notebook-cell:/c%3A/project2_quaero/preprocess.ipynb#X11sZmlsZQ%3D%3D?line=13'>14</a>\u001b[0m        \u001b[39m'\u001b[39;49m\u001b[39mCASH FLOW 대 차입금비율(IFRS)\u001b[39;49m\u001b[39m'\u001b[39;49m, \u001b[39m'\u001b[39;49m\u001b[39mCASH FLOW 대 총자본비율(IFRS)\u001b[39;49m\u001b[39m'\u001b[39;49m,\n\u001b[0;32m     <a href='vscode-notebook-cell:/c%3A/project2_quaero/preprocess.ipynb#X11sZmlsZQ%3D%3D?line=14'>15</a>\u001b[0m        \u001b[39m'\u001b[39;49m\u001b[39m유동자산구성비율(IFRS)\u001b[39;49m\u001b[39m'\u001b[39;49m, \u001b[39m'\u001b[39;49m\u001b[39m재고자산 대 유동자산비율(IFRS)\u001b[39;49m\u001b[39m'\u001b[39;49m, \u001b[39m'\u001b[39;49m\u001b[39m타인자본구성비율(IFRS)\u001b[39;49m\u001b[39m'\u001b[39;49m,\n\u001b[0;32m     <a href='vscode-notebook-cell:/c%3A/project2_quaero/preprocess.ipynb#X11sZmlsZQ%3D%3D?line=15'>16</a>\u001b[0m        \u001b[39m'\u001b[39;49m\u001b[39m자기자본배율(IFRS)\u001b[39;49m\u001b[39m'\u001b[39;49m, \u001b[39m'\u001b[39;49m\u001b[39m매출채권비율(IFRS)\u001b[39;49m\u001b[39m'\u001b[39;49m, \u001b[39m'\u001b[39;49m\u001b[39m유동부채비율(IFRS)\u001b[39;49m\u001b[39m'\u001b[39;49m,\n\u001b[0;32m     <a href='vscode-notebook-cell:/c%3A/project2_quaero/preprocess.ipynb#X11sZmlsZQ%3D%3D?line=16'>17</a>\u001b[0m        \u001b[39m'\u001b[39;49m\u001b[39m단기차입금 대 총차입금비율(IFRS)\u001b[39;49m\u001b[39m'\u001b[39;49m, \u001b[39m'\u001b[39;49m\u001b[39m차입금의존도(IFRS)\u001b[39;49m\u001b[39m'\u001b[39;49m, \u001b[39m'\u001b[39;49m\u001b[39m차입금비율(IFRS)\u001b[39;49m\u001b[39m'\u001b[39;49m,\n\u001b[0;32m     <a href='vscode-notebook-cell:/c%3A/project2_quaero/preprocess.ipynb#X11sZmlsZQ%3D%3D?line=17'>18</a>\u001b[0m        \u001b[39m'\u001b[39;49m\u001b[39m총자본회전률(IFRS)\u001b[39;49m\u001b[39m'\u001b[39;49m, \u001b[39m'\u001b[39;49m\u001b[39m자기자본회전률(IFRS)\u001b[39;49m\u001b[39m'\u001b[39;49m, \u001b[39m'\u001b[39;49m\u001b[39m타인자본회전률(IFRS)\u001b[39;49m\u001b[39m'\u001b[39;49m,\n\u001b[0;32m     <a href='vscode-notebook-cell:/c%3A/project2_quaero/preprocess.ipynb#X11sZmlsZQ%3D%3D?line=18'>19</a>\u001b[0m        \u001b[39m'\u001b[39;49m\u001b[39m유동자산회전률(IFRS)\u001b[39;49m\u001b[39m'\u001b[39;49m, \u001b[39m'\u001b[39;49m\u001b[39m당좌자산회전률(IFRS)\u001b[39;49m\u001b[39m'\u001b[39;49m, \u001b[39m'\u001b[39;49m\u001b[39m재고자산회전률(IFRS)\u001b[39;49m\u001b[39m'\u001b[39;49m,\n\u001b[0;32m     <a href='vscode-notebook-cell:/c%3A/project2_quaero/preprocess.ipynb#X11sZmlsZQ%3D%3D?line=19'>20</a>\u001b[0m        \u001b[39m'\u001b[39;49m\u001b[39m매출채권회전률(IFRS)\u001b[39;49m\u001b[39m'\u001b[39;49m, \u001b[39m'\u001b[39;49m\u001b[39m순운전자본회전률(IFRS)\u001b[39;49m\u001b[39m'\u001b[39;49m, \u001b[39m'\u001b[39;49m\u001b[39m운전자본회전률(IFRS)\u001b[39;49m\u001b[39m'\u001b[39;49m,\n\u001b[0;32m     <a href='vscode-notebook-cell:/c%3A/project2_quaero/preprocess.ipynb#X11sZmlsZQ%3D%3D?line=20'>21</a>\u001b[0m        \u001b[39m'\u001b[39;49m\u001b[39m유형자산회전율(IFRS)\u001b[39;49m\u001b[39m'\u001b[39;49m, \u001b[39m'\u001b[39;49m\u001b[39m종업원1인당 부가가치(IFRS)(백만원)\u001b[39;49m\u001b[39m'\u001b[39;49m, \u001b[39m'\u001b[39;49m\u001b[39m노동장비율(IFRS)\u001b[39;49m\u001b[39m'\u001b[39;49m,\n\u001b[0;32m     <a href='vscode-notebook-cell:/c%3A/project2_quaero/preprocess.ipynb#X11sZmlsZQ%3D%3D?line=21'>22</a>\u001b[0m        \u001b[39m'\u001b[39;49m\u001b[39m기계장비율(IFRS)\u001b[39;49m\u001b[39m'\u001b[39;49m, \u001b[39m'\u001b[39;49m\u001b[39m자본집약도(IFRS)\u001b[39;49m\u001b[39m'\u001b[39;49m, \u001b[39m'\u001b[39;49m\u001b[39m총자본투자효율(IFRS)\u001b[39;49m\u001b[39m'\u001b[39;49m, \u001b[39m'\u001b[39;49m\u001b[39m설비투자효율(IFRS)\u001b[39;49m\u001b[39m'\u001b[39;49m,\n\u001b[0;32m     <a href='vscode-notebook-cell:/c%3A/project2_quaero/preprocess.ipynb#X11sZmlsZQ%3D%3D?line=22'>23</a>\u001b[0m        \u001b[39m'\u001b[39;49m\u001b[39m기계투자효율(IFRS)\u001b[39;49m\u001b[39m'\u001b[39;49m, \u001b[39m'\u001b[39;49m\u001b[39m부가가치율(IFRS)\u001b[39;49m\u001b[39m'\u001b[39;49m, \u001b[39m'\u001b[39;49m\u001b[39m노동소득분배율(IFRS)\u001b[39;49m\u001b[39m'\u001b[39;49m]]\n\u001b[0;32m     <a href='vscode-notebook-cell:/c%3A/project2_quaero/preprocess.ipynb#X11sZmlsZQ%3D%3D?line=23'>24</a>\u001b[0m separate\u001b[39m.\u001b[39mcolumns\n",
      "File \u001b[1;32mc:\\Users\\wndgj\\AppData\\Local\\Programs\\Python\\Python310\\lib\\site-packages\\pandas\\core\\frame.py:3511\u001b[0m, in \u001b[0;36mDataFrame.__getitem__\u001b[1;34m(self, key)\u001b[0m\n\u001b[0;32m   3509\u001b[0m     \u001b[39mif\u001b[39;00m is_iterator(key):\n\u001b[0;32m   3510\u001b[0m         key \u001b[39m=\u001b[39m \u001b[39mlist\u001b[39m(key)\n\u001b[1;32m-> 3511\u001b[0m     indexer \u001b[39m=\u001b[39m \u001b[39mself\u001b[39;49m\u001b[39m.\u001b[39;49mcolumns\u001b[39m.\u001b[39;49m_get_indexer_strict(key, \u001b[39m\"\u001b[39;49m\u001b[39mcolumns\u001b[39;49m\u001b[39m\"\u001b[39;49m)[\u001b[39m1\u001b[39m]\n\u001b[0;32m   3513\u001b[0m \u001b[39m# take() does not accept boolean indexers\u001b[39;00m\n\u001b[0;32m   3514\u001b[0m \u001b[39mif\u001b[39;00m \u001b[39mgetattr\u001b[39m(indexer, \u001b[39m\"\u001b[39m\u001b[39mdtype\u001b[39m\u001b[39m\"\u001b[39m, \u001b[39mNone\u001b[39;00m) \u001b[39m==\u001b[39m \u001b[39mbool\u001b[39m:\n",
      "File \u001b[1;32mc:\\Users\\wndgj\\AppData\\Local\\Programs\\Python\\Python310\\lib\\site-packages\\pandas\\core\\indexes\\base.py:5782\u001b[0m, in \u001b[0;36mIndex._get_indexer_strict\u001b[1;34m(self, key, axis_name)\u001b[0m\n\u001b[0;32m   5779\u001b[0m \u001b[39melse\u001b[39;00m:\n\u001b[0;32m   5780\u001b[0m     keyarr, indexer, new_indexer \u001b[39m=\u001b[39m \u001b[39mself\u001b[39m\u001b[39m.\u001b[39m_reindex_non_unique(keyarr)\n\u001b[1;32m-> 5782\u001b[0m \u001b[39mself\u001b[39;49m\u001b[39m.\u001b[39;49m_raise_if_missing(keyarr, indexer, axis_name)\n\u001b[0;32m   5784\u001b[0m keyarr \u001b[39m=\u001b[39m \u001b[39mself\u001b[39m\u001b[39m.\u001b[39mtake(indexer)\n\u001b[0;32m   5785\u001b[0m \u001b[39mif\u001b[39;00m \u001b[39misinstance\u001b[39m(key, Index):\n\u001b[0;32m   5786\u001b[0m     \u001b[39m# GH 42790 - Preserve name from an Index\u001b[39;00m\n",
      "File \u001b[1;32mc:\\Users\\wndgj\\AppData\\Local\\Programs\\Python\\Python310\\lib\\site-packages\\pandas\\core\\indexes\\base.py:5845\u001b[0m, in \u001b[0;36mIndex._raise_if_missing\u001b[1;34m(self, key, indexer, axis_name)\u001b[0m\n\u001b[0;32m   5842\u001b[0m     \u001b[39mraise\u001b[39;00m \u001b[39mKeyError\u001b[39;00m(\u001b[39mf\u001b[39m\u001b[39m\"\u001b[39m\u001b[39mNone of [\u001b[39m\u001b[39m{\u001b[39;00mkey\u001b[39m}\u001b[39;00m\u001b[39m] are in the [\u001b[39m\u001b[39m{\u001b[39;00maxis_name\u001b[39m}\u001b[39;00m\u001b[39m]\u001b[39m\u001b[39m\"\u001b[39m)\n\u001b[0;32m   5844\u001b[0m not_found \u001b[39m=\u001b[39m \u001b[39mlist\u001b[39m(ensure_index(key)[missing_mask\u001b[39m.\u001b[39mnonzero()[\u001b[39m0\u001b[39m]]\u001b[39m.\u001b[39munique())\n\u001b[1;32m-> 5845\u001b[0m \u001b[39mraise\u001b[39;00m \u001b[39mKeyError\u001b[39;00m(\u001b[39mf\u001b[39m\u001b[39m\"\u001b[39m\u001b[39m{\u001b[39;00mnot_found\u001b[39m}\u001b[39;00m\u001b[39m not in index\u001b[39m\u001b[39m\"\u001b[39m)\n",
      "\u001b[1;31mKeyError\u001b[0m: \"['종업원1인당 매출액증가율(IFRS)'] not in index\""
     ]
    }
   ],
   "source": [
    "separate = separate[['회사명', '회계년도', '통계청 한국표준산업분류 10차(대분류)', '총자본증가율(IFRS)',\n",
    "       '정상영업이익증가율(IFRS)', '순이익증가율(IFRS)', '자기자본증가율(IFRS)',\n",
    "       '매출액증가율(IFRS)', '종업원1인당 매출액증가율(IFRS)', '유형자산증가율(IFRS)',\n",
    "       '유동자산증가율(IFRS)', '재고자산증가율(IFRS)', '매출액총이익률(IFRS)',\n",
    "       '매출액정상영업이익률(IFRS)', '매출액순이익률(IFRS)', '총자본순이익률(IFRS)',\n",
    "       '자기자본정상영업이익률(IFRS)', '자기자본순이익률(IFRS)', '금융비용부담률(IFRS)',\n",
    "       '수지비율(관계기업투자손익 제외)(IFRS)', '사내유보 대 자기자본비율(IFRS)',\n",
    "       '1주당매출액(IFRS)(원)', '1주당순이익(IFRS)(원)', '1주당 CASH FLOW(IFRS)(원)',\n",
    "       '1주당순자산(IFRS)(원)', '유보율(IFRS)', '금융손익비율(IFRS)',\n",
    "       '매출원가 대 매출액비율(IFRS)', '이자부담률(IFRS)', '지급이자율(IFRS)',\n",
    "       '차입금평균이자율(IFRS)', '자기자본구성비율(IFRS)', '유동비율(IFRS)', '당좌비율(IFRS)',\n",
    "       '현금비율(IFRS)', '재고자산 대 순운전자본비율(IFRS)', '매출채권 대 매입채무비율(IFRS)',\n",
    "       '부채비율(IFRS)', '이자보상배율(이자비용)(IFRS)', 'CASH FLOW 대 부채비율(IFRS)',\n",
    "       'CASH FLOW 대 차입금비율(IFRS)', 'CASH FLOW 대 총자본비율(IFRS)',\n",
    "       '유동자산구성비율(IFRS)', '재고자산 대 유동자산비율(IFRS)', '타인자본구성비율(IFRS)',\n",
    "       '자기자본배율(IFRS)', '매출채권비율(IFRS)', '유동부채비율(IFRS)',\n",
    "       '단기차입금 대 총차입금비율(IFRS)', '차입금의존도(IFRS)', '차입금비율(IFRS)',\n",
    "       '총자본회전률(IFRS)', '자기자본회전률(IFRS)', '타인자본회전률(IFRS)',\n",
    "       '유동자산회전률(IFRS)', '당좌자산회전률(IFRS)', '재고자산회전률(IFRS)',\n",
    "       '매출채권회전률(IFRS)', '순운전자본회전률(IFRS)', '운전자본회전률(IFRS)',\n",
    "       '유형자산회전율(IFRS)', '종업원1인당 부가가치(IFRS)(백만원)', '노동장비율(IFRS)',\n",
    "       '기계장비율(IFRS)', '자본집약도(IFRS)', '총자본투자효율(IFRS)', '설비투자효율(IFRS)',\n",
    "       '기계투자효율(IFRS)', '부가가치율(IFRS)', '노동소득분배율(IFRS)']]\n",
    "separate.columns"
   ]
  },
  {
   "cell_type": "code",
   "execution_count": null,
   "metadata": {},
   "outputs": [],
   "source": [
    "df = pd.merge(consolidated, separate, how='inner', on='회사명')"
   ]
  },
  {
   "cell_type": "code",
   "execution_count": null,
   "metadata": {},
   "outputs": [],
   "source": [
    "for i in consolidated.index:\n",
    "    for j in separate.index:\n",
    "        if consolidated.loc[i, :].isna():\n",
    "            consolidated.loc[i, :] = separate.loc[i, :]"
   ]
  }
 ],
 "metadata": {
  "kernelspec": {
   "display_name": "Python 3.10.1 64-bit",
   "language": "python",
   "name": "python3"
  },
  "language_info": {
   "codemirror_mode": {
    "name": "ipython",
    "version": 3
   },
   "file_extension": ".py",
   "mimetype": "text/x-python",
   "name": "python",
   "nbconvert_exporter": "python",
   "pygments_lexer": "ipython3",
   "version": "3.10.1"
  },
  "orig_nbformat": 4,
  "vscode": {
   "interpreter": {
    "hash": "664601c8c9e5ea170ac235a51849067b39cba8c284ace64cc1dec43cb5b20d30"
   }
  }
 },
 "nbformat": 4,
 "nbformat_minor": 2
}
