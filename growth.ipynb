{
 "cells": [
  {
   "cell_type": "code",
   "execution_count": 1,
   "metadata": {},
   "outputs": [],
   "source": [
    "import pandas as pd"
   ]
  },
  {
   "cell_type": "code",
   "execution_count": 7,
   "metadata": {},
   "outputs": [],
   "source": [
    "consolidated = pd.read_csv('data/연결기업_성장률.csv', encoding='CP949')\n",
    "separate = pd.read_csv('data/별도기업_성장률.csv', encoding='CP949')"
   ]
  },
  {
   "cell_type": "code",
   "execution_count": 8,
   "metadata": {},
   "outputs": [
    {
     "data": {
      "text/html": [
       "<div>\n",
       "<style scoped>\n",
       "    .dataframe tbody tr th:only-of-type {\n",
       "        vertical-align: middle;\n",
       "    }\n",
       "\n",
       "    .dataframe tbody tr th {\n",
       "        vertical-align: top;\n",
       "    }\n",
       "\n",
       "    .dataframe thead th {\n",
       "        text-align: right;\n",
       "    }\n",
       "</style>\n",
       "<table border=\"1\" class=\"dataframe\">\n",
       "  <thead>\n",
       "    <tr style=\"text-align: right;\">\n",
       "      <th></th>\n",
       "      <th>회사명</th>\n",
       "      <th>거래소코드</th>\n",
       "      <th>회계년도</th>\n",
       "      <th>* (정상)영업손익(보고서기재)(IFRS연결)</th>\n",
       "      <th>매출액(수익)(*)(IFRS연결)</th>\n",
       "      <th>당기순이익(손실)(IFRS연결)</th>\n",
       "    </tr>\n",
       "  </thead>\n",
       "  <tbody>\n",
       "    <tr>\n",
       "      <th>0</th>\n",
       "      <td>(주)CMG제약</td>\n",
       "      <td>58820</td>\n",
       "      <td>2010/12</td>\n",
       "      <td>-7537071.0</td>\n",
       "      <td>11350419.0</td>\n",
       "      <td>-6945220.0</td>\n",
       "    </tr>\n",
       "    <tr>\n",
       "      <th>1</th>\n",
       "      <td>(주)CMG제약</td>\n",
       "      <td>58820</td>\n",
       "      <td>2011/12</td>\n",
       "      <td>640283.0</td>\n",
       "      <td>17751704.0</td>\n",
       "      <td>-1508282.0</td>\n",
       "    </tr>\n",
       "    <tr>\n",
       "      <th>2</th>\n",
       "      <td>(주)CMG제약</td>\n",
       "      <td>58820</td>\n",
       "      <td>2012/12</td>\n",
       "      <td>-4205503.0</td>\n",
       "      <td>16255389.0</td>\n",
       "      <td>-6660149.0</td>\n",
       "    </tr>\n",
       "    <tr>\n",
       "      <th>3</th>\n",
       "      <td>(주)CMG제약</td>\n",
       "      <td>58820</td>\n",
       "      <td>2013/12</td>\n",
       "      <td>791250.0</td>\n",
       "      <td>20402140.0</td>\n",
       "      <td>296181.0</td>\n",
       "    </tr>\n",
       "    <tr>\n",
       "      <th>4</th>\n",
       "      <td>(주)CMG제약</td>\n",
       "      <td>58820</td>\n",
       "      <td>2014/12</td>\n",
       "      <td>442322.0</td>\n",
       "      <td>22752584.0</td>\n",
       "      <td>158039.0</td>\n",
       "    </tr>\n",
       "    <tr>\n",
       "      <th>...</th>\n",
       "      <td>...</td>\n",
       "      <td>...</td>\n",
       "      <td>...</td>\n",
       "      <td>...</td>\n",
       "      <td>...</td>\n",
       "      <td>...</td>\n",
       "    </tr>\n",
       "    <tr>\n",
       "      <th>19604</th>\n",
       "      <td>흥아해운(주)</td>\n",
       "      <td>3280</td>\n",
       "      <td>2016/12</td>\n",
       "      <td>5895873.0</td>\n",
       "      <td>831746081.0</td>\n",
       "      <td>-17173253.0</td>\n",
       "    </tr>\n",
       "    <tr>\n",
       "      <th>19605</th>\n",
       "      <td>흥아해운(주)</td>\n",
       "      <td>3280</td>\n",
       "      <td>2017/12</td>\n",
       "      <td>-13098624.0</td>\n",
       "      <td>836427496.0</td>\n",
       "      <td>-73500411.0</td>\n",
       "    </tr>\n",
       "    <tr>\n",
       "      <th>19606</th>\n",
       "      <td>흥아해운(주)</td>\n",
       "      <td>3280</td>\n",
       "      <td>2018/12</td>\n",
       "      <td>-37595967.0</td>\n",
       "      <td>753865569.0</td>\n",
       "      <td>-86540156.0</td>\n",
       "    </tr>\n",
       "    <tr>\n",
       "      <th>19607</th>\n",
       "      <td>흥아해운(주)</td>\n",
       "      <td>3280</td>\n",
       "      <td>2019/12</td>\n",
       "      <td>-12364293.0</td>\n",
       "      <td>102166838.0</td>\n",
       "      <td>-51356551.0</td>\n",
       "    </tr>\n",
       "    <tr>\n",
       "      <th>19608</th>\n",
       "      <td>흥아해운(주)</td>\n",
       "      <td>3280</td>\n",
       "      <td>2020/12</td>\n",
       "      <td>-5797543.0</td>\n",
       "      <td>88938838.0</td>\n",
       "      <td>-50876456.0</td>\n",
       "    </tr>\n",
       "  </tbody>\n",
       "</table>\n",
       "<p>19609 rows × 6 columns</p>\n",
       "</div>"
      ],
      "text/plain": [
       "            회사명  거래소코드     회계년도  * (정상)영업손익(보고서기재)(IFRS연결)  \\\n",
       "0      (주)CMG제약  58820  2010/12                 -7537071.0   \n",
       "1      (주)CMG제약  58820  2011/12                   640283.0   \n",
       "2      (주)CMG제약  58820  2012/12                 -4205503.0   \n",
       "3      (주)CMG제약  58820  2013/12                   791250.0   \n",
       "4      (주)CMG제약  58820  2014/12                   442322.0   \n",
       "...         ...    ...      ...                        ...   \n",
       "19604   흥아해운(주)   3280  2016/12                  5895873.0   \n",
       "19605   흥아해운(주)   3280  2017/12                -13098624.0   \n",
       "19606   흥아해운(주)   3280  2018/12                -37595967.0   \n",
       "19607   흥아해운(주)   3280  2019/12                -12364293.0   \n",
       "19608   흥아해운(주)   3280  2020/12                 -5797543.0   \n",
       "\n",
       "       매출액(수익)(*)(IFRS연결)  당기순이익(손실)(IFRS연결)  \n",
       "0              11350419.0         -6945220.0  \n",
       "1              17751704.0         -1508282.0  \n",
       "2              16255389.0         -6660149.0  \n",
       "3              20402140.0           296181.0  \n",
       "4              22752584.0           158039.0  \n",
       "...                   ...                ...  \n",
       "19604         831746081.0        -17173253.0  \n",
       "19605         836427496.0        -73500411.0  \n",
       "19606         753865569.0        -86540156.0  \n",
       "19607         102166838.0        -51356551.0  \n",
       "19608          88938838.0        -50876456.0  \n",
       "\n",
       "[19609 rows x 6 columns]"
      ]
     },
     "execution_count": 8,
     "metadata": {},
     "output_type": "execute_result"
    }
   ],
   "source": [
    "consolidated"
   ]
  },
  {
   "cell_type": "code",
   "execution_count": 9,
   "metadata": {},
   "outputs": [
    {
     "data": {
      "text/plain": [
       "2386"
      ]
     },
     "execution_count": 9,
     "metadata": {},
     "output_type": "execute_result"
    }
   ],
   "source": [
    "consolidated['회사명'].nunique()"
   ]
  },
  {
   "cell_type": "code",
   "execution_count": null,
   "metadata": {},
   "outputs": [],
   "source": []
  }
 ],
 "metadata": {
  "kernelspec": {
   "display_name": "Python 3.10.1 64-bit",
   "language": "python",
   "name": "python3"
  },
  "language_info": {
   "codemirror_mode": {
    "name": "ipython",
    "version": 3
   },
   "file_extension": ".py",
   "mimetype": "text/x-python",
   "name": "python",
   "nbconvert_exporter": "python",
   "pygments_lexer": "ipython3",
   "version": "3.10.1"
  },
  "orig_nbformat": 4,
  "vscode": {
   "interpreter": {
    "hash": "664601c8c9e5ea170ac235a51849067b39cba8c284ace64cc1dec43cb5b20d30"
   }
  }
 },
 "nbformat": 4,
 "nbformat_minor": 2
}
