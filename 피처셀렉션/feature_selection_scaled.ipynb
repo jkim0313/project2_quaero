{
 "cells": [
  {
   "cell_type": "code",
   "execution_count": null,
   "metadata": {},
   "outputs": [],
   "source": []
  }
 ],
 "metadata": {
  "kernelspec": {
   "display_name": "Python 3.10.1 64-bit",
   "language": "python",
   "name": "python3"
  },
  "language_info": {
   "name": "python",
   "version": "3.10.1"
  },
  "orig_nbformat": 4,
  "vscode": {
   "interpreter": {
    "hash": "664601c8c9e5ea170ac235a51849067b39cba8c284ace64cc1dec43cb5b20d30"
   }
  }
 },
 "nbformat": 4,
 "nbformat_minor": 2
}
