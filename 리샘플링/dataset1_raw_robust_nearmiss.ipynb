{
 "cells": [
  {
   "cell_type": "code",
   "execution_count": 1,
   "metadata": {},
   "outputs": [],
   "source": [
    "import pandas as pd \n",
    "\n",
    "pd.set_option('display.max_columns', None)"
   ]
  },
  {
   "cell_type": "code",
   "execution_count": 2,
   "metadata": {},
   "outputs": [
    {
     "data": {
      "text/html": [
       "<div>\n",
       "<style scoped>\n",
       "    .dataframe tbody tr th:only-of-type {\n",
       "        vertical-align: middle;\n",
       "    }\n",
       "\n",
       "    .dataframe tbody tr th {\n",
       "        vertical-align: top;\n",
       "    }\n",
       "\n",
       "    .dataframe thead th {\n",
       "        text-align: right;\n",
       "    }\n",
       "</style>\n",
       "<table border=\"1\" class=\"dataframe\">\n",
       "  <thead>\n",
       "    <tr style=\"text-align: right;\">\n",
       "      <th></th>\n",
       "      <th>회사명</th>\n",
       "      <th>거래소코드</th>\n",
       "      <th>회계년도</th>\n",
       "      <th>상장일</th>\n",
       "      <th>상장폐지일_x</th>\n",
       "      <th>부실기업1</th>\n",
       "      <th>부실기업2</th>\n",
       "      <th>부실기업</th>\n",
       "      <th>업종</th>\n",
       "      <th>경기민감도</th>\n",
       "      <th>총자본증가율</th>\n",
       "      <th>종업원수증가율</th>\n",
       "      <th>매출액정상영업이익률</th>\n",
       "      <th>총자본정상영업이익률</th>\n",
       "      <th>자기자본정상영업이익률</th>\n",
       "      <th>금융비용부담률</th>\n",
       "      <th>수지비율</th>\n",
       "      <th>자기자본구성비율</th>\n",
       "      <th>CASH FLOW 대 총자본비율</th>\n",
       "      <th>총자본투자효율</th>\n",
       "      <th>순운전자본회전률</th>\n",
       "    </tr>\n",
       "  </thead>\n",
       "  <tbody>\n",
       "    <tr>\n",
       "      <th>0</th>\n",
       "      <td>(주)CMG제약</td>\n",
       "      <td>58820</td>\n",
       "      <td>201112</td>\n",
       "      <td>200108</td>\n",
       "      <td>NaN</td>\n",
       "      <td>0</td>\n",
       "      <td>0</td>\n",
       "      <td>0</td>\n",
       "      <td>제조업</td>\n",
       "      <td>1</td>\n",
       "      <td>13.166482</td>\n",
       "      <td>4.65</td>\n",
       "      <td>3.61</td>\n",
       "      <td>2.37</td>\n",
       "      <td>3.51</td>\n",
       "      <td>0.80</td>\n",
       "      <td>108.35</td>\n",
       "      <td>66.046945</td>\n",
       "      <td>-15.65</td>\n",
       "      <td>12.72</td>\n",
       "      <td>0.86</td>\n",
       "    </tr>\n",
       "    <tr>\n",
       "      <th>1</th>\n",
       "      <td>(주)CMG제약</td>\n",
       "      <td>58820</td>\n",
       "      <td>201212</td>\n",
       "      <td>200108</td>\n",
       "      <td>NaN</td>\n",
       "      <td>0</td>\n",
       "      <td>0</td>\n",
       "      <td>0</td>\n",
       "      <td>제조업</td>\n",
       "      <td>1</td>\n",
       "      <td>109.147119</td>\n",
       "      <td>-0.74</td>\n",
       "      <td>-25.87</td>\n",
       "      <td>-9.96</td>\n",
       "      <td>-16.95</td>\n",
       "      <td>2.53</td>\n",
       "      <td>140.55</td>\n",
       "      <td>55.317408</td>\n",
       "      <td>-3.62</td>\n",
       "      <td>0.47</td>\n",
       "      <td>0.42</td>\n",
       "    </tr>\n",
       "    <tr>\n",
       "      <th>2</th>\n",
       "      <td>(주)CMG제약</td>\n",
       "      <td>58820</td>\n",
       "      <td>201312</td>\n",
       "      <td>200108</td>\n",
       "      <td>NaN</td>\n",
       "      <td>0</td>\n",
       "      <td>0</td>\n",
       "      <td>0</td>\n",
       "      <td>제조업</td>\n",
       "      <td>1</td>\n",
       "      <td>-2.093352</td>\n",
       "      <td>1.49</td>\n",
       "      <td>3.88</td>\n",
       "      <td>1.40</td>\n",
       "      <td>1.96</td>\n",
       "      <td>1.65</td>\n",
       "      <td>98.55</td>\n",
       "      <td>87.631971</td>\n",
       "      <td>-4.93</td>\n",
       "      <td>12.51</td>\n",
       "      <td>0.42</td>\n",
       "    </tr>\n",
       "    <tr>\n",
       "      <th>3</th>\n",
       "      <td>(주)CMG제약</td>\n",
       "      <td>58820</td>\n",
       "      <td>201412</td>\n",
       "      <td>200108</td>\n",
       "      <td>NaN</td>\n",
       "      <td>0</td>\n",
       "      <td>0</td>\n",
       "      <td>0</td>\n",
       "      <td>제조업</td>\n",
       "      <td>1</td>\n",
       "      <td>3.855597</td>\n",
       "      <td>20.59</td>\n",
       "      <td>1.94</td>\n",
       "      <td>0.78</td>\n",
       "      <td>0.90</td>\n",
       "      <td>-0.65</td>\n",
       "      <td>99.32</td>\n",
       "      <td>84.387905</td>\n",
       "      <td>-2.77</td>\n",
       "      <td>12.16</td>\n",
       "      <td>0.56</td>\n",
       "    </tr>\n",
       "    <tr>\n",
       "      <th>4</th>\n",
       "      <td>(주)CMG제약</td>\n",
       "      <td>58820</td>\n",
       "      <td>201512</td>\n",
       "      <td>200108</td>\n",
       "      <td>NaN</td>\n",
       "      <td>0</td>\n",
       "      <td>0</td>\n",
       "      <td>0</td>\n",
       "      <td>제조업</td>\n",
       "      <td>1</td>\n",
       "      <td>-2.644307</td>\n",
       "      <td>-4.88</td>\n",
       "      <td>-9.51</td>\n",
       "      <td>-4.49</td>\n",
       "      <td>-5.37</td>\n",
       "      <td>-0.11</td>\n",
       "      <td>113.24</td>\n",
       "      <td>82.795953</td>\n",
       "      <td>2.77</td>\n",
       "      <td>7.63</td>\n",
       "      <td>0.75</td>\n",
       "    </tr>\n",
       "    <tr>\n",
       "      <th>...</th>\n",
       "      <td>...</td>\n",
       "      <td>...</td>\n",
       "      <td>...</td>\n",
       "      <td>...</td>\n",
       "      <td>...</td>\n",
       "      <td>...</td>\n",
       "      <td>...</td>\n",
       "      <td>...</td>\n",
       "      <td>...</td>\n",
       "      <td>...</td>\n",
       "      <td>...</td>\n",
       "      <td>...</td>\n",
       "      <td>...</td>\n",
       "      <td>...</td>\n",
       "      <td>...</td>\n",
       "      <td>...</td>\n",
       "      <td>...</td>\n",
       "      <td>...</td>\n",
       "      <td>...</td>\n",
       "      <td>...</td>\n",
       "      <td>...</td>\n",
       "    </tr>\n",
       "    <tr>\n",
       "      <th>12738</th>\n",
       "      <td>흥아해운(주)</td>\n",
       "      <td>3280</td>\n",
       "      <td>201312</td>\n",
       "      <td>197606</td>\n",
       "      <td>NaN</td>\n",
       "      <td>0</td>\n",
       "      <td>0</td>\n",
       "      <td>0</td>\n",
       "      <td>운수 및 창고업</td>\n",
       "      <td>0</td>\n",
       "      <td>7.026008</td>\n",
       "      <td>-3.78</td>\n",
       "      <td>2.51</td>\n",
       "      <td>3.50</td>\n",
       "      <td>13.80</td>\n",
       "      <td>1.84</td>\n",
       "      <td>95.90</td>\n",
       "      <td>27.203257</td>\n",
       "      <td>4.71</td>\n",
       "      <td>14.13</td>\n",
       "      <td>2.02</td>\n",
       "    </tr>\n",
       "    <tr>\n",
       "      <th>12739</th>\n",
       "      <td>흥아해운(주)</td>\n",
       "      <td>3280</td>\n",
       "      <td>201412</td>\n",
       "      <td>197606</td>\n",
       "      <td>NaN</td>\n",
       "      <td>0</td>\n",
       "      <td>0</td>\n",
       "      <td>0</td>\n",
       "      <td>운수 및 창고업</td>\n",
       "      <td>0</td>\n",
       "      <td>13.690307</td>\n",
       "      <td>9.90</td>\n",
       "      <td>2.25</td>\n",
       "      <td>3.04</td>\n",
       "      <td>11.51</td>\n",
       "      <td>1.66</td>\n",
       "      <td>97.18</td>\n",
       "      <td>25.784426</td>\n",
       "      <td>2.10</td>\n",
       "      <td>13.89</td>\n",
       "      <td>2.03</td>\n",
       "    </tr>\n",
       "    <tr>\n",
       "      <th>12740</th>\n",
       "      <td>흥아해운(주)</td>\n",
       "      <td>3280</td>\n",
       "      <td>201512</td>\n",
       "      <td>197606</td>\n",
       "      <td>NaN</td>\n",
       "      <td>0</td>\n",
       "      <td>0</td>\n",
       "      <td>0</td>\n",
       "      <td>운수 및 창고업</td>\n",
       "      <td>0</td>\n",
       "      <td>21.933460</td>\n",
       "      <td>7.68</td>\n",
       "      <td>2.51</td>\n",
       "      <td>2.95</td>\n",
       "      <td>12.48</td>\n",
       "      <td>2.22</td>\n",
       "      <td>98.11</td>\n",
       "      <td>21.863026</td>\n",
       "      <td>2.17</td>\n",
       "      <td>13.11</td>\n",
       "      <td>2.15</td>\n",
       "    </tr>\n",
       "    <tr>\n",
       "      <th>12741</th>\n",
       "      <td>흥아해운(주)</td>\n",
       "      <td>3280</td>\n",
       "      <td>201612</td>\n",
       "      <td>197606</td>\n",
       "      <td>NaN</td>\n",
       "      <td>0</td>\n",
       "      <td>0</td>\n",
       "      <td>0</td>\n",
       "      <td>운수 및 창고업</td>\n",
       "      <td>0</td>\n",
       "      <td>21.081715</td>\n",
       "      <td>15.87</td>\n",
       "      <td>0.71</td>\n",
       "      <td>0.67</td>\n",
       "      <td>3.23</td>\n",
       "      <td>3.21</td>\n",
       "      <td>100.55</td>\n",
       "      <td>20.081457</td>\n",
       "      <td>1.70</td>\n",
       "      <td>10.98</td>\n",
       "      <td>2.19</td>\n",
       "    </tr>\n",
       "    <tr>\n",
       "      <th>12742</th>\n",
       "      <td>흥아해운(주)</td>\n",
       "      <td>3280</td>\n",
       "      <td>201712</td>\n",
       "      <td>197606</td>\n",
       "      <td>NaN</td>\n",
       "      <td>1</td>\n",
       "      <td>0</td>\n",
       "      <td>1</td>\n",
       "      <td>운수 및 창고업</td>\n",
       "      <td>0</td>\n",
       "      <td>-11.431409</td>\n",
       "      <td>-2.23</td>\n",
       "      <td>-1.57</td>\n",
       "      <td>-1.45</td>\n",
       "      <td>-8.47</td>\n",
       "      <td>3.67</td>\n",
       "      <td>106.15</td>\n",
       "      <td>13.767987</td>\n",
       "      <td>-0.49</td>\n",
       "      <td>5.43</td>\n",
       "      <td>2.09</td>\n",
       "    </tr>\n",
       "  </tbody>\n",
       "</table>\n",
       "<p>12743 rows × 21 columns</p>\n",
       "</div>"
      ],
      "text/plain": [
       "            회사명  거래소코드    회계년도     상장일  상장폐지일_x  부실기업1  부실기업2  부실기업        업종  \\\n",
       "0      (주)CMG제약  58820  201112  200108      NaN      0      0     0       제조업   \n",
       "1      (주)CMG제약  58820  201212  200108      NaN      0      0     0       제조업   \n",
       "2      (주)CMG제약  58820  201312  200108      NaN      0      0     0       제조업   \n",
       "3      (주)CMG제약  58820  201412  200108      NaN      0      0     0       제조업   \n",
       "4      (주)CMG제약  58820  201512  200108      NaN      0      0     0       제조업   \n",
       "...         ...    ...     ...     ...      ...    ...    ...   ...       ...   \n",
       "12738   흥아해운(주)   3280  201312  197606      NaN      0      0     0  운수 및 창고업   \n",
       "12739   흥아해운(주)   3280  201412  197606      NaN      0      0     0  운수 및 창고업   \n",
       "12740   흥아해운(주)   3280  201512  197606      NaN      0      0     0  운수 및 창고업   \n",
       "12741   흥아해운(주)   3280  201612  197606      NaN      0      0     0  운수 및 창고업   \n",
       "12742   흥아해운(주)   3280  201712  197606      NaN      1      0     1  운수 및 창고업   \n",
       "\n",
       "       경기민감도      총자본증가율  종업원수증가율  매출액정상영업이익률  총자본정상영업이익률  자기자본정상영업이익률  \\\n",
       "0          1   13.166482     4.65        3.61        2.37         3.51   \n",
       "1          1  109.147119    -0.74      -25.87       -9.96       -16.95   \n",
       "2          1   -2.093352     1.49        3.88        1.40         1.96   \n",
       "3          1    3.855597    20.59        1.94        0.78         0.90   \n",
       "4          1   -2.644307    -4.88       -9.51       -4.49        -5.37   \n",
       "...      ...         ...      ...         ...         ...          ...   \n",
       "12738      0    7.026008    -3.78        2.51        3.50        13.80   \n",
       "12739      0   13.690307     9.90        2.25        3.04        11.51   \n",
       "12740      0   21.933460     7.68        2.51        2.95        12.48   \n",
       "12741      0   21.081715    15.87        0.71        0.67         3.23   \n",
       "12742      0  -11.431409    -2.23       -1.57       -1.45        -8.47   \n",
       "\n",
       "       금융비용부담률    수지비율   자기자본구성비율  CASH FLOW 대 총자본비율  총자본투자효율  순운전자본회전률  \n",
       "0         0.80  108.35  66.046945             -15.65    12.72      0.86  \n",
       "1         2.53  140.55  55.317408              -3.62     0.47      0.42  \n",
       "2         1.65   98.55  87.631971              -4.93    12.51      0.42  \n",
       "3        -0.65   99.32  84.387905              -2.77    12.16      0.56  \n",
       "4        -0.11  113.24  82.795953               2.77     7.63      0.75  \n",
       "...        ...     ...        ...                ...      ...       ...  \n",
       "12738     1.84   95.90  27.203257               4.71    14.13      2.02  \n",
       "12739     1.66   97.18  25.784426               2.10    13.89      2.03  \n",
       "12740     2.22   98.11  21.863026               2.17    13.11      2.15  \n",
       "12741     3.21  100.55  20.081457               1.70    10.98      2.19  \n",
       "12742     3.67  106.15  13.767987              -0.49     5.43      2.09  \n",
       "\n",
       "[12743 rows x 21 columns]"
      ]
     },
     "execution_count": 2,
     "metadata": {},
     "output_type": "execute_result"
    }
   ],
   "source": [
    "df = pd.read_csv('../data/선택된피처/dataset1_general_raw+robust.csv', encoding='CP949')\n",
    "df.drop(columns='Unnamed: 0', inplace=True)\n",
    "df "
   ]
  },
  {
   "cell_type": "code",
   "execution_count": 3,
   "metadata": {},
   "outputs": [
    {
     "name": "stdout",
     "output_type": "stream",
     "text": [
      "<class 'pandas.core.frame.DataFrame'>\n",
      "RangeIndex: 12743 entries, 0 to 12742\n",
      "Data columns (total 21 columns):\n",
      " #   Column             Non-Null Count  Dtype  \n",
      "---  ------             --------------  -----  \n",
      " 0   회사명                12743 non-null  object \n",
      " 1   거래소코드              12743 non-null  int64  \n",
      " 2   회계년도               12743 non-null  int64  \n",
      " 3   상장일                12743 non-null  int64  \n",
      " 4   상장폐지일_x            455 non-null    float64\n",
      " 5   부실기업1              12743 non-null  int64  \n",
      " 6   부실기업2              12743 non-null  int64  \n",
      " 7   부실기업               12743 non-null  int64  \n",
      " 8   업종                 12743 non-null  object \n",
      " 9   경기민감도              12743 non-null  int64  \n",
      " 10  총자본증가율             12743 non-null  float64\n",
      " 11  종업원수증가율            12743 non-null  float64\n",
      " 12  매출액정상영업이익률         12743 non-null  float64\n",
      " 13  총자본정상영업이익률         12743 non-null  float64\n",
      " 14  자기자본정상영업이익률        12743 non-null  float64\n",
      " 15  금융비용부담률            12743 non-null  float64\n",
      " 16  수지비율               12743 non-null  float64\n",
      " 17  자기자본구성비율           12743 non-null  float64\n",
      " 18  CASH FLOW 대 총자본비율  12743 non-null  float64\n",
      " 19  총자본투자효율            12743 non-null  float64\n",
      " 20  순운전자본회전률           12743 non-null  float64\n",
      "dtypes: float64(12), int64(7), object(2)\n",
      "memory usage: 2.0+ MB\n"
     ]
    }
   ],
   "source": [
    "df.info()"
   ]
  },
  {
   "cell_type": "code",
   "execution_count": 4,
   "metadata": {},
   "outputs": [
    {
     "name": "stdout",
     "output_type": "stream",
     "text": [
      "0 회사명\n",
      "1 거래소코드\n",
      "2 회계년도\n",
      "3 상장일\n",
      "4 상장폐지일_x\n",
      "5 부실기업1\n",
      "6 부실기업2\n",
      "7 부실기업\n",
      "8 업종\n",
      "9 경기민감도\n",
      "10 총자본증가율\n",
      "11 종업원수증가율\n",
      "12 매출액정상영업이익률\n",
      "13 총자본정상영업이익률\n",
      "14 자기자본정상영업이익률\n",
      "15 금융비용부담률\n",
      "16 수지비율\n",
      "17 자기자본구성비율\n",
      "18 CASH FLOW 대 총자본비율\n",
      "19 총자본투자효율\n",
      "20 순운전자본회전률\n"
     ]
    }
   ],
   "source": [
    "### 컬럼별 인덱스 번호 확인\n",
    "for i, col in enumerate(df):\n",
    "    print(i, col)"
   ]
  },
  {
   "cell_type": "markdown",
   "metadata": {},
   "source": [
    "### 독립변수 및 종속변수 컬럼 지정"
   ]
  },
  {
   "cell_type": "code",
   "execution_count": 5,
   "metadata": {},
   "outputs": [],
   "source": [
    "data = df.iloc[:, 10:]\n",
    "target = df.iloc[:, 7]"
   ]
  },
  {
   "cell_type": "markdown",
   "metadata": {},
   "source": [
    "## 데이터 랜덤 분할"
   ]
  },
  {
   "cell_type": "code",
   "execution_count": 6,
   "metadata": {},
   "outputs": [
    {
     "name": "stdout",
     "output_type": "stream",
     "text": [
      "X 테스트 데이터 :\n",
      "          총자본증가율  종업원수증가율  매출액정상영업이익률  총자본정상영업이익률  자기자본정상영업이익률  금융비용부담률  \\\n",
      "4015    1.516375    -4.28        5.36        6.92        17.30     0.80   \n",
      "10105  -9.093296   -14.29        4.96        1.65         4.19    12.73   \n",
      "7132   -4.750046     1.93        1.31        1.50         7.18     2.41   \n",
      "8291   13.299888    -4.85        6.67        5.58         8.76    -0.31   \n",
      "5389    3.817423     9.29       -9.87       -7.18       -13.61     0.66   \n",
      "...          ...      ...         ...         ...          ...      ...   \n",
      "8134   -0.103645    -5.08        3.30        2.28         2.65    -0.88   \n",
      "4989  -18.246642   -14.75      -19.10      -15.57       -18.01    -0.61   \n",
      "6962   50.752395    -6.70        6.88        5.85        14.08     0.76   \n",
      "2448   14.626300    -1.37        2.71        3.63         5.97     0.57   \n",
      "474    19.033482    10.81       19.03       14.21        16.84    -1.22   \n",
      "\n",
      "         수지비율   자기자본구성비율  CASH FLOW 대 총자본비율  총자본투자효율  순운전자본회전률  \n",
      "4015    96.10  41.006371               5.36    29.88      1.63  \n",
      "10105  100.63  45.622866              16.57     9.23      0.38  \n",
      "7132    99.15  21.683590               1.31    12.64      1.11  \n",
      "8291    91.11  62.348037              16.57    24.34      0.87  \n",
      "5389   109.59  44.573571             -10.01    18.53      0.80  \n",
      "...       ...        ...                ...      ...       ...  \n",
      "8134    92.61  87.569081               1.83    10.26      1.37  \n",
      "4989   119.78  87.564291               5.68    -3.22      0.87  \n",
      "6962    95.73  34.090465              -1.42    10.85      0.73  \n",
      "2448    97.93  57.119783               4.35    13.86      1.32  \n",
      "474     82.03  82.926517              12.56    23.43      1.00  \n",
      "\n",
      "[3823 rows x 11 columns]\n",
      "y 테스트 데이터 :\n",
      "[0, 1, 0, 0, 1, 0, 0, 1, 0, 0, 0, 0, 0, 0, 0, 0, 0, 0, 0, 0, 1, 0, 1, 0, 0, 0, 0, 0, 0, 0, 0, 0, 0, 0, 0, 0, 0, 0, 0, 0, 0, 0, 0, 0, 0, 0, 1, 0, 0, 0, 0, 0, 0, 0, 0, 0, 0, 0, 0, 0, 0, 0, 0, 0, 0, 0, 0, 0, 0, 0, 0, 0, 0, 0, 0, 0, 0, 0, 0, 0, 0, 0, 0, 0, 0, 0, 0, 0, 0, 0, 0, 1, 0, 0, 0, 0, 0, 0, 0, 0, 0, 0, 1, 0, 0, 0, 0, 1, 0, 0, 0, 0, 0, 0, 1, 0, 0, 1, 0, 0, 1, 0, 1, 0, 1, 0, 0, 0, 0, 0, 0, 0, 0, 0, 0, 0, 0, 0, 0, 0, 0, 0, 0, 0, 0, 0, 0, 0, 0, 0, 0, 0, 0, 0, 1, 0, 0, 0, 0, 0, 0, 1, 0, 0, 0, 0, 0, 0, 0, 0, 0, 0, 0, 0, 0, 0, 0, 0, 0, 0, 0, 0, 1, 0, 0, 0, 0, 0, 0, 0, 0, 0, 0, 0, 0, 0, 0, 0, 0, 0, 0, 0, 0, 1, 0, 0, 0, 0, 0, 0, 0, 0, 0, 0, 0, 0, 1, 0, 0, 0, 0, 0, 0, 0, 0, 0, 0, 0, 0, 0, 0, 0, 0, 0, 0, 0, 0, 0, 1, 0, 0, 0, 0, 0, 0, 0, 0, 0, 0, 0, 0, 0, 0, 0, 0, 0, 0, 0, 0, 0, 0, 0, 1, 0, 0, 0, 0, 0, 0, 0, 0, 0, 0, 0, 0, 0, 0, 0, 0, 0, 0, 0, 1, 0, 0, 0, 0, 0, 0, 0, 0, 0, 0, 0, 0, 1, 0, 0, 1, 0, 0, 0, 0, 0, 1, 0, 0, 0, 0, 0, 0, 0, 0, 0, 0, 0, 0, 0, 0, 0, 0, 0, 0, 0, 0, 0, 0, 0, 0, 1, 0, 1, 0, 0, 0, 0, 0, 0, 0, 0, 0, 0, 1, 1, 0, 1, 1, 0, 0, 1, 0, 0, 1, 1, 0, 1, 0, 1, 0, 0, 0, 0, 0, 0, 0, 0, 0, 0, 0, 0, 0, 0, 0, 0, 1, 0, 0, 0, 0, 0, 0, 0, 0, 0, 0, 0, 0, 0, 0, 0, 0, 1, 0, 0, 0, 0, 0, 0, 0, 0, 0, 0, 0, 0, 0, 0, 0, 0, 0, 0, 0, 0, 0, 0, 0, 0, 0, 0, 1, 0, 0, 1, 0, 0, 0, 0, 0, 0, 0, 0, 0, 0, 0, 0, 0, 0, 0, 0, 0, 0, 0, 0, 0, 0, 0, 0, 0, 0, 0, 0, 0, 0, 0, 0, 0, 0, 0, 0, 0, 0, 0, 0, 0, 0, 0, 0, 0, 0, 0, 0, 0, 0, 0, 0, 0, 0, 0, 0, 0, 0, 0, 1, 0, 0, 0, 0, 0, 0, 0, 0, 0, 0, 0, 0, 0, 0, 0, 0, 0, 0, 0, 0, 0, 0, 0, 0, 0, 0, 0, 0, 0, 0, 0, 0, 0, 0, 0, 0, 0, 0, 0, 0, 0, 0, 0, 0, 0, 0, 0, 0, 0, 0, 0, 0, 0, 0, 0, 0, 0, 0, 0, 0, 0, 0, 0, 0, 0, 1, 0, 0, 0, 0, 0, 1, 0, 0, 0, 0, 0, 0, 0, 0, 0, 0, 0, 0, 0, 0, 0, 0, 0, 0, 0, 0, 0, 0, 0, 0, 0, 1, 0, 0, 0, 0, 0, 0, 0, 0, 0, 0, 0, 0, 0, 0, 0, 0, 0, 0, 0, 0, 1, 0, 0, 0, 0, 0, 0, 0, 0, 0, 0, 0, 0, 0, 0, 0, 0, 0, 0, 0, 0, 0, 0, 0, 0, 0, 0, 0, 0, 0, 0, 0, 0, 0, 0, 0, 1, 0, 0, 0, 0, 0, 0, 0, 0, 0, 0, 0, 0, 0, 1, 0, 0, 0, 0, 0, 0, 0, 0, 0, 0, 0, 0, 0, 0, 0, 0, 0, 0, 0, 0, 0, 0, 0, 0, 1, 0, 0, 0, 0, 0, 0, 0, 0, 0, 0, 0, 0, 0, 0, 0, 0, 0, 0, 0, 0, 0, 0, 0, 0, 0, 0, 0, 0, 0, 1, 0, 0, 0, 0, 0, 0, 0, 0, 0, 1, 0, 0, 0, 0, 0, 0, 0, 0, 0, 0, 0, 1, 0, 0, 0, 0, 0, 0, 0, 0, 0, 0, 0, 0, 0, 0, 0, 0, 0, 0, 0, 0, 0, 0, 0, 0, 0, 1, 0, 0, 0, 0, 1, 0, 0, 0, 0, 0, 0, 0, 0, 0, 0, 0, 0, 0, 0, 1, 0, 0, 0, 0, 0, 0, 0, 0, 0, 0, 1, 0, 0, 0, 0, 0, 0, 0, 0, 0, 0, 0, 0, 0, 0, 0, 0, 0, 0, 0, 0, 0, 0, 0, 0, 0, 0, 0, 0, 0, 0, 0, 0, 0, 0, 0, 0, 0, 1, 0, 0, 1, 0, 0, 0, 0, 0, 0, 0, 1, 0, 1, 0, 0, 0, 0, 0, 1, 0, 0, 0, 0, 0, 0, 0, 0, 0, 0, 1, 0, 0, 0, 1, 0, 0, 0, 0, 0, 0, 0, 0, 0, 0, 0, 0, 0, 0, 0, 0, 0, 0, 0, 0, 0, 0, 0, 0, 0, 0, 0, 0, 0, 0, 0, 0, 0, 0, 0, 0, 0, 0, 0, 0, 0, 0, 0, 0, 1, 0, 0, 0, 0, 0, 0, 0, 0, 0, 0, 0, 0, 0, 0, 0, 0, 0, 0, 0, 0, 0, 0, 0, 0, 0, 0, 0, 0, 0, 0, 0, 0, 1, 1, 0, 0, 0, 0, 0, 0, 0, 0, 0, 0, 0, 1, 0, 0, 0, 0, 0, 0, 1, 0, 0, 0, 0, 0, 0, 0, 0, 0, 0, 0, 0, 0, 0, 0, 0, 0, 0, 0, 0, 0, 0, 0, 0, 0, 0, 0, 0, 0, 0, 0, 0, 0, 0, 0, 0, 0, 0, 0, 0, 0, 0, 0, 0, 0, 0, 0, 0, 0, 0, 0, 0, 0, 0, 0, 0, 0, 0, 0, 0, 0, 0, 0, 0, 0, 0, 0, 0, 0, 1, 1, 0, 1, 0, 0, 1, 0, 0, 0, 0, 0, 0, 0, 0, 0, 0, 0, 0, 0, 0, 0, 0, 0, 0, 0, 0, 0, 0, 0, 0, 0, 0, 0, 0, 1, 0, 0, 0, 0, 0, 0, 0, 0, 0, 0, 0, 0, 0, 0, 0, 0, 0, 0, 0, 0, 0, 0, 0, 0, 0, 0, 0, 0, 0, 0, 0, 0, 0, 0, 0, 0, 0, 0, 0, 0, 0, 0, 0, 0, 0, 0, 0, 0, 0, 0, 1, 0, 0, 0, 0, 0, 0, 0, 0, 1, 0, 0, 0, 0, 0, 0, 0, 1, 0, 1, 0, 0, 0, 0, 0, 0, 1, 0, 0, 0, 0, 0, 0, 1, 0, 0, 0, 0, 0, 0, 0, 0, 0, 0, 0, 0, 0, 0, 0, 0, 0, 1, 0, 1, 0, 0, 0, 0, 0, 0, 1, 1, 0, 0, 0, 0, 0, 0, 0, 0, 0, 0, 0, 0, 0, 0, 0, 0, 0, 0, 0, 0, 0, 0, 0, 0, 1, 0, 0, 0, 0, 0, 0, 0, 0, 0, 0, 0, 0, 0, 0, 0, 0, 0, 0, 0, 0, 0, 0, 0, 0, 0, 0, 0, 0, 0, 0, 0, 0, 0, 0, 0, 0, 0, 0, 0, 0, 0, 0, 0, 0, 0, 0, 0, 0, 0, 0, 0, 0, 0, 0, 0, 0, 0, 0, 0, 0, 0, 0, 0, 0, 0, 0, 0, 0, 0, 0, 0, 0, 0, 0, 0, 0, 0, 0, 0, 0, 0, 0, 0, 0, 0, 0, 0, 0, 0, 0, 0, 0, 0, 0, 0, 0, 0, 0, 0, 0, 0, 0, 0, 0, 0, 0, 0, 0, 0, 0, 1, 0, 0, 1, 0, 0, 0, 0, 0, 0, 0, 0, 0, 0, 0, 1, 0, 0, 0, 0, 0, 0, 0, 0, 0, 0, 0, 0, 0, 0, 0, 0, 0, 0, 0, 0, 1, 0, 0, 1, 1, 0, 0, 0, 0, 0, 0, 0, 0, 0, 0, 0, 0, 0, 0, 1, 0, 0, 0, 0, 0, 0, 0, 0, 0, 0, 0, 0, 0, 0, 0, 0, 0, 0, 0, 0, 0, 0, 0, 0, 0, 0, 0, 0, 0, 0, 0, 0, 0, 0, 1, 0, 0, 0, 0, 0, 0, 1, 0, 0, 0, 0, 1, 0, 0, 0, 0, 0, 0, 0, 0, 0, 0, 0, 0, 1, 0, 0, 0, 0, 0, 0, 0, 1, 0, 0, 0, 0, 0, 0, 0, 0, 0, 0, 0, 1, 0, 0, 0, 0, 0, 0, 0, 0, 0, 0, 0, 0, 0, 0, 0, 0, 0, 0, 0, 0, 0, 0, 1, 0, 0, 0, 0, 0, 0, 0, 0, 0, 0, 0, 0, 0, 0, 0, 0, 0, 0, 0, 0, 0, 0, 0, 0, 0, 0, 0, 0, 0, 0, 0, 0, 0, 0, 0, 0, 0, 0, 0, 0, 0, 0, 0, 0, 0, 1, 0, 0, 0, 0, 0, 0, 0, 0, 0, 0, 0, 0, 0, 0, 0, 0, 0, 0, 0, 0, 1, 0, 0, 0, 0, 0, 0, 0, 0, 0, 0, 0, 0, 0, 0, 1, 0, 0, 0, 0, 0, 0, 0, 0, 0, 0, 0, 0, 0, 0, 0, 0, 0, 0, 0, 0, 0, 0, 0, 0, 1, 0, 0, 0, 0, 0, 0, 1, 0, 0, 0, 0, 0, 0, 0, 0, 0, 0, 0, 1, 0, 0, 0, 1, 0, 0, 0, 0, 0, 0, 0, 0, 0, 1, 0, 0, 0, 0, 0, 1, 0, 0, 0, 0, 0, 0, 0, 1, 0, 0, 0, 0, 0, 0, 0, 0, 0, 0, 0, 0, 0, 0, 0, 0, 0, 0, 0, 0, 0, 0, 0, 0, 0, 0, 0, 0, 0, 0, 0, 0, 0, 0, 0, 0, 0, 0, 0, 0, 0, 0, 0, 0, 0, 0, 0, 0, 0, 0, 0, 0, 0, 0, 0, 0, 0, 0, 0, 0, 0, 0, 0, 0, 0, 0, 0, 0, 0, 0, 0, 0, 0, 0, 0, 1, 0, 0, 0, 0, 0, 0, 0, 0, 0, 1, 0, 0, 0, 0, 0, 0, 0, 0, 0, 0, 0, 0, 0, 0, 0, 0, 0, 0, 0, 0, 0, 0, 0, 0, 0, 0, 0, 0, 0, 0, 0, 0, 0, 0, 0, 0, 0, 0, 0, 0, 0, 0, 0, 0, 1, 0, 0, 0, 0, 0, 0, 0, 1, 0, 0, 0, 0, 0, 1, 0, 0, 0, 1, 0, 0, 0, 0, 0, 0, 0, 0, 0, 0, 0, 0, 0, 0, 0, 0, 0, 0, 0, 0, 1, 0, 0, 0, 0, 0, 0, 0, 0, 0, 0, 0, 0, 1, 0, 0, 0, 0, 0, 1, 0, 1, 0, 0, 0, 0, 0, 0, 0, 0, 0, 0, 0, 0, 0, 0, 0, 0, 0, 0, 0, 0, 0, 0, 0, 0, 0, 0, 0, 0, 0, 0, 0, 0, 0, 0, 0, 0, 0, 0, 0, 0, 0, 0, 0, 0, 0, 0, 0, 0, 1, 0, 0, 0, 0, 0, 0, 0, 0, 0, 0, 0, 0, 0, 0, 0, 0, 0, 0, 0, 0, 0, 0, 0, 0, 0, 0, 0, 0, 0, 0, 0, 0, 0, 1, 0, 0, 0, 0, 0, 0, 0, 0, 1, 0, 1, 0, 0, 0, 0, 0, 0, 0, 0, 0, 0, 0, 0, 0, 0, 0, 0, 0, 0, 0, 0, 0, 0, 0, 0, 0, 0, 0, 0, 0, 0, 0, 0, 0, 0, 0, 0, 0, 0, 0, 0, 0, 0, 1, 0, 0, 0, 0, 0, 0, 1, 1, 0, 0, 0, 0, 0, 0, 0, 0, 0, 0, 0, 0, 0, 0, 0, 0, 0, 0, 0, 0, 0, 0, 0, 0, 0, 0, 0, 0, 0, 0, 0, 0, 0, 0, 0, 0, 1, 0, 0, 0, 0, 1, 0, 0, 0, 0, 0, 0, 0, 0, 0, 0, 0, 0, 0, 0, 0, 0, 0, 0, 0, 0, 0, 0, 0, 0, 1, 1, 0, 0, 0, 0, 0, 0, 0, 0, 0, 0, 0, 0, 0, 0, 0, 0, 0, 0, 0, 0, 0, 0, 0, 0, 0, 0, 0, 0, 1, 0, 0, 0, 0, 0, 0, 0, 0, 0, 1, 0, 0, 0, 0, 0, 0, 0, 0, 0, 0, 0, 0, 0, 0, 0, 0, 0, 0, 0, 0, 0, 0, 0, 0, 0, 0, 0, 0, 0, 0, 0, 0, 0, 0, 0, 0, 0, 0, 0, 0, 0, 0, 0, 0, 1, 1, 0, 0, 0, 0, 0, 0, 0, 0, 0, 0, 0, 0, 0, 0, 0, 0, 0, 0, 1, 0, 0, 0, 1, 0, 0, 0, 0, 0, 0, 0, 0, 0, 0, 0, 0, 0, 0, 0, 0, 0, 0, 0, 0, 0, 0, 0, 0, 0, 0, 0, 0, 0, 0, 0, 0, 0, 0, 1, 0, 0, 0, 0, 0, 0, 0, 0, 0, 0, 0, 0, 0, 0, 1, 0, 0, 0, 0, 0, 0, 0, 0, 0, 0, 0, 0, 0, 0, 0, 0, 0, 0, 0, 0, 0, 0, 0, 0, 0, 0, 0, 0, 0, 0, 1, 1, 0, 0, 0, 0, 0, 0, 0, 0, 0, 0, 0, 0, 0, 0, 0, 0, 0, 0, 0, 0, 0, 0, 0, 0, 0, 0, 0, 0, 0, 0, 0, 0, 0, 0, 0, 0, 0, 0, 0, 0, 0, 1, 0, 0, 0, 0, 0, 0, 0, 0, 0, 0, 0, 0, 0, 0, 0, 0, 0, 0, 0, 0, 0, 0, 0, 0, 0, 0, 0, 0, 0, 0, 0, 0, 0, 0, 0, 0, 0, 0, 0, 0, 0, 0, 0, 0, 0, 0, 0, 0, 0, 0, 0, 0, 0, 0, 0, 0, 0, 0, 0, 1, 0, 0, 0, 0, 0, 0, 1, 0, 0, 0, 0, 1, 0, 0, 0, 0, 0, 0, 0, 0, 0, 0, 0, 0, 0, 0, 0, 0, 0, 0, 0, 0, 0, 0, 0, 0, 0, 0, 0, 0, 0, 0, 0, 0, 0, 1, 0, 0, 0, 0, 0, 0, 1, 0, 1, 0, 0, 0, 0, 0, 0, 0, 0, 0, 0, 0, 0, 0, 0, 0, 0, 0, 0, 0, 0, 0, 0, 1, 1, 0, 0, 0, 1, 0, 0, 0, 0, 1, 0, 0, 0, 0, 0, 0, 0, 0, 0, 0, 0, 1, 0, 0, 0, 0, 0, 0, 0, 0, 0, 0, 0, 0, 0, 0, 0, 0, 0, 0, 0, 0, 0, 1, 0, 0, 0, 0, 0, 0, 0, 0, 0, 0, 0, 0, 0, 0, 0, 0, 0, 1, 0, 0, 0, 0, 0, 0, 0, 0, 0, 0, 0, 0, 0, 0, 0, 0, 0, 0, 1, 0, 0, 0, 0, 0, 0, 0, 1, 0, 0, 0, 0, 1, 0, 0, 0, 0, 0, 0, 0, 0, 0, 0, 0, 0, 0, 0, 0, 0, 0, 0, 0, 1, 0, 0, 0, 0, 0, 0, 0, 0, 0, 0, 0, 0, 0, 0, 0, 0, 0, 0, 0, 0, 0, 0, 0, 0, 0, 0, 1, 0, 0, 0, 0, 0, 0, 0, 0, 0, 0, 1, 0, 0, 0, 0, 0, 0, 0, 0, 0, 0, 0, 0, 0, 0, 0, 1, 0, 0, 0, 0, 0, 0, 0, 0, 0, 0, 0, 0, 0, 0, 0, 0, 0, 0, 0, 0, 0, 0, 0, 0, 0, 0, 0, 0, 0, 0, 0, 0, 0, 0, 0, 0, 0, 0, 0, 0, 0, 0, 0, 0, 0, 0, 0, 0, 0, 0, 0, 0, 0, 0, 0, 0, 0, 0, 0, 1, 0, 0, 0, 0, 0, 0, 0, 0, 0, 0, 0, 0, 0, 0, 0, 0, 0, 0, 0, 0, 0, 0, 0, 0, 0, 1, 0, 0, 0, 0, 0, 0, 0, 0, 0, 0, 0, 0, 0, 0, 0, 0, 0, 0, 0, 0, 0, 0, 0, 0, 0, 0, 0, 0, 0, 0, 0, 0, 0, 1, 0, 0, 0, 0, 0, 0, 1, 0, 0, 0, 0, 0, 0, 0, 0, 0, 0, 0, 0, 0, 0, 0, 0, 0, 0, 0, 0, 1, 0, 0, 0, 0, 0, 0, 0, 0, 0, 0, 0, 0, 0, 1, 0, 0, 0, 0, 0, 0, 0, 1, 0, 0, 1, 0, 0, 0, 0, 0, 0, 0, 0, 0, 0, 0, 0, 1, 0, 0, 0, 0, 1, 0, 0, 0, 0, 0, 0, 0, 0, 0, 0, 0, 0, 0, 0, 1, 0, 0, 0, 0, 0, 0, 0, 0, 0, 0, 0, 0, 0, 0, 0, 0, 0, 0, 0, 0, 0, 0, 0, 0, 0, 0, 0, 0, 0, 0, 0, 0, 0, 0, 0, 0, 0, 0, 0, 1, 0, 0, 0, 0, 1, 0, 1, 0, 0, 0, 0, 0, 0, 0, 0, 0, 1, 0, 0, 0, 0, 0, 0, 0, 0, 0, 0, 0, 0, 0, 0, 0, 0, 0, 0, 0, 0, 0, 0, 1, 0, 0, 0, 0, 0, 0, 0, 0, 0, 1, 0, 0, 0, 0, 1, 0, 0, 0, 0, 0, 0, 0, 0, 0, 0, 0, 0, 1, 0, 0, 0, 0, 0, 0, 0, 1, 0, 0, 0, 0, 0, 0, 0, 0, 0, 0, 0, 0, 0, 0, 0, 0, 0, 0, 0, 0, 0, 0, 0, 1, 0, 0, 0, 1, 0, 0, 0, 0, 0, 0, 0, 0, 0, 1, 0, 0, 0, 0, 0, 0, 0, 0, 0, 0, 0, 0, 0, 1, 0, 0, 0, 0, 0, 0, 0, 0, 0, 0, 0, 0, 0, 0, 0, 0, 0, 0, 0, 0, 0, 0, 1, 0, 0, 0, 0, 0, 0, 0, 0, 0, 1, 0, 1, 0, 0, 0, 0, 0, 0, 0, 0, 0, 0, 0, 0, 0, 0, 0, 0, 0, 0, 0, 0, 0, 0, 0, 1, 0, 0, 0, 0, 0, 0, 0, 0, 0, 0, 0, 0, 0, 0, 0, 1, 0, 0, 0, 0, 0, 0, 0, 0, 0, 1, 0, 0, 0, 0, 0, 1, 0, 0, 1, 1, 0, 0, 0, 0, 0, 0, 0, 0, 0, 0, 0, 0, 0, 0, 0, 0, 0, 0, 0, 0, 0, 0, 0, 0, 0, 0, 0, 0, 0, 0, 0, 0, 0, 0, 1, 0, 0, 0, 0, 0, 0, 0, 0, 0, 0, 0, 0, 0, 0, 0, 0, 0, 0, 0, 0, 0, 0, 0, 0, 0, 0, 0, 0, 0, 0, 0, 0, 0, 0, 0, 0, 0, 0, 0, 0, 0, 0, 0, 0, 0, 0, 0, 0, 0, 0, 0, 0, 0, 0, 0, 0, 0, 0, 0, 0, 0, 0, 0, 0, 0, 0, 0, 0, 0, 0, 0, 0, 0, 0, 0, 0, 0, 0, 0, 0, 0, 0, 0, 0, 0, 0, 1, 1, 0, 0, 0, 0, 0, 0, 0, 0, 0, 0, 0, 0, 0, 0, 0, 0, 0, 0, 0, 0, 0, 0, 0, 1, 1, 0, 0, 0, 0, 0, 0, 0, 0, 0, 0, 0, 0, 0, 0, 0, 0, 0, 0, 0, 0, 0, 0, 0, 0, 0, 0, 0, 0, 0, 0, 0, 0, 0, 0, 0, 0, 0, 0, 0, 0, 0, 0, 1, 0, 0, 0, 0, 0, 1, 0, 0, 0, 0, 0, 0, 0, 0, 0, 0, 0, 0, 0, 0, 1, 0, 0, 1, 0, 0, 0, 0, 0, 0, 0, 0, 0, 0, 0, 1, 0, 0, 0, 0, 0, 0, 0, 0, 0, 0, 0, 0, 0, 0, 0, 0, 1, 0, 0, 0, 0, 0, 0, 0, 0, 0, 0, 0, 0, 0, 0, 0, 0, 0, 0, 0, 0, 0, 0, 0, 0, 0, 0, 0, 0, 0, 0, 0, 0, 0, 0, 1, 0, 0, 0, 0, 0, 1, 1, 0, 0, 0, 1, 0, 0, 0, 0, 1, 0, 0, 0, 1, 0, 0, 0, 0, 0, 0, 0, 0, 0, 0, 0, 0, 0, 0, 0, 1, 0, 0, 0, 0, 1, 0, 0, 0, 0, 0, 0, 0, 0, 1, 0, 0, 0, 0, 0, 0, 0, 0, 0, 0, 0, 0, 0, 0, 0, 0, 0, 0, 0, 0, 1, 0, 0, 0, 0, 0, 1, 0, 0, 0, 0, 0, 0, 0, 0, 0, 0, 0, 1, 0, 0, 0, 0, 0, 0, 0, 0, 0, 0, 0, 0, 0, 0, 0, 0, 0, 0, 0, 0, 0, 0, 0, 0, 0, 0, 0, 0, 0, 0, 0, 0, 0, 0, 0, 0, 0, 0, 0, 0, 0, 0, 0, 0, 0, 0, 0, 0, 0, 1, 0, 0, 0, 0, 0, 0, 0, 0, 0, 0, 0, 0, 0, 0, 0, 0, 1, 0, 1, 0, 0, 0, 0, 0, 1, 0, 0, 0, 0, 0, 0, 1, 0, 0, 0, 0, 0, 0, 1, 0, 0, 0, 0, 0, 0, 0, 0, 0, 0, 0, 0, 0, 0, 0, 0, 0, 0, 0, 0, 0, 0, 0, 0, 1, 0, 0, 0, 0, 0, 0, 0, 0, 0, 0, 0, 0, 0, 0, 0, 0, 0, 0, 0, 0, 0, 0, 0, 0, 0, 0, 0, 0, 0, 0, 0, 0, 0, 0, 0, 0, 0, 0, 0, 1, 0, 0, 1, 0, 0, 0, 0, 0, 0, 0, 0, 0, 0, 0, 0, 0, 1, 1, 0, 0, 0, 1, 0, 0, 0, 0, 0, 0, 0, 0, 0, 0, 0, 1, 0, 0, 0, 0, 0, 0, 0, 0, 0, 1, 0, 0, 0, 0, 0, 0, 0, 0, 0, 0, 0, 0, 0, 0, 0, 0, 0, 0, 0, 0, 0, 0, 0, 0, 0, 0, 0, 0, 0, 0, 0, 0, 0, 0, 0, 0, 0, 1, 0, 0, 0, 0, 0, 0, 0, 0, 0, 0, 0, 0, 0, 0, 0, 0, 0, 0, 0, 0, 0, 0, 0, 0, 0, 0, 0, 0, 0, 0, 0, 0, 0, 0, 0, 0, 0, 0, 0, 0, 0, 0, 0, 0, 0, 0, 0, 0, 0, 0, 0, 0, 0, 0, 0, 0, 0, 0, 0, 0, 0, 0, 0, 0, 0, 0, 0, 0, 0, 0, 0, 0, 0, 0, 0, 0, 0, 0, 0, 0, 0, 1, 0, 0, 0, 0, 0, 0, 0, 0, 0, 0, 0, 0, 0, 0, 0, 0, 0, 0, 0, 0, 0, 0, 0, 0, 0, 0, 0, 0, 0, 0, 0, 0, 0, 0, 0, 0, 0, 0, 0, 0, 0, 0, 1, 0, 0, 0, 0, 0, 0, 0, 0, 0, 0, 0, 0, 0, 0, 0, 0, 0, 0, 0, 0, 0, 0, 0, 0, 0, 0, 0, 0, 0, 0, 0, 0, 0, 0, 0, 0, 0, 0, 0, 0, 0, 0, 0, 0, 0, 0, 0, 1, 0, 0, 0, 0, 0, 0, 0, 0, 0, 0, 0, 1, 0, 0, 0]\n"
     ]
    }
   ],
   "source": [
    "from sklearn.model_selection import train_test_split\n",
    "\n",
    "X_train, X_test, y_train, y_test = train_test_split(data, target, test_size=0.3, random_state=42)\n",
    "\n",
    "print('X 테스트 데이터 :')\n",
    "print(X_test)\n",
    "print('y 테스트 데이터 :')\n",
    "print(list(y_test))"
   ]
  },
  {
   "cell_type": "code",
   "execution_count": 7,
   "metadata": {},
   "outputs": [
    {
     "name": "stdout",
     "output_type": "stream",
     "text": [
      "학습 세트 Shape:(8920, 11), 테스트 세트 Shape:(3823, 11)\n",
      " 학습 세트 레이블 값 분포 비율\n",
      "0    0.941368\n",
      "1    0.058632\n",
      "Name: 부실기업, dtype: float64\n",
      "\n",
      " 테스트 세트 레이블 값 분포 비율\n",
      "0    0.402354\n",
      "1    0.026233\n",
      "Name: 부실기업, dtype: float64\n"
     ]
    }
   ],
   "source": [
    "# 피처, 레이블 데이터 분포 비율\n",
    "\n",
    "train_cnt = y_train.count()\n",
    "test_cnt = y_test.count()\n",
    "print('학습 세트 Shape:{0}, 테스트 세트 Shape:{1}'.format(X_train.shape, X_test.shape))\n",
    "\n",
    "print(' 학습 세트 레이블 값 분포 비율')\n",
    "print(y_train.value_counts()/train_cnt)\n",
    "print('\\n 테스트 세트 레이블 값 분포 비율')\n",
    "print(y_test.value_counts()/train_cnt)"
   ]
  },
  {
   "cell_type": "markdown",
   "metadata": {},
   "source": [
    "### 언더샘플링 버전\n",
    "version 1 : 서로 가장 붙어있는 n개의 소수 클래스 데이터로부터 minimum avg distance인 다수 클래스로부터 샘플링\n",
    "\n",
    "version 2 : 서로 가장 멀리있는 n개의 소수 클래스 데이터로부터 minimum avg distance인 다수 클래스로부터 샘플링\n",
    "\n",
    "version 3 : 소수 클래스의 각 데이터 포인트마다 가장 가까운 다수 클래스 데이터를 샘플링"
   ]
  },
  {
   "cell_type": "code",
   "execution_count": 8,
   "metadata": {},
   "outputs": [
    {
     "name": "stdout",
     "output_type": "stream",
     "text": [
      "nearmiss 적용 전 학습용 피처/레이블 데이터 세트:  (8920, 11) (8920,)\n",
      "nearmiss 적용 후 학습용 피처/레이블 데이터 세트:  (1046, 11) (1046,)\n",
      "\n",
      " nearmiss 적용 전 레이블 값 분포: \n",
      " 0    8397\n",
      "1     523\n",
      "Name: 부실기업, dtype: int64\n",
      "\n",
      " nearmiss 적용 후 레이블 값 분포: \n",
      " 0    523\n",
      "1    523\n",
      "Name: 부실기업, dtype: int64\n"
     ]
    }
   ],
   "source": [
    "# Undersample imbalanced dataset with NearMiss-1\n",
    "from imblearn.under_sampling import NearMiss\n",
    "\n",
    "nearmiss = NearMiss(version=1, n_neighbors=5)\n",
    "X_train_under, y_train_under = nearmiss.fit_resample(X_train, y_train)\n",
    "print('nearmiss 적용 전 학습용 피처/레이블 데이터 세트: ', X_train.shape, y_train.shape)\n",
    "print('nearmiss 적용 후 학습용 피처/레이블 데이터 세트: ', X_train_under.shape, y_train_under.shape)\n",
    "\n",
    "print('\\n nearmiss 적용 전 레이블 값 분포: \\n', pd.Series(y_train).value_counts())\n",
    "print('\\n nearmiss 적용 후 레이블 값 분포: \\n', pd.Series(y_train_under).value_counts())"
   ]
  },
  {
   "cell_type": "code",
   "execution_count": 9,
   "metadata": {},
   "outputs": [],
   "source": [
    "def plot_roc_curve(y_train_under, y_test, train_pred, test_pred, train_prob, test_prob):\n",
    "    from sklearn.metrics import roc_curve, roc_auc_score, f1_score, f1_score, accuracy_score, roc_auc_score, recall_score, precision_score\n",
    "    \n",
    "    fpr, tpr, thresholds = roc_curve(y_test, test_prob) # output 3개가 나오는데, 각 threshhold 마다의 fpr, tpr값 인듯\n",
    "    \n",
    "    train_roc_auc = roc_auc_score(y_train_under, train_pred)\n",
    "    test_roc_auc = roc_auc_score(y_test, test_pred)\n",
    "    \n",
    "    train_f1 = f1_score(y_train_under, train_pred)\n",
    "    test_f1 = f1_score(y_test, test_pred)\n",
    "    \n",
    "    train_recall = recall_score(y_train_under, train_pred)\n",
    "    test_recall = recall_score(y_test, test_pred)\n",
    "    \n",
    "    train_pre = precision_score(y_train_under, train_pred)\n",
    "    test_pre = precision_score(y_test, test_pred)  \n",
    "    \n",
    "    train_acc = accuracy_score(y_train_under, train_pred)\n",
    "    test_acc = accuracy_score(y_test, test_pred)\n",
    "    \n",
    "    plt.plot(fpr, tpr, color='red', label='ROC')\n",
    "    plt.plot([0, 1], [0, 1], color='green', linestyle='--')\n",
    "    plt.xlabel('False Positive Rate')\n",
    "    plt.ylabel('True Positive Rate')\n",
    "    plt.title('test ROC : {}'.format(round(roc_auc_score(y_test, test_prob),3)),fontsize=16)\n",
    "    plt.legend()\n",
    "    plt.show()\n",
    "    \n",
    "    print('train_roc_auc score: ',train_roc_auc)\n",
    "    print('test_roc_auc score: ',test_roc_auc,'\\n')\n",
    "    \n",
    "    print('train_f1 score: ',train_f1)\n",
    "    print('test_f1 score: ',test_f1,'\\n')\n",
    "    \n",
    "    print('train_recall score: ',train_recall)\n",
    "    print('test_recall score: ',test_recall,'\\n')\n",
    "\n",
    "    print('train_pre score: ',train_pre)\n",
    "    print('test_pre score: ',test_pre,'\\n')\n",
    "    \n",
    "    print('train acc score: ',train_acc)\n",
    "    print('test acc score: ',test_acc, '\\n')"
   ]
  },
  {
   "cell_type": "code",
   "execution_count": 10,
   "metadata": {},
   "outputs": [],
   "source": [
    "def confusion_matrix(y_test, test_pred):\n",
    "    TP, FP, TN, FN = 0\n",
    "    for (y, pred) in zip(y_test, test_pred):\n",
    "        if y == 1 and pred==1:\n",
    "            TP+=1\n",
    "        elif y==0 and pred==1:\n",
    "            FP+=1\n",
    "        elif y == 0 and pred==0:\n",
    "            TN+=1\n",
    "        elif y==1 and pred==0:\n",
    "            FN+=1\n",
    "    \n",
    "    print('     y_true') \n",
    "    print('pred',[TP, TN],'\\n    ',[FN,FP])"
   ]
  },
  {
   "cell_type": "markdown",
   "metadata": {},
   "source": [
    "## Decision Tree"
   ]
  },
  {
   "cell_type": "code",
   "execution_count": 11,
   "metadata": {},
   "outputs": [
    {
     "data": {
      "image/png": "[encoded data removed]",
      "text/plain": [
       "<Figure size 432x288 with 1 Axes>"
      ]
     },
     "metadata": {
      "needs_background": "light"
     },
     "output_type": "display_data"
    },
    {
     "name": "stdout",
     "output_type": "stream",
     "text": [
      "train_roc_auc score:  1.0\n",
      "test_roc_auc score:  0.5646711342587631 \n",
      "\n",
      "train_f1 score:  1.0\n",
      "test_f1 score:  0.1314523885860853 \n",
      "\n",
      "train_recall score:  1.0\n",
      "test_recall score:  0.8760683760683761 \n",
      "\n",
      "train_pre score:  1.0\n",
      "test_pre score:  0.07105719237435008 \n",
      "\n",
      "train acc score:  1.0\n",
      "test acc score:  0.2913941930421135 \n",
      "\n"
     ]
    }
   ],
   "source": [
    "from sklearn.tree import DecisionTreeClassifier\n",
    "import time\n",
    "import matplotlib.pyplot as plt\n",
    "import warnings\n",
    "warnings.filterwarnings('ignore')\n",
    "\n",
    "# DecisionTreeClassifier 학습/예측/평가\n",
    "dt_clf_time = time.time()\n",
    "\n",
    "dt_clf = DecisionTreeClassifier(random_state=42)\n",
    "\n",
    "trained_model = dt_clf.fit(X_train_under,y_train_under)\n",
    "train_pred = trained_model.predict(X_train_under)\n",
    "train_prob = trained_model.predict_proba(X_train_under)[:, 1]\n",
    "\n",
    "test_pred = trained_model.predict(X_test)\n",
    "test_prob = trained_model.predict_proba(X_test)[:, 1]\n",
    "\n",
    "plot_roc_curve(y_train_under, y_test, train_pred, test_pred, train_prob, test_prob)"
   ]
  },
  {
   "cell_type": "markdown",
   "metadata": {},
   "source": [
    "## Random Forest"
   ]
  },
  {
   "cell_type": "code",
   "execution_count": 12,
   "metadata": {},
   "outputs": [
    {
     "data": {
      "image/png": "[encoded data removed]",
      "text/plain": [
       "<Figure size 432x288 with 1 Axes>"
      ]
     },
     "metadata": {
      "needs_background": "light"
     },
     "output_type": "display_data"
    },
    {
     "name": "stdout",
     "output_type": "stream",
     "text": [
      "train_roc_auc score:  1.0\n",
      "test_roc_auc score:  0.5569201239304332 \n",
      "\n",
      "train_f1 score:  1.0\n",
      "test_f1 score:  0.1289145636971724 \n",
      "\n",
      "train_recall score:  1.0\n",
      "test_recall score:  0.905982905982906 \n",
      "\n",
      "train_pre score:  1.0\n",
      "test_pre score:  0.06939443535188217 \n",
      "\n",
      "train acc score:  1.0\n",
      "test acc score:  0.25058854302903477 \n",
      "\n"
     ]
    }
   ],
   "source": [
    "from sklearn.ensemble import RandomForestClassifier\n",
    "import time\n",
    "import warnings\n",
    "warnings.filterwarnings('ignore')\n",
    "\n",
    "# DecisionTreeClassifier 학습/예측/평가\n",
    "rf_clf_time = time.time()\n",
    "\n",
    "rf_clf = RandomForestClassifier(random_state=42, n_jobs=-1)\n",
    "\n",
    "trained_model = rf_clf.fit(X_train_under, y_train_under,)\n",
    "\n",
    "train_pred = trained_model.predict(X_train_under)\n",
    "train_prob = trained_model.predict_proba(X_train_under)[:, 1]\n",
    "\n",
    "test_pred = trained_model.predict(X_test)\n",
    "test_prob = trained_model.predict_proba(X_test)[:, 1]\n",
    "\n",
    "plot_roc_curve(y_train_under, y_test, train_pred, test_pred, train_prob, test_prob)"
   ]
  },
  {
   "cell_type": "markdown",
   "metadata": {},
   "source": [
    "## GB Classifier"
   ]
  },
  {
   "cell_type": "code",
   "execution_count": 13,
   "metadata": {},
   "outputs": [
    {
     "data": {
      "image/png": "[encoded data removed]",
      "text/plain": [
       "<Figure size 432x288 with 1 Axes>"
      ]
     },
     "metadata": {
      "needs_background": "light"
     },
     "output_type": "display_data"
    },
    {
     "name": "stdout",
     "output_type": "stream",
     "text": [
      "train_roc_auc score:  0.9703632887189293\n",
      "test_roc_auc score:  0.6001076413447547 \n",
      "\n",
      "train_f1 score:  0.9699903194578896\n",
      "test_f1 score:  0.14232964081906682 \n",
      "\n",
      "train_recall score:  0.9579349904397706\n",
      "test_recall score:  0.905982905982906 \n",
      "\n",
      "train_pre score:  0.9823529411764705\n",
      "test_pre score:  0.07723132969034609 \n",
      "\n",
      "train acc score:  0.9703632887189293\n",
      "test acc score:  0.33167669369605024 \n",
      "\n"
     ]
    }
   ],
   "source": [
    "from sklearn.ensemble import GradientBoostingClassifier\n",
    "import time\n",
    "import warnings\n",
    "warnings.filterwarnings('ignore')\n",
    "\n",
    "# DecisionTreeClassifier 학습/예측/평가\n",
    "gb_clf_time = time.time()\n",
    "\n",
    "gb_clf = GradientBoostingClassifier(random_state=42)\n",
    "\n",
    "trained_model = gb_clf.fit(X_train_under, y_train_under,)\n",
    "\n",
    "train_pred = trained_model.predict(X_train_under)\n",
    "train_prob = trained_model.predict_proba(X_train_under)[:, 1]\n",
    "\n",
    "test_pred = trained_model.predict(X_test)\n",
    "test_prob = trained_model.predict_proba(X_test)[:, 1]\n",
    "\n",
    "plot_roc_curve(y_train_under, y_test, train_pred, test_pred, train_prob, test_prob)"
   ]
  },
  {
   "cell_type": "markdown",
   "metadata": {},
   "source": [
    "## LightGBM"
   ]
  },
  {
   "cell_type": "code",
   "execution_count": 14,
   "metadata": {},
   "outputs": [
    {
     "name": "stdout",
     "output_type": "stream",
     "text": [
      "[5]\tvalid_0's auc: 0.723673\tvalid_0's binary_logloss: 0.81366\n",
      "[10]\tvalid_0's auc: 0.71296\tvalid_0's binary_logloss: 0.964619\n",
      "[15]\tvalid_0's auc: 0.714699\tvalid_0's binary_logloss: 1.11154\n",
      "[20]\tvalid_0's auc: 0.729933\tvalid_0's binary_logloss: 1.21912\n",
      "[25]\tvalid_0's auc: 0.721519\tvalid_0's binary_logloss: 1.37043\n"
     ]
    },
    {
     "data": {
      "image/png": "[encoded data removed]",
      "text/plain": [
       "<Figure size 432x288 with 1 Axes>"
      ]
     },
     "metadata": {
      "needs_background": "light"
     },
     "output_type": "display_data"
    },
    {
     "name": "stdout",
     "output_type": "stream",
     "text": [
      "train_roc_auc score:  0.8642447418738051\n",
      "test_roc_auc score:  0.5869055018539555 \n",
      "\n",
      "train_f1 score:  0.8523908523908524\n",
      "test_f1 score:  0.14010378057820608 \n",
      "\n",
      "train_recall score:  0.7839388145315488\n",
      "test_recall score:  0.8076923076923077 \n",
      "\n",
      "train_pre score:  0.9339407744874715\n",
      "test_pre score:  0.07670454545454546 \n",
      "\n",
      "train acc score:  0.864244741873805\n",
      "test acc score:  0.39314674339523936 \n",
      "\n",
      "---0.4118938446044922 seconds ---\n"
     ]
    }
   ],
   "source": [
    "import lightgbm\n",
    "from lightgbm import LGBMClassifier\n",
    "import os\n",
    "import time\n",
    "\n",
    "start_time=time.time()\n",
    "\n",
    "model = LGBMClassifier(\n",
    "                        learning_rate=0.1, \n",
    "                        num_iterations = 1000, # n_estimator 랑 같은 것 같음\n",
    "                        max_depth = 4,\n",
    "                        n_jobs=-1,\n",
    "                        boost_from_average=False)\n",
    "\n",
    "trained_model = model.fit(X_train_under,y_train_under, \n",
    "        eval_set=[(X_test, y_test)],\n",
    "        early_stopping_rounds=25, \n",
    "        verbose = 5, \n",
    "        eval_metric = 'auc')\n",
    "\n",
    "train_pred = trained_model.predict(X_train_under)\n",
    "train_prob = trained_model.predict_proba(X_train_under)[:, 1]\n",
    "\n",
    "test_pred = trained_model.predict(X_test)\n",
    "test_prob = trained_model.predict_proba(X_test)[:, 1]\n",
    "\n",
    "plot_roc_curve(y_train_under, y_test, train_pred, test_pred, train_prob, test_prob)\n",
    "# confusion_matrix(y_test, test_pred)\n",
    "print(\"---%s seconds ---\" % (time.time() - start_time))"
   ]
  },
  {
   "cell_type": "markdown",
   "metadata": {},
   "source": [
    "## XGB Classifier"
   ]
  },
  {
   "cell_type": "code",
   "execution_count": 15,
   "metadata": {},
   "outputs": [
    {
     "data": {
      "image/png": "[encoded data removed]",
      "text/plain": [
       "<Figure size 432x288 with 1 Axes>"
      ]
     },
     "metadata": {
      "needs_background": "light"
     },
     "output_type": "display_data"
    },
    {
     "name": "stdout",
     "output_type": "stream",
     "text": [
      "train_roc_auc score:  0.8642447418738051\n",
      "test_roc_auc score:  0.5869055018539555 \n",
      "\n",
      "train_f1 score:  0.8523908523908524\n",
      "test_f1 score:  0.14010378057820608 \n",
      "\n",
      "train_recall score:  0.7839388145315488\n",
      "test_recall score:  0.8076923076923077 \n",
      "\n",
      "train_pre score:  0.9339407744874715\n",
      "test_pre score:  0.07670454545454546 \n",
      "\n",
      "train acc score:  0.864244741873805\n",
      "test acc score:  0.39314674339523936 \n",
      "\n"
     ]
    }
   ],
   "source": [
    "from xgboost import XGBClassifier\n",
    "import time\n",
    "import warnings\n",
    "warnings.filterwarnings('ignore')\n",
    "\n",
    "# DecisionTreeClassifier 학습/예측/평가\n",
    "xgb_clf_time = time.time()\n",
    "\n",
    "xgb_clf = XGBClassifier(n_estimator=300, learning_rate=0.1, max_depth=5)\n",
    "\n",
    "xtrained_model = gb_clf.fit(X_train_under, y_train_under,)\n",
    "\n",
    "train_pred = trained_model.predict(X_train_under)\n",
    "train_prob = trained_model.predict_proba(X_train_under)[:, 1]\n",
    "\n",
    "test_pred = trained_model.predict(X_test)\n",
    "test_prob = trained_model.predict_proba(X_test)[:, 1]\n",
    "\n",
    "plot_roc_curve(y_train_under, y_test, train_pred, test_pred, train_prob, test_prob)"
   ]
  },
  {
   "cell_type": "markdown",
   "metadata": {},
   "source": [
    "## KNN"
   ]
  },
  {
   "cell_type": "code",
   "execution_count": 16,
   "metadata": {},
   "outputs": [
    {
     "data": {
      "image/png": "[encoded data removed]",
      "text/plain": [
       "<Figure size 432x288 with 1 Axes>"
      ]
     },
     "metadata": {
      "needs_background": "light"
     },
     "output_type": "display_data"
    },
    {
     "name": "stdout",
     "output_type": "stream",
     "text": [
      "train_roc_auc score:  0.8785850860420651\n",
      "test_roc_auc score:  0.6225700323638468 \n",
      "\n",
      "train_f1 score:  0.8664563617245005\n",
      "test_f1 score:  0.1547911547911548 \n",
      "\n",
      "train_recall score:  0.7877629063097514\n",
      "test_recall score:  0.8076923076923077 \n",
      "\n",
      "train_pre score:  0.9626168224299065\n",
      "test_pre score:  0.08559782608695653 \n",
      "\n",
      "train acc score:  0.878585086042065\n",
      "test acc score:  0.4601098613654198 \n",
      "\n"
     ]
    }
   ],
   "source": [
    "from sklearn.neighbors import KNeighborsClassifier\n",
    "import time\n",
    "import warnings\n",
    "warnings.filterwarnings('ignore')\n",
    "\n",
    "# DecisionTreeClassifier 학습/예측/평가\n",
    "knn_clf_time = time.time()\n",
    "\n",
    "knn_clf = KNeighborsClassifier()\n",
    "\n",
    "trained_model = knn_clf.fit(X_train_under, y_train_under,)\n",
    "\n",
    "train_pred = trained_model.predict(X_train_under)\n",
    "train_prob = trained_model.predict_proba(X_train_under)[:, 1]\n",
    "\n",
    "test_pred = trained_model.predict(X_test)\n",
    "test_prob = trained_model.predict_proba(X_test)[:, 1]\n",
    "\n",
    "plot_roc_curve(y_train_under, y_test, train_pred, test_pred, train_prob, test_prob)"
   ]
  },
  {
   "cell_type": "markdown",
   "metadata": {},
   "source": [
    "## GaussianNB"
   ]
  },
  {
   "cell_type": "code",
   "execution_count": 17,
   "metadata": {},
   "outputs": [
    {
     "data": {
      "image/png": "[encoded data removed]",
      "text/plain": [
       "<Figure size 432x288 with 1 Axes>"
      ]
     },
     "metadata": {
      "needs_background": "light"
     },
     "output_type": "display_data"
    },
    {
     "name": "stdout",
     "output_type": "stream",
     "text": [
      "train_roc_auc score:  0.8738049713193116\n",
      "test_roc_auc score:  0.5813347050460452 \n",
      "\n",
      "train_f1 score:  0.8586723768736616\n",
      "test_f1 score:  0.1377825618945102 \n",
      "\n",
      "train_recall score:  0.7667304015296367\n",
      "test_recall score:  0.8205128205128205 \n",
      "\n",
      "train_pre score:  0.975669099756691\n",
      "test_pre score:  0.07520564042303172 \n",
      "\n",
      "train acc score:  0.8738049713193117\n",
      "test acc score:  0.37143604499084487 \n",
      "\n"
     ]
    }
   ],
   "source": [
    "from sklearn.naive_bayes import GaussianNB\n",
    "import time\n",
    "import warnings\n",
    "warnings.filterwarnings('ignore')\n",
    "\n",
    "# DecisionTreeClassifier 학습/예측/평가\n",
    "nb_clf_time = time.time()\n",
    "\n",
    "nb_clf = GaussianNB()\n",
    "\n",
    "trained_model = nb_clf.fit(X_train_under, y_train_under,)\n",
    "\n",
    "train_pred = trained_model.predict(X_train_under)\n",
    "train_prob = trained_model.predict_proba(X_train_under)[:, 1]\n",
    "\n",
    "test_pred = trained_model.predict(X_test)\n",
    "test_prob = trained_model.predict_proba(X_test)[:, 1]\n",
    "\n",
    "plot_roc_curve(y_train_under, y_test, train_pred, test_pred, train_prob, test_prob)"
   ]
  },
  {
   "cell_type": "markdown",
   "metadata": {},
   "source": [
    "## SVC"
   ]
  },
  {
   "cell_type": "code",
   "execution_count": 18,
   "metadata": {},
   "outputs": [
    {
     "ename": "AttributeError",
     "evalue": "predict_proba is not available when  probability=False",
     "output_type": "error",
     "traceback": [
      "\u001b[1;31m---------------------------------------------------------------------------\u001b[0m",
      "\u001b[1;31mAttributeError\u001b[0m                            Traceback (most recent call last)",
      "\u001b[1;32mc:\\project2_quaero\\리샘플링\\dataset1_raw_robust_nearmiss.ipynb 셀 29\u001b[0m in \u001b[0;36m<cell line: 14>\u001b[1;34m()\u001b[0m\n\u001b[0;32m     <a href='vscode-notebook-cell:/c%3A/project2_quaero/%EB%A6%AC%EC%83%98%ED%94%8C%EB%A7%81/dataset1_raw_robust_nearmiss.ipynb#X40sZmlsZQ%3D%3D?line=10'>11</a>\u001b[0m trained_model \u001b[39m=\u001b[39m svc_clf\u001b[39m.\u001b[39mfit(X_train_under, y_train_under,)\n\u001b[0;32m     <a href='vscode-notebook-cell:/c%3A/project2_quaero/%EB%A6%AC%EC%83%98%ED%94%8C%EB%A7%81/dataset1_raw_robust_nearmiss.ipynb#X40sZmlsZQ%3D%3D?line=12'>13</a>\u001b[0m train_pred \u001b[39m=\u001b[39m trained_model\u001b[39m.\u001b[39mpredict(X_train_under)\n\u001b[1;32m---> <a href='vscode-notebook-cell:/c%3A/project2_quaero/%EB%A6%AC%EC%83%98%ED%94%8C%EB%A7%81/dataset1_raw_robust_nearmiss.ipynb#X40sZmlsZQ%3D%3D?line=13'>14</a>\u001b[0m train_prob \u001b[39m=\u001b[39m trained_model\u001b[39m.\u001b[39;49mpredict_proba(X_train_under)[:, \u001b[39m1\u001b[39m]\n\u001b[0;32m     <a href='vscode-notebook-cell:/c%3A/project2_quaero/%EB%A6%AC%EC%83%98%ED%94%8C%EB%A7%81/dataset1_raw_robust_nearmiss.ipynb#X40sZmlsZQ%3D%3D?line=15'>16</a>\u001b[0m test_pred \u001b[39m=\u001b[39m trained_model\u001b[39m.\u001b[39mpredict(X_test)\n\u001b[0;32m     <a href='vscode-notebook-cell:/c%3A/project2_quaero/%EB%A6%AC%EC%83%98%ED%94%8C%EB%A7%81/dataset1_raw_robust_nearmiss.ipynb#X40sZmlsZQ%3D%3D?line=16'>17</a>\u001b[0m test_prob \u001b[39m=\u001b[39m trained_model\u001b[39m.\u001b[39mpredict_proba(X_test)[:, \u001b[39m1\u001b[39m]\n",
      "File \u001b[1;32mc:\\Users\\wndgj\\AppData\\Local\\Programs\\Python\\Python310\\lib\\site-packages\\sklearn\\utils\\metaestimators.py:127\u001b[0m, in \u001b[0;36m_AvailableIfDescriptor.__get__\u001b[1;34m(self, obj, owner)\u001b[0m\n\u001b[0;32m    121\u001b[0m attr_err \u001b[39m=\u001b[39m \u001b[39mAttributeError\u001b[39;00m(\n\u001b[0;32m    122\u001b[0m     \u001b[39mf\u001b[39m\u001b[39m\"\u001b[39m\u001b[39mThis \u001b[39m\u001b[39m{\u001b[39;00m\u001b[39mrepr\u001b[39m(owner\u001b[39m.\u001b[39m\u001b[39m__name__\u001b[39m)\u001b[39m}\u001b[39;00m\u001b[39m has no attribute \u001b[39m\u001b[39m{\u001b[39;00m\u001b[39mrepr\u001b[39m(\u001b[39mself\u001b[39m\u001b[39m.\u001b[39mattribute_name)\u001b[39m}\u001b[39;00m\u001b[39m\"\u001b[39m\n\u001b[0;32m    123\u001b[0m )\n\u001b[0;32m    124\u001b[0m \u001b[39mif\u001b[39;00m obj \u001b[39mis\u001b[39;00m \u001b[39mnot\u001b[39;00m \u001b[39mNone\u001b[39;00m:\n\u001b[0;32m    125\u001b[0m     \u001b[39m# delegate only on instances, not the classes.\u001b[39;00m\n\u001b[0;32m    126\u001b[0m     \u001b[39m# this is to allow access to the docstrings.\u001b[39;00m\n\u001b[1;32m--> 127\u001b[0m     \u001b[39mif\u001b[39;00m \u001b[39mnot\u001b[39;00m \u001b[39mself\u001b[39;49m\u001b[39m.\u001b[39;49mcheck(obj):\n\u001b[0;32m    128\u001b[0m         \u001b[39mraise\u001b[39;00m attr_err\n\u001b[0;32m    129\u001b[0m     out \u001b[39m=\u001b[39m MethodType(\u001b[39mself\u001b[39m\u001b[39m.\u001b[39mfn, obj)\n",
      "File \u001b[1;32mc:\\Users\\wndgj\\AppData\\Local\\Programs\\Python\\Python310\\lib\\site-packages\\sklearn\\svm\\_base.py:819\u001b[0m, in \u001b[0;36mBaseSVC._check_proba\u001b[1;34m(self)\u001b[0m\n\u001b[0;32m    817\u001b[0m \u001b[39mdef\u001b[39;00m \u001b[39m_check_proba\u001b[39m(\u001b[39mself\u001b[39m):\n\u001b[0;32m    818\u001b[0m     \u001b[39mif\u001b[39;00m \u001b[39mnot\u001b[39;00m \u001b[39mself\u001b[39m\u001b[39m.\u001b[39mprobability:\n\u001b[1;32m--> 819\u001b[0m         \u001b[39mraise\u001b[39;00m \u001b[39mAttributeError\u001b[39;00m(\n\u001b[0;32m    820\u001b[0m             \u001b[39m\"\u001b[39m\u001b[39mpredict_proba is not available when  probability=False\u001b[39m\u001b[39m\"\u001b[39m\n\u001b[0;32m    821\u001b[0m         )\n\u001b[0;32m    822\u001b[0m     \u001b[39mif\u001b[39;00m \u001b[39mself\u001b[39m\u001b[39m.\u001b[39m_impl \u001b[39mnot\u001b[39;00m \u001b[39min\u001b[39;00m (\u001b[39m\"\u001b[39m\u001b[39mc_svc\u001b[39m\u001b[39m\"\u001b[39m, \u001b[39m\"\u001b[39m\u001b[39mnu_svc\u001b[39m\u001b[39m\"\u001b[39m):\n\u001b[0;32m    823\u001b[0m         \u001b[39mraise\u001b[39;00m \u001b[39mAttributeError\u001b[39;00m(\u001b[39m\"\u001b[39m\u001b[39mpredict_proba only implemented for SVC and NuSVC\u001b[39m\u001b[39m\"\u001b[39m)\n",
      "\u001b[1;31mAttributeError\u001b[0m: predict_proba is not available when  probability=False"
     ]
    }
   ],
   "source": [
    "from sklearn.svm import SVC\n",
    "import time\n",
    "import warnings\n",
    "warnings.filterwarnings('ignore')\n",
    "\n",
    "# DecisionTreeClassifier 학습/예측/평가\n",
    "svc_clf_time = time.time()\n",
    "\n",
    "svc_clf = SVC()\n",
    "\n",
    "trained_model = svc_clf.fit(X_train_under, y_train_under,)\n",
    "\n",
    "train_pred = trained_model.predict(X_train_under)\n",
    "train_prob = trained_model.predict_proba(X_train_under)[:, 1]\n",
    "\n",
    "test_pred = trained_model.predict(X_test)\n",
    "test_prob = trained_model.predict_proba(X_test)[:, 1]\n",
    "\n",
    "plot_roc_curve(y_train_under, y_test, train_pred, test_pred, train_prob, test_prob)"
   ]
  },
  {
   "cell_type": "code",
   "execution_count": null,
   "metadata": {},
   "outputs": [],
   "source": []
  }
 ],
 "metadata": {
  "kernelspec": {
   "display_name": "Python 3.10.1 64-bit",
   "language": "python",
   "name": "python3"
  },
  "language_info": {
   "codemirror_mode": {
    "name": "ipython",
    "version": 3
   },
   "file_extension": ".py",
   "mimetype": "text/x-python",
   "name": "python",
   "nbconvert_exporter": "python",
   "pygments_lexer": "ipython3",
   "version": "3.10.1"
  },
  "orig_nbformat": 4,
  "vscode": {
   "interpreter": {
    "hash": "664601c8c9e5ea170ac235a51849067b39cba8c284ace64cc1dec43cb5b20d30"
   }
  }
 },
 "nbformat": 4,
 "nbformat_minor": 2
}
