{
 "cells": [
  {
   "cell_type": "code",
   "execution_count": 39,
   "metadata": {},
   "outputs": [],
   "source": [
    "import pandas as pd \n",
    "\n",
    "pd.set_option('display.max_columns', None)"
   ]
  },
  {
   "cell_type": "code",
   "execution_count": 46,
   "metadata": {},
   "outputs": [
    {
     "data": {
      "text/html": [
       "<div>\n",
       "<style scoped>\n",
       "    .dataframe tbody tr th:only-of-type {\n",
       "        vertical-align: middle;\n",
       "    }\n",
       "\n",
       "    .dataframe tbody tr th {\n",
       "        vertical-align: top;\n",
       "    }\n",
       "\n",
       "    .dataframe thead th {\n",
       "        text-align: right;\n",
       "    }\n",
       "</style>\n",
       "<table border=\"1\" class=\"dataframe\">\n",
       "  <thead>\n",
       "    <tr style=\"text-align: right;\">\n",
       "      <th></th>\n",
       "      <th>회사명</th>\n",
       "      <th>거래소코드</th>\n",
       "      <th>회계년도</th>\n",
       "      <th>상장일</th>\n",
       "      <th>상장폐지일_x</th>\n",
       "      <th>부실기업1</th>\n",
       "      <th>부실기업2</th>\n",
       "      <th>부실기업</th>\n",
       "      <th>업종</th>\n",
       "      <th>경기민감도</th>\n",
       "      <th>총자본증가율</th>\n",
       "      <th>매출액증가율</th>\n",
       "      <th>종업원수증가율</th>\n",
       "      <th>매출액정상영업이익률</th>\n",
       "      <th>총자본정상영업이익률</th>\n",
       "      <th>자기자본정상영업이익률</th>\n",
       "      <th>금융비용부담률</th>\n",
       "      <th>수지비율</th>\n",
       "      <th>자기자본구성비율</th>\n",
       "      <th>CASH FLOW 대 총자본비율</th>\n",
       "      <th>총자본투자효율</th>\n",
       "      <th>순운전자본회전률</th>\n",
       "    </tr>\n",
       "  </thead>\n",
       "  <tbody>\n",
       "    <tr>\n",
       "      <th>0</th>\n",
       "      <td>(주)CMG제약</td>\n",
       "      <td>58820</td>\n",
       "      <td>201112</td>\n",
       "      <td>200108</td>\n",
       "      <td>NaN</td>\n",
       "      <td>0</td>\n",
       "      <td>0</td>\n",
       "      <td>0</td>\n",
       "      <td>제조업</td>\n",
       "      <td>1</td>\n",
       "      <td>13.166482</td>\n",
       "      <td>56.396905</td>\n",
       "      <td>4.65</td>\n",
       "      <td>3.61</td>\n",
       "      <td>2.37</td>\n",
       "      <td>3.51</td>\n",
       "      <td>0.80</td>\n",
       "      <td>108.35</td>\n",
       "      <td>66.046945</td>\n",
       "      <td>-15.65</td>\n",
       "      <td>12.72</td>\n",
       "      <td>0.86</td>\n",
       "    </tr>\n",
       "    <tr>\n",
       "      <th>1</th>\n",
       "      <td>(주)CMG제약</td>\n",
       "      <td>58820</td>\n",
       "      <td>201212</td>\n",
       "      <td>200108</td>\n",
       "      <td>NaN</td>\n",
       "      <td>0</td>\n",
       "      <td>0</td>\n",
       "      <td>0</td>\n",
       "      <td>제조업</td>\n",
       "      <td>1</td>\n",
       "      <td>109.147119</td>\n",
       "      <td>-8.429134</td>\n",
       "      <td>-0.74</td>\n",
       "      <td>-25.87</td>\n",
       "      <td>-9.96</td>\n",
       "      <td>-16.95</td>\n",
       "      <td>2.53</td>\n",
       "      <td>140.55</td>\n",
       "      <td>55.317408</td>\n",
       "      <td>-3.62</td>\n",
       "      <td>0.47</td>\n",
       "      <td>0.42</td>\n",
       "    </tr>\n",
       "    <tr>\n",
       "      <th>2</th>\n",
       "      <td>(주)CMG제약</td>\n",
       "      <td>58820</td>\n",
       "      <td>201312</td>\n",
       "      <td>200108</td>\n",
       "      <td>NaN</td>\n",
       "      <td>0</td>\n",
       "      <td>0</td>\n",
       "      <td>0</td>\n",
       "      <td>제조업</td>\n",
       "      <td>1</td>\n",
       "      <td>-2.093352</td>\n",
       "      <td>25.510008</td>\n",
       "      <td>1.49</td>\n",
       "      <td>3.88</td>\n",
       "      <td>1.40</td>\n",
       "      <td>1.96</td>\n",
       "      <td>1.65</td>\n",
       "      <td>98.55</td>\n",
       "      <td>87.631971</td>\n",
       "      <td>-4.93</td>\n",
       "      <td>12.51</td>\n",
       "      <td>0.42</td>\n",
       "    </tr>\n",
       "    <tr>\n",
       "      <th>3</th>\n",
       "      <td>(주)CMG제약</td>\n",
       "      <td>58820</td>\n",
       "      <td>201412</td>\n",
       "      <td>200108</td>\n",
       "      <td>NaN</td>\n",
       "      <td>0</td>\n",
       "      <td>0</td>\n",
       "      <td>0</td>\n",
       "      <td>제조업</td>\n",
       "      <td>1</td>\n",
       "      <td>3.855597</td>\n",
       "      <td>11.520576</td>\n",
       "      <td>20.59</td>\n",
       "      <td>1.94</td>\n",
       "      <td>0.78</td>\n",
       "      <td>0.90</td>\n",
       "      <td>-0.65</td>\n",
       "      <td>99.32</td>\n",
       "      <td>84.387905</td>\n",
       "      <td>-2.77</td>\n",
       "      <td>12.16</td>\n",
       "      <td>0.56</td>\n",
       "    </tr>\n",
       "    <tr>\n",
       "      <th>4</th>\n",
       "      <td>(주)CMG제약</td>\n",
       "      <td>58820</td>\n",
       "      <td>201512</td>\n",
       "      <td>200108</td>\n",
       "      <td>NaN</td>\n",
       "      <td>0</td>\n",
       "      <td>0</td>\n",
       "      <td>0</td>\n",
       "      <td>제조업</td>\n",
       "      <td>1</td>\n",
       "      <td>-2.644307</td>\n",
       "      <td>18.851969</td>\n",
       "      <td>-4.88</td>\n",
       "      <td>-9.51</td>\n",
       "      <td>-4.49</td>\n",
       "      <td>-5.37</td>\n",
       "      <td>-0.11</td>\n",
       "      <td>113.24</td>\n",
       "      <td>82.795953</td>\n",
       "      <td>2.77</td>\n",
       "      <td>7.63</td>\n",
       "      <td>0.75</td>\n",
       "    </tr>\n",
       "    <tr>\n",
       "      <th>...</th>\n",
       "      <td>...</td>\n",
       "      <td>...</td>\n",
       "      <td>...</td>\n",
       "      <td>...</td>\n",
       "      <td>...</td>\n",
       "      <td>...</td>\n",
       "      <td>...</td>\n",
       "      <td>...</td>\n",
       "      <td>...</td>\n",
       "      <td>...</td>\n",
       "      <td>...</td>\n",
       "      <td>...</td>\n",
       "      <td>...</td>\n",
       "      <td>...</td>\n",
       "      <td>...</td>\n",
       "      <td>...</td>\n",
       "      <td>...</td>\n",
       "      <td>...</td>\n",
       "      <td>...</td>\n",
       "      <td>...</td>\n",
       "      <td>...</td>\n",
       "      <td>...</td>\n",
       "    </tr>\n",
       "    <tr>\n",
       "      <th>12738</th>\n",
       "      <td>흥아해운(주)</td>\n",
       "      <td>3280</td>\n",
       "      <td>201312</td>\n",
       "      <td>197606</td>\n",
       "      <td>NaN</td>\n",
       "      <td>0</td>\n",
       "      <td>0</td>\n",
       "      <td>0</td>\n",
       "      <td>운수 및 창고업</td>\n",
       "      <td>0</td>\n",
       "      <td>7.026008</td>\n",
       "      <td>5.977506</td>\n",
       "      <td>-3.78</td>\n",
       "      <td>2.51</td>\n",
       "      <td>3.50</td>\n",
       "      <td>13.80</td>\n",
       "      <td>1.84</td>\n",
       "      <td>95.90</td>\n",
       "      <td>27.203257</td>\n",
       "      <td>4.71</td>\n",
       "      <td>14.13</td>\n",
       "      <td>2.02</td>\n",
       "    </tr>\n",
       "    <tr>\n",
       "      <th>12739</th>\n",
       "      <td>흥아해운(주)</td>\n",
       "      <td>3280</td>\n",
       "      <td>201412</td>\n",
       "      <td>197606</td>\n",
       "      <td>NaN</td>\n",
       "      <td>0</td>\n",
       "      <td>0</td>\n",
       "      <td>0</td>\n",
       "      <td>운수 및 창고업</td>\n",
       "      <td>0</td>\n",
       "      <td>13.690307</td>\n",
       "      <td>7.171915</td>\n",
       "      <td>9.90</td>\n",
       "      <td>2.25</td>\n",
       "      <td>3.04</td>\n",
       "      <td>11.51</td>\n",
       "      <td>1.66</td>\n",
       "      <td>97.18</td>\n",
       "      <td>25.784426</td>\n",
       "      <td>2.10</td>\n",
       "      <td>13.89</td>\n",
       "      <td>2.03</td>\n",
       "    </tr>\n",
       "    <tr>\n",
       "      <th>12740</th>\n",
       "      <td>흥아해운(주)</td>\n",
       "      <td>3280</td>\n",
       "      <td>201512</td>\n",
       "      <td>197606</td>\n",
       "      <td>NaN</td>\n",
       "      <td>0</td>\n",
       "      <td>0</td>\n",
       "      <td>0</td>\n",
       "      <td>운수 및 창고업</td>\n",
       "      <td>0</td>\n",
       "      <td>21.933460</td>\n",
       "      <td>2.420227</td>\n",
       "      <td>7.68</td>\n",
       "      <td>2.51</td>\n",
       "      <td>2.95</td>\n",
       "      <td>12.48</td>\n",
       "      <td>2.22</td>\n",
       "      <td>98.11</td>\n",
       "      <td>21.863026</td>\n",
       "      <td>2.17</td>\n",
       "      <td>13.11</td>\n",
       "      <td>2.15</td>\n",
       "    </tr>\n",
       "    <tr>\n",
       "      <th>12741</th>\n",
       "      <td>흥아해운(주)</td>\n",
       "      <td>3280</td>\n",
       "      <td>201612</td>\n",
       "      <td>197606</td>\n",
       "      <td>NaN</td>\n",
       "      <td>0</td>\n",
       "      <td>0</td>\n",
       "      <td>0</td>\n",
       "      <td>운수 및 창고업</td>\n",
       "      <td>0</td>\n",
       "      <td>21.081715</td>\n",
       "      <td>-1.581947</td>\n",
       "      <td>15.87</td>\n",
       "      <td>0.71</td>\n",
       "      <td>0.67</td>\n",
       "      <td>3.23</td>\n",
       "      <td>3.21</td>\n",
       "      <td>100.55</td>\n",
       "      <td>20.081457</td>\n",
       "      <td>1.70</td>\n",
       "      <td>10.98</td>\n",
       "      <td>2.19</td>\n",
       "    </tr>\n",
       "    <tr>\n",
       "      <th>12742</th>\n",
       "      <td>흥아해운(주)</td>\n",
       "      <td>3280</td>\n",
       "      <td>201712</td>\n",
       "      <td>197606</td>\n",
       "      <td>NaN</td>\n",
       "      <td>1</td>\n",
       "      <td>0</td>\n",
       "      <td>1</td>\n",
       "      <td>운수 및 창고업</td>\n",
       "      <td>0</td>\n",
       "      <td>-11.431409</td>\n",
       "      <td>0.562842</td>\n",
       "      <td>-2.23</td>\n",
       "      <td>-1.57</td>\n",
       "      <td>-1.45</td>\n",
       "      <td>-8.47</td>\n",
       "      <td>3.67</td>\n",
       "      <td>106.15</td>\n",
       "      <td>13.767987</td>\n",
       "      <td>-0.49</td>\n",
       "      <td>5.43</td>\n",
       "      <td>2.09</td>\n",
       "    </tr>\n",
       "  </tbody>\n",
       "</table>\n",
       "<p>12743 rows × 22 columns</p>\n",
       "</div>"
      ],
      "text/plain": [
       "            회사명  거래소코드    회계년도     상장일  상장폐지일_x  부실기업1  부실기업2  부실기업        업종  \\\n",
       "0      (주)CMG제약  58820  201112  200108      NaN      0      0     0       제조업   \n",
       "1      (주)CMG제약  58820  201212  200108      NaN      0      0     0       제조업   \n",
       "2      (주)CMG제약  58820  201312  200108      NaN      0      0     0       제조업   \n",
       "3      (주)CMG제약  58820  201412  200108      NaN      0      0     0       제조업   \n",
       "4      (주)CMG제약  58820  201512  200108      NaN      0      0     0       제조업   \n",
       "...         ...    ...     ...     ...      ...    ...    ...   ...       ...   \n",
       "12738   흥아해운(주)   3280  201312  197606      NaN      0      0     0  운수 및 창고업   \n",
       "12739   흥아해운(주)   3280  201412  197606      NaN      0      0     0  운수 및 창고업   \n",
       "12740   흥아해운(주)   3280  201512  197606      NaN      0      0     0  운수 및 창고업   \n",
       "12741   흥아해운(주)   3280  201612  197606      NaN      0      0     0  운수 및 창고업   \n",
       "12742   흥아해운(주)   3280  201712  197606      NaN      1      0     1  운수 및 창고업   \n",
       "\n",
       "       경기민감도      총자본증가율     매출액증가율  종업원수증가율  매출액정상영업이익률  총자본정상영업이익률  \\\n",
       "0          1   13.166482  56.396905     4.65        3.61        2.37   \n",
       "1          1  109.147119  -8.429134    -0.74      -25.87       -9.96   \n",
       "2          1   -2.093352  25.510008     1.49        3.88        1.40   \n",
       "3          1    3.855597  11.520576    20.59        1.94        0.78   \n",
       "4          1   -2.644307  18.851969    -4.88       -9.51       -4.49   \n",
       "...      ...         ...        ...      ...         ...         ...   \n",
       "12738      0    7.026008   5.977506    -3.78        2.51        3.50   \n",
       "12739      0   13.690307   7.171915     9.90        2.25        3.04   \n",
       "12740      0   21.933460   2.420227     7.68        2.51        2.95   \n",
       "12741      0   21.081715  -1.581947    15.87        0.71        0.67   \n",
       "12742      0  -11.431409   0.562842    -2.23       -1.57       -1.45   \n",
       "\n",
       "       자기자본정상영업이익률  금융비용부담률    수지비율   자기자본구성비율  CASH FLOW 대 총자본비율  총자본투자효율  \\\n",
       "0             3.51     0.80  108.35  66.046945             -15.65    12.72   \n",
       "1           -16.95     2.53  140.55  55.317408              -3.62     0.47   \n",
       "2             1.96     1.65   98.55  87.631971              -4.93    12.51   \n",
       "3             0.90    -0.65   99.32  84.387905              -2.77    12.16   \n",
       "4            -5.37    -0.11  113.24  82.795953               2.77     7.63   \n",
       "...            ...      ...     ...        ...                ...      ...   \n",
       "12738        13.80     1.84   95.90  27.203257               4.71    14.13   \n",
       "12739        11.51     1.66   97.18  25.784426               2.10    13.89   \n",
       "12740        12.48     2.22   98.11  21.863026               2.17    13.11   \n",
       "12741         3.23     3.21  100.55  20.081457               1.70    10.98   \n",
       "12742        -8.47     3.67  106.15  13.767987              -0.49     5.43   \n",
       "\n",
       "       순운전자본회전률  \n",
       "0          0.86  \n",
       "1          0.42  \n",
       "2          0.42  \n",
       "3          0.56  \n",
       "4          0.75  \n",
       "...         ...  \n",
       "12738      2.02  \n",
       "12739      2.03  \n",
       "12740      2.15  \n",
       "12741      2.19  \n",
       "12742      2.09  \n",
       "\n",
       "[12743 rows x 22 columns]"
      ]
     },
     "execution_count": 46,
     "metadata": {},
     "output_type": "execute_result"
    }
   ],
   "source": [
    "df = pd.read_csv('../data/선택된피처/dataset1_general_raw.csv', encoding='CP949')\n",
    "df.drop(columns='Unnamed: 0', inplace=True)\n",
    "df "
   ]
  },
  {
   "cell_type": "code",
   "execution_count": 41,
   "metadata": {},
   "outputs": [
    {
     "name": "stdout",
     "output_type": "stream",
     "text": [
      "<class 'pandas.core.frame.DataFrame'>\n",
      "RangeIndex: 12743 entries, 0 to 12742\n",
      "Data columns (total 22 columns):\n",
      " #   Column             Non-Null Count  Dtype  \n",
      "---  ------             --------------  -----  \n",
      " 0   회사명                12743 non-null  object \n",
      " 1   거래소코드              12743 non-null  int64  \n",
      " 2   회계년도               12743 non-null  int64  \n",
      " 3   상장일                12743 non-null  int64  \n",
      " 4   상장폐지일_x            455 non-null    float64\n",
      " 5   부실기업1              12743 non-null  int64  \n",
      " 6   부실기업2              12743 non-null  int64  \n",
      " 7   부실기업               12743 non-null  int64  \n",
      " 8   업종                 12743 non-null  object \n",
      " 9   경기민감도              12743 non-null  int64  \n",
      " 10  총자본증가율             12743 non-null  float64\n",
      " 11  매출액증가율             12743 non-null  float64\n",
      " 12  종업원수증가율            12743 non-null  float64\n",
      " 13  매출액정상영업이익률         12743 non-null  float64\n",
      " 14  총자본정상영업이익률         12743 non-null  float64\n",
      " 15  자기자본정상영업이익률        12743 non-null  float64\n",
      " 16  금융비용부담률            12743 non-null  float64\n",
      " 17  수지비율               12743 non-null  float64\n",
      " 18  자기자본구성비율           12743 non-null  float64\n",
      " 19  CASH FLOW 대 총자본비율  12743 non-null  float64\n",
      " 20  총자본투자효율            12743 non-null  float64\n",
      " 21  순운전자본회전률           12743 non-null  float64\n",
      "dtypes: float64(13), int64(7), object(2)\n",
      "memory usage: 2.1+ MB\n"
     ]
    }
   ],
   "source": [
    "df.info()"
   ]
  },
  {
   "cell_type": "code",
   "execution_count": 42,
   "metadata": {},
   "outputs": [
    {
     "name": "stdout",
     "output_type": "stream",
     "text": [
      "0 회사명\n",
      "1 거래소코드\n",
      "2 회계년도\n",
      "3 상장일\n",
      "4 상장폐지일_x\n",
      "5 부실기업1\n",
      "6 부실기업2\n",
      "7 부실기업\n",
      "8 업종\n",
      "9 경기민감도\n",
      "10 총자본증가율\n",
      "11 매출액증가율\n",
      "12 종업원수증가율\n",
      "13 매출액정상영업이익률\n",
      "14 총자본정상영업이익률\n",
      "15 자기자본정상영업이익률\n",
      "16 금융비용부담률\n",
      "17 수지비율\n",
      "18 자기자본구성비율\n",
      "19 CASH FLOW 대 총자본비율\n",
      "20 총자본투자효율\n",
      "21 순운전자본회전률\n"
     ]
    }
   ],
   "source": [
    "### 컬럼별 인덱스 번호 확인\n",
    "for i, col in enumerate(df):\n",
    "    print(i, col)"
   ]
  },
  {
   "cell_type": "markdown",
   "metadata": {},
   "source": [
    "### 독립변수 및 종속변수 컬럼 지정"
   ]
  },
  {
   "cell_type": "code",
   "execution_count": 43,
   "metadata": {},
   "outputs": [],
   "source": [
    "data = df.iloc[:, 10:]\n",
    "target = df.iloc[:, 7]"
   ]
  },
  {
   "cell_type": "markdown",
   "metadata": {},
   "source": [
    "## 데이터 랜덤 분할"
   ]
  },
  {
   "cell_type": "code",
   "execution_count": 44,
   "metadata": {},
   "outputs": [
    {
     "name": "stdout",
     "output_type": "stream",
     "text": [
      "X 테스트 데이터 :\n",
      "          총자본증가율     매출액증가율  종업원수증가율  매출액정상영업이익률  총자본정상영업이익률  자기자본정상영업이익률  \\\n",
      "4015    1.516375   5.771085    -4.28        5.36        6.92        17.30   \n",
      "10105  -9.093296  34.320647   -14.29        4.96        1.65         4.19   \n",
      "7132   -4.750046  -6.812388     1.93        1.31        1.50         7.18   \n",
      "8291   13.299888  15.843847    -4.85        6.67        5.58         8.76   \n",
      "5389    3.817423 -21.654575     9.29       -9.87       -7.18       -13.61   \n",
      "...          ...        ...      ...         ...         ...          ...   \n",
      "8134   -0.103645   6.111905    -5.08        3.30        2.28         2.65   \n",
      "4989  -18.246642 -38.672061   -14.75      -19.10      -15.57       -18.01   \n",
      "6962   50.752395  18.868034    -6.70        6.88        5.85        14.08   \n",
      "2448   14.626300  -0.843661    -1.37        2.71        3.63         5.97   \n",
      "474    19.033482   8.581736    10.81       19.03       14.21        16.84   \n",
      "\n",
      "       금융비용부담률    수지비율   자기자본구성비율  CASH FLOW 대 총자본비율  총자본투자효율  순운전자본회전률  \n",
      "4015      0.80   96.10  41.006371               5.36    29.88      1.63  \n",
      "10105    12.73  100.63  45.622866              16.57     9.23      0.38  \n",
      "7132      2.41   99.15  21.683590               1.31    12.64      1.11  \n",
      "8291     -0.31   91.11  62.348037              16.57    24.34      0.87  \n",
      "5389      0.66  109.59  44.573571             -10.01    18.53      0.80  \n",
      "...        ...     ...        ...                ...      ...       ...  \n",
      "8134     -0.88   92.61  87.569081               1.83    10.26      1.37  \n",
      "4989     -0.61  119.78  87.564291               5.68    -3.22      0.87  \n",
      "6962      0.76   95.73  34.090465              -1.42    10.85      0.73  \n",
      "2448      0.57   97.93  57.119783               4.35    13.86      1.32  \n",
      "474      -1.22   82.03  82.926517              12.56    23.43      1.00  \n",
      "\n",
      "[3823 rows x 12 columns]\n",
      "y 테스트 데이터 :\n",
      "[0, 1, 0, 0, 1, 0, 0, 1, 0, 0, 0, 0, 0, 0, 0, 0, 0, 0, 0, 0, 1, 0, 1, 0, 0, 0, 0, 0, 0, 0, 0, 0, 0, 0, 0, 0, 0, 0, 0, 0, 0, 0, 0, 0, 0, 0, 1, 0, 0, 0, 0, 0, 0, 0, 0, 0, 0, 0, 0, 0, 0, 0, 0, 0, 0, 0, 0, 0, 0, 0, 0, 0, 0, 0, 0, 0, 0, 0, 0, 0, 0, 0, 0, 0, 0, 0, 0, 0, 0, 0, 0, 1, 0, 0, 0, 0, 0, 0, 0, 0, 0, 0, 1, 0, 0, 0, 0, 1, 0, 0, 0, 0, 0, 0, 1, 0, 0, 1, 0, 0, 1, 0, 1, 0, 1, 0, 0, 0, 0, 0, 0, 0, 0, 0, 0, 0, 0, 0, 0, 0, 0, 0, 0, 0, 0, 0, 0, 0, 0, 0, 0, 0, 0, 0, 1, 0, 0, 0, 0, 0, 0, 1, 0, 0, 0, 0, 0, 0, 0, 0, 0, 0, 0, 0, 0, 0, 0, 0, 0, 0, 0, 0, 1, 0, 0, 0, 0, 0, 0, 0, 0, 0, 0, 0, 0, 0, 0, 0, 0, 0, 0, 0, 0, 1, 0, 0, 0, 0, 0, 0, 0, 0, 0, 0, 0, 0, 1, 0, 0, 0, 0, 0, 0, 0, 0, 0, 0, 0, 0, 0, 0, 0, 0, 0, 0, 0, 0, 0, 1, 0, 0, 0, 0, 0, 0, 0, 0, 0, 0, 0, 0, 0, 0, 0, 0, 0, 0, 0, 0, 0, 0, 0, 1, 0, 0, 0, 0, 0, 0, 0, 0, 0, 0, 0, 0, 0, 0, 0, 0, 0, 0, 0, 1, 0, 0, 0, 0, 0, 0, 0, 0, 0, 0, 0, 0, 1, 0, 0, 1, 0, 0, 0, 0, 0, 1, 0, 0, 0, 0, 0, 0, 0, 0, 0, 0, 0, 0, 0, 0, 0, 0, 0, 0, 0, 0, 0, 0, 0, 0, 1, 0, 1, 0, 0, 0, 0, 0, 0, 0, 0, 0, 0, 1, 1, 0, 1, 1, 0, 0, 1, 0, 0, 1, 1, 0, 1, 0, 1, 0, 0, 0, 0, 0, 0, 0, 0, 0, 0, 0, 0, 0, 0, 0, 0, 1, 0, 0, 0, 0, 0, 0, 0, 0, 0, 0, 0, 0, 0, 0, 0, 0, 1, 0, 0, 0, 0, 0, 0, 0, 0, 0, 0, 0, 0, 0, 0, 0, 0, 0, 0, 0, 0, 0, 0, 0, 0, 0, 0, 1, 0, 0, 1, 0, 0, 0, 0, 0, 0, 0, 0, 0, 0, 0, 0, 0, 0, 0, 0, 0, 0, 0, 0, 0, 0, 0, 0, 0, 0, 0, 0, 0, 0, 0, 0, 0, 0, 0, 0, 0, 0, 0, 0, 0, 0, 0, 0, 0, 0, 0, 0, 0, 0, 0, 0, 0, 0, 0, 0, 0, 0, 0, 1, 0, 0, 0, 0, 0, 0, 0, 0, 0, 0, 0, 0, 0, 0, 0, 0, 0, 0, 0, 0, 0, 0, 0, 0, 0, 0, 0, 0, 0, 0, 0, 0, 0, 0, 0, 0, 0, 0, 0, 0, 0, 0, 0, 0, 0, 0, 0, 0, 0, 0, 0, 0, 0, 0, 0, 0, 0, 0, 0, 0, 0, 0, 0, 0, 0, 1, 0, 0, 0, 0, 0, 1, 0, 0, 0, 0, 0, 0, 0, 0, 0, 0, 0, 0, 0, 0, 0, 0, 0, 0, 0, 0, 0, 0, 0, 0, 0, 1, 0, 0, 0, 0, 0, 0, 0, 0, 0, 0, 0, 0, 0, 0, 0, 0, 0, 0, 0, 0, 1, 0, 0, 0, 0, 0, 0, 0, 0, 0, 0, 0, 0, 0, 0, 0, 0, 0, 0, 0, 0, 0, 0, 0, 0, 0, 0, 0, 0, 0, 0, 0, 0, 0, 0, 0, 1, 0, 0, 0, 0, 0, 0, 0, 0, 0, 0, 0, 0, 0, 1, 0, 0, 0, 0, 0, 0, 0, 0, 0, 0, 0, 0, 0, 0, 0, 0, 0, 0, 0, 0, 0, 0, 0, 0, 1, 0, 0, 0, 0, 0, 0, 0, 0, 0, 0, 0, 0, 0, 0, 0, 0, 0, 0, 0, 0, 0, 0, 0, 0, 0, 0, 0, 0, 0, 1, 0, 0, 0, 0, 0, 0, 0, 0, 0, 1, 0, 0, 0, 0, 0, 0, 0, 0, 0, 0, 0, 1, 0, 0, 0, 0, 0, 0, 0, 0, 0, 0, 0, 0, 0, 0, 0, 0, 0, 0, 0, 0, 0, 0, 0, 0, 0, 1, 0, 0, 0, 0, 1, 0, 0, 0, 0, 0, 0, 0, 0, 0, 0, 0, 0, 0, 0, 1, 0, 0, 0, 0, 0, 0, 0, 0, 0, 0, 1, 0, 0, 0, 0, 0, 0, 0, 0, 0, 0, 0, 0, 0, 0, 0, 0, 0, 0, 0, 0, 0, 0, 0, 0, 0, 0, 0, 0, 0, 0, 0, 0, 0, 0, 0, 0, 0, 1, 0, 0, 1, 0, 0, 0, 0, 0, 0, 0, 1, 0, 1, 0, 0, 0, 0, 0, 1, 0, 0, 0, 0, 0, 0, 0, 0, 0, 0, 1, 0, 0, 0, 1, 0, 0, 0, 0, 0, 0, 0, 0, 0, 0, 0, 0, 0, 0, 0, 0, 0, 0, 0, 0, 0, 0, 0, 0, 0, 0, 0, 0, 0, 0, 0, 0, 0, 0, 0, 0, 0, 0, 0, 0, 0, 0, 0, 0, 1, 0, 0, 0, 0, 0, 0, 0, 0, 0, 0, 0, 0, 0, 0, 0, 0, 0, 0, 0, 0, 0, 0, 0, 0, 0, 0, 0, 0, 0, 0, 0, 0, 1, 1, 0, 0, 0, 0, 0, 0, 0, 0, 0, 0, 0, 1, 0, 0, 0, 0, 0, 0, 1, 0, 0, 0, 0, 0, 0, 0, 0, 0, 0, 0, 0, 0, 0, 0, 0, 0, 0, 0, 0, 0, 0, 0, 0, 0, 0, 0, 0, 0, 0, 0, 0, 0, 0, 0, 0, 0, 0, 0, 0, 0, 0, 0, 0, 0, 0, 0, 0, 0, 0, 0, 0, 0, 0, 0, 0, 0, 0, 0, 0, 0, 0, 0, 0, 0, 0, 0, 0, 0, 1, 1, 0, 1, 0, 0, 1, 0, 0, 0, 0, 0, 0, 0, 0, 0, 0, 0, 0, 0, 0, 0, 0, 0, 0, 0, 0, 0, 0, 0, 0, 0, 0, 0, 0, 1, 0, 0, 0, 0, 0, 0, 0, 0, 0, 0, 0, 0, 0, 0, 0, 0, 0, 0, 0, 0, 0, 0, 0, 0, 0, 0, 0, 0, 0, 0, 0, 0, 0, 0, 0, 0, 0, 0, 0, 0, 0, 0, 0, 0, 0, 0, 0, 0, 0, 0, 1, 0, 0, 0, 0, 0, 0, 0, 0, 1, 0, 0, 0, 0, 0, 0, 0, 1, 0, 1, 0, 0, 0, 0, 0, 0, 1, 0, 0, 0, 0, 0, 0, 1, 0, 0, 0, 0, 0, 0, 0, 0, 0, 0, 0, 0, 0, 0, 0, 0, 0, 1, 0, 1, 0, 0, 0, 0, 0, 0, 1, 1, 0, 0, 0, 0, 0, 0, 0, 0, 0, 0, 0, 0, 0, 0, 0, 0, 0, 0, 0, 0, 0, 0, 0, 0, 1, 0, 0, 0, 0, 0, 0, 0, 0, 0, 0, 0, 0, 0, 0, 0, 0, 0, 0, 0, 0, 0, 0, 0, 0, 0, 0, 0, 0, 0, 0, 0, 0, 0, 0, 0, 0, 0, 0, 0, 0, 0, 0, 0, 0, 0, 0, 0, 0, 0, 0, 0, 0, 0, 0, 0, 0, 0, 0, 0, 0, 0, 0, 0, 0, 0, 0, 0, 0, 0, 0, 0, 0, 0, 0, 0, 0, 0, 0, 0, 0, 0, 0, 0, 0, 0, 0, 0, 0, 0, 0, 0, 0, 0, 0, 0, 0, 0, 0, 0, 0, 0, 0, 0, 0, 0, 0, 0, 0, 0, 0, 1, 0, 0, 1, 0, 0, 0, 0, 0, 0, 0, 0, 0, 0, 0, 1, 0, 0, 0, 0, 0, 0, 0, 0, 0, 0, 0, 0, 0, 0, 0, 0, 0, 0, 0, 0, 1, 0, 0, 1, 1, 0, 0, 0, 0, 0, 0, 0, 0, 0, 0, 0, 0, 0, 0, 1, 0, 0, 0, 0, 0, 0, 0, 0, 0, 0, 0, 0, 0, 0, 0, 0, 0, 0, 0, 0, 0, 0, 0, 0, 0, 0, 0, 0, 0, 0, 0, 0, 0, 0, 1, 0, 0, 0, 0, 0, 0, 1, 0, 0, 0, 0, 1, 0, 0, 0, 0, 0, 0, 0, 0, 0, 0, 0, 0, 1, 0, 0, 0, 0, 0, 0, 0, 1, 0, 0, 0, 0, 0, 0, 0, 0, 0, 0, 0, 1, 0, 0, 0, 0, 0, 0, 0, 0, 0, 0, 0, 0, 0, 0, 0, 0, 0, 0, 0, 0, 0, 0, 1, 0, 0, 0, 0, 0, 0, 0, 0, 0, 0, 0, 0, 0, 0, 0, 0, 0, 0, 0, 0, 0, 0, 0, 0, 0, 0, 0, 0, 0, 0, 0, 0, 0, 0, 0, 0, 0, 0, 0, 0, 0, 0, 0, 0, 0, 1, 0, 0, 0, 0, 0, 0, 0, 0, 0, 0, 0, 0, 0, 0, 0, 0, 0, 0, 0, 0, 1, 0, 0, 0, 0, 0, 0, 0, 0, 0, 0, 0, 0, 0, 0, 1, 0, 0, 0, 0, 0, 0, 0, 0, 0, 0, 0, 0, 0, 0, 0, 0, 0, 0, 0, 0, 0, 0, 0, 0, 1, 0, 0, 0, 0, 0, 0, 1, 0, 0, 0, 0, 0, 0, 0, 0, 0, 0, 0, 1, 0, 0, 0, 1, 0, 0, 0, 0, 0, 0, 0, 0, 0, 1, 0, 0, 0, 0, 0, 1, 0, 0, 0, 0, 0, 0, 0, 1, 0, 0, 0, 0, 0, 0, 0, 0, 0, 0, 0, 0, 0, 0, 0, 0, 0, 0, 0, 0, 0, 0, 0, 0, 0, 0, 0, 0, 0, 0, 0, 0, 0, 0, 0, 0, 0, 0, 0, 0, 0, 0, 0, 0, 0, 0, 0, 0, 0, 0, 0, 0, 0, 0, 0, 0, 0, 0, 0, 0, 0, 0, 0, 0, 0, 0, 0, 0, 0, 0, 0, 0, 0, 0, 0, 1, 0, 0, 0, 0, 0, 0, 0, 0, 0, 1, 0, 0, 0, 0, 0, 0, 0, 0, 0, 0, 0, 0, 0, 0, 0, 0, 0, 0, 0, 0, 0, 0, 0, 0, 0, 0, 0, 0, 0, 0, 0, 0, 0, 0, 0, 0, 0, 0, 0, 0, 0, 0, 0, 0, 1, 0, 0, 0, 0, 0, 0, 0, 1, 0, 0, 0, 0, 0, 1, 0, 0, 0, 1, 0, 0, 0, 0, 0, 0, 0, 0, 0, 0, 0, 0, 0, 0, 0, 0, 0, 0, 0, 0, 1, 0, 0, 0, 0, 0, 0, 0, 0, 0, 0, 0, 0, 1, 0, 0, 0, 0, 0, 1, 0, 1, 0, 0, 0, 0, 0, 0, 0, 0, 0, 0, 0, 0, 0, 0, 0, 0, 0, 0, 0, 0, 0, 0, 0, 0, 0, 0, 0, 0, 0, 0, 0, 0, 0, 0, 0, 0, 0, 0, 0, 0, 0, 0, 0, 0, 0, 0, 0, 0, 1, 0, 0, 0, 0, 0, 0, 0, 0, 0, 0, 0, 0, 0, 0, 0, 0, 0, 0, 0, 0, 0, 0, 0, 0, 0, 0, 0, 0, 0, 0, 0, 0, 0, 1, 0, 0, 0, 0, 0, 0, 0, 0, 1, 0, 1, 0, 0, 0, 0, 0, 0, 0, 0, 0, 0, 0, 0, 0, 0, 0, 0, 0, 0, 0, 0, 0, 0, 0, 0, 0, 0, 0, 0, 0, 0, 0, 0, 0, 0, 0, 0, 0, 0, 0, 0, 0, 0, 1, 0, 0, 0, 0, 0, 0, 1, 1, 0, 0, 0, 0, 0, 0, 0, 0, 0, 0, 0, 0, 0, 0, 0, 0, 0, 0, 0, 0, 0, 0, 0, 0, 0, 0, 0, 0, 0, 0, 0, 0, 0, 0, 0, 0, 1, 0, 0, 0, 0, 1, 0, 0, 0, 0, 0, 0, 0, 0, 0, 0, 0, 0, 0, 0, 0, 0, 0, 0, 0, 0, 0, 0, 0, 0, 1, 1, 0, 0, 0, 0, 0, 0, 0, 0, 0, 0, 0, 0, 0, 0, 0, 0, 0, 0, 0, 0, 0, 0, 0, 0, 0, 0, 0, 0, 1, 0, 0, 0, 0, 0, 0, 0, 0, 0, 1, 0, 0, 0, 0, 0, 0, 0, 0, 0, 0, 0, 0, 0, 0, 0, 0, 0, 0, 0, 0, 0, 0, 0, 0, 0, 0, 0, 0, 0, 0, 0, 0, 0, 0, 0, 0, 0, 0, 0, 0, 0, 0, 0, 0, 1, 1, 0, 0, 0, 0, 0, 0, 0, 0, 0, 0, 0, 0, 0, 0, 0, 0, 0, 0, 1, 0, 0, 0, 1, 0, 0, 0, 0, 0, 0, 0, 0, 0, 0, 0, 0, 0, 0, 0, 0, 0, 0, 0, 0, 0, 0, 0, 0, 0, 0, 0, 0, 0, 0, 0, 0, 0, 0, 1, 0, 0, 0, 0, 0, 0, 0, 0, 0, 0, 0, 0, 0, 0, 1, 0, 0, 0, 0, 0, 0, 0, 0, 0, 0, 0, 0, 0, 0, 0, 0, 0, 0, 0, 0, 0, 0, 0, 0, 0, 0, 0, 0, 0, 0, 1, 1, 0, 0, 0, 0, 0, 0, 0, 0, 0, 0, 0, 0, 0, 0, 0, 0, 0, 0, 0, 0, 0, 0, 0, 0, 0, 0, 0, 0, 0, 0, 0, 0, 0, 0, 0, 0, 0, 0, 0, 0, 0, 1, 0, 0, 0, 0, 0, 0, 0, 0, 0, 0, 0, 0, 0, 0, 0, 0, 0, 0, 0, 0, 0, 0, 0, 0, 0, 0, 0, 0, 0, 0, 0, 0, 0, 0, 0, 0, 0, 0, 0, 0, 0, 0, 0, 0, 0, 0, 0, 0, 0, 0, 0, 0, 0, 0, 0, 0, 0, 0, 0, 1, 0, 0, 0, 0, 0, 0, 1, 0, 0, 0, 0, 1, 0, 0, 0, 0, 0, 0, 0, 0, 0, 0, 0, 0, 0, 0, 0, 0, 0, 0, 0, 0, 0, 0, 0, 0, 0, 0, 0, 0, 0, 0, 0, 0, 0, 1, 0, 0, 0, 0, 0, 0, 1, 0, 1, 0, 0, 0, 0, 0, 0, 0, 0, 0, 0, 0, 0, 0, 0, 0, 0, 0, 0, 0, 0, 0, 0, 1, 1, 0, 0, 0, 1, 0, 0, 0, 0, 1, 0, 0, 0, 0, 0, 0, 0, 0, 0, 0, 0, 1, 0, 0, 0, 0, 0, 0, 0, 0, 0, 0, 0, 0, 0, 0, 0, 0, 0, 0, 0, 0, 0, 1, 0, 0, 0, 0, 0, 0, 0, 0, 0, 0, 0, 0, 0, 0, 0, 0, 0, 1, 0, 0, 0, 0, 0, 0, 0, 0, 0, 0, 0, 0, 0, 0, 0, 0, 0, 0, 1, 0, 0, 0, 0, 0, 0, 0, 1, 0, 0, 0, 0, 1, 0, 0, 0, 0, 0, 0, 0, 0, 0, 0, 0, 0, 0, 0, 0, 0, 0, 0, 0, 1, 0, 0, 0, 0, 0, 0, 0, 0, 0, 0, 0, 0, 0, 0, 0, 0, 0, 0, 0, 0, 0, 0, 0, 0, 0, 0, 1, 0, 0, 0, 0, 0, 0, 0, 0, 0, 0, 1, 0, 0, 0, 0, 0, 0, 0, 0, 0, 0, 0, 0, 0, 0, 0, 1, 0, 0, 0, 0, 0, 0, 0, 0, 0, 0, 0, 0, 0, 0, 0, 0, 0, 0, 0, 0, 0, 0, 0, 0, 0, 0, 0, 0, 0, 0, 0, 0, 0, 0, 0, 0, 0, 0, 0, 0, 0, 0, 0, 0, 0, 0, 0, 0, 0, 0, 0, 0, 0, 0, 0, 0, 0, 0, 0, 1, 0, 0, 0, 0, 0, 0, 0, 0, 0, 0, 0, 0, 0, 0, 0, 0, 0, 0, 0, 0, 0, 0, 0, 0, 0, 1, 0, 0, 0, 0, 0, 0, 0, 0, 0, 0, 0, 0, 0, 0, 0, 0, 0, 0, 0, 0, 0, 0, 0, 0, 0, 0, 0, 0, 0, 0, 0, 0, 0, 1, 0, 0, 0, 0, 0, 0, 1, 0, 0, 0, 0, 0, 0, 0, 0, 0, 0, 0, 0, 0, 0, 0, 0, 0, 0, 0, 0, 1, 0, 0, 0, 0, 0, 0, 0, 0, 0, 0, 0, 0, 0, 1, 0, 0, 0, 0, 0, 0, 0, 1, 0, 0, 1, 0, 0, 0, 0, 0, 0, 0, 0, 0, 0, 0, 0, 1, 0, 0, 0, 0, 1, 0, 0, 0, 0, 0, 0, 0, 0, 0, 0, 0, 0, 0, 0, 1, 0, 0, 0, 0, 0, 0, 0, 0, 0, 0, 0, 0, 0, 0, 0, 0, 0, 0, 0, 0, 0, 0, 0, 0, 0, 0, 0, 0, 0, 0, 0, 0, 0, 0, 0, 0, 0, 0, 0, 1, 0, 0, 0, 0, 1, 0, 1, 0, 0, 0, 0, 0, 0, 0, 0, 0, 1, 0, 0, 0, 0, 0, 0, 0, 0, 0, 0, 0, 0, 0, 0, 0, 0, 0, 0, 0, 0, 0, 0, 1, 0, 0, 0, 0, 0, 0, 0, 0, 0, 1, 0, 0, 0, 0, 1, 0, 0, 0, 0, 0, 0, 0, 0, 0, 0, 0, 0, 1, 0, 0, 0, 0, 0, 0, 0, 1, 0, 0, 0, 0, 0, 0, 0, 0, 0, 0, 0, 0, 0, 0, 0, 0, 0, 0, 0, 0, 0, 0, 0, 1, 0, 0, 0, 1, 0, 0, 0, 0, 0, 0, 0, 0, 0, 1, 0, 0, 0, 0, 0, 0, 0, 0, 0, 0, 0, 0, 0, 1, 0, 0, 0, 0, 0, 0, 0, 0, 0, 0, 0, 0, 0, 0, 0, 0, 0, 0, 0, 0, 0, 0, 1, 0, 0, 0, 0, 0, 0, 0, 0, 0, 1, 0, 1, 0, 0, 0, 0, 0, 0, 0, 0, 0, 0, 0, 0, 0, 0, 0, 0, 0, 0, 0, 0, 0, 0, 0, 1, 0, 0, 0, 0, 0, 0, 0, 0, 0, 0, 0, 0, 0, 0, 0, 1, 0, 0, 0, 0, 0, 0, 0, 0, 0, 1, 0, 0, 0, 0, 0, 1, 0, 0, 1, 1, 0, 0, 0, 0, 0, 0, 0, 0, 0, 0, 0, 0, 0, 0, 0, 0, 0, 0, 0, 0, 0, 0, 0, 0, 0, 0, 0, 0, 0, 0, 0, 0, 0, 0, 1, 0, 0, 0, 0, 0, 0, 0, 0, 0, 0, 0, 0, 0, 0, 0, 0, 0, 0, 0, 0, 0, 0, 0, 0, 0, 0, 0, 0, 0, 0, 0, 0, 0, 0, 0, 0, 0, 0, 0, 0, 0, 0, 0, 0, 0, 0, 0, 0, 0, 0, 0, 0, 0, 0, 0, 0, 0, 0, 0, 0, 0, 0, 0, 0, 0, 0, 0, 0, 0, 0, 0, 0, 0, 0, 0, 0, 0, 0, 0, 0, 0, 0, 0, 0, 0, 0, 1, 1, 0, 0, 0, 0, 0, 0, 0, 0, 0, 0, 0, 0, 0, 0, 0, 0, 0, 0, 0, 0, 0, 0, 0, 1, 1, 0, 0, 0, 0, 0, 0, 0, 0, 0, 0, 0, 0, 0, 0, 0, 0, 0, 0, 0, 0, 0, 0, 0, 0, 0, 0, 0, 0, 0, 0, 0, 0, 0, 0, 0, 0, 0, 0, 0, 0, 0, 0, 1, 0, 0, 0, 0, 0, 1, 0, 0, 0, 0, 0, 0, 0, 0, 0, 0, 0, 0, 0, 0, 1, 0, 0, 1, 0, 0, 0, 0, 0, 0, 0, 0, 0, 0, 0, 1, 0, 0, 0, 0, 0, 0, 0, 0, 0, 0, 0, 0, 0, 0, 0, 0, 1, 0, 0, 0, 0, 0, 0, 0, 0, 0, 0, 0, 0, 0, 0, 0, 0, 0, 0, 0, 0, 0, 0, 0, 0, 0, 0, 0, 0, 0, 0, 0, 0, 0, 0, 1, 0, 0, 0, 0, 0, 1, 1, 0, 0, 0, 1, 0, 0, 0, 0, 1, 0, 0, 0, 1, 0, 0, 0, 0, 0, 0, 0, 0, 0, 0, 0, 0, 0, 0, 0, 1, 0, 0, 0, 0, 1, 0, 0, 0, 0, 0, 0, 0, 0, 1, 0, 0, 0, 0, 0, 0, 0, 0, 0, 0, 0, 0, 0, 0, 0, 0, 0, 0, 0, 0, 1, 0, 0, 0, 0, 0, 1, 0, 0, 0, 0, 0, 0, 0, 0, 0, 0, 0, 1, 0, 0, 0, 0, 0, 0, 0, 0, 0, 0, 0, 0, 0, 0, 0, 0, 0, 0, 0, 0, 0, 0, 0, 0, 0, 0, 0, 0, 0, 0, 0, 0, 0, 0, 0, 0, 0, 0, 0, 0, 0, 0, 0, 0, 0, 0, 0, 0, 0, 1, 0, 0, 0, 0, 0, 0, 0, 0, 0, 0, 0, 0, 0, 0, 0, 0, 1, 0, 1, 0, 0, 0, 0, 0, 1, 0, 0, 0, 0, 0, 0, 1, 0, 0, 0, 0, 0, 0, 1, 0, 0, 0, 0, 0, 0, 0, 0, 0, 0, 0, 0, 0, 0, 0, 0, 0, 0, 0, 0, 0, 0, 0, 0, 1, 0, 0, 0, 0, 0, 0, 0, 0, 0, 0, 0, 0, 0, 0, 0, 0, 0, 0, 0, 0, 0, 0, 0, 0, 0, 0, 0, 0, 0, 0, 0, 0, 0, 0, 0, 0, 0, 0, 0, 1, 0, 0, 1, 0, 0, 0, 0, 0, 0, 0, 0, 0, 0, 0, 0, 0, 1, 1, 0, 0, 0, 1, 0, 0, 0, 0, 0, 0, 0, 0, 0, 0, 0, 1, 0, 0, 0, 0, 0, 0, 0, 0, 0, 1, 0, 0, 0, 0, 0, 0, 0, 0, 0, 0, 0, 0, 0, 0, 0, 0, 0, 0, 0, 0, 0, 0, 0, 0, 0, 0, 0, 0, 0, 0, 0, 0, 0, 0, 0, 0, 0, 1, 0, 0, 0, 0, 0, 0, 0, 0, 0, 0, 0, 0, 0, 0, 0, 0, 0, 0, 0, 0, 0, 0, 0, 0, 0, 0, 0, 0, 0, 0, 0, 0, 0, 0, 0, 0, 0, 0, 0, 0, 0, 0, 0, 0, 0, 0, 0, 0, 0, 0, 0, 0, 0, 0, 0, 0, 0, 0, 0, 0, 0, 0, 0, 0, 0, 0, 0, 0, 0, 0, 0, 0, 0, 0, 0, 0, 0, 0, 0, 0, 0, 1, 0, 0, 0, 0, 0, 0, 0, 0, 0, 0, 0, 0, 0, 0, 0, 0, 0, 0, 0, 0, 0, 0, 0, 0, 0, 0, 0, 0, 0, 0, 0, 0, 0, 0, 0, 0, 0, 0, 0, 0, 0, 0, 1, 0, 0, 0, 0, 0, 0, 0, 0, 0, 0, 0, 0, 0, 0, 0, 0, 0, 0, 0, 0, 0, 0, 0, 0, 0, 0, 0, 0, 0, 0, 0, 0, 0, 0, 0, 0, 0, 0, 0, 0, 0, 0, 0, 0, 0, 0, 0, 1, 0, 0, 0, 0, 0, 0, 0, 0, 0, 0, 0, 1, 0, 0, 0]\n"
     ]
    }
   ],
   "source": [
    "from sklearn.model_selection import train_test_split\n",
    "\n",
    "X_train, X_test, y_train, y_test = train_test_split(data, target, test_size=0.3, random_state=42)\n",
    "\n",
    "print('X 테스트 데이터 :')\n",
    "print(X_test)\n",
    "print('y 테스트 데이터 :')\n",
    "print(list(y_test))"
   ]
  },
  {
   "cell_type": "code",
   "execution_count": 45,
   "metadata": {},
   "outputs": [
    {
     "name": "stdout",
     "output_type": "stream",
     "text": [
      "학습 세트 Shape:(8920, 12), 테스트 세트 Shape:(3823, 12)\n",
      " 학습 세트 레이블 값 분포 비율\n",
      "0    0.941368\n",
      "1    0.058632\n",
      "Name: 부실기업, dtype: float64\n",
      "\n",
      " 테스트 세트 레이블 값 분포 비율\n",
      "0    0.402354\n",
      "1    0.026233\n",
      "Name: 부실기업, dtype: float64\n"
     ]
    }
   ],
   "source": [
    "# 피처, 레이블 데이터 분포 비율\n",
    "\n",
    "train_cnt = y_train.count()\n",
    "test_cnt = y_test.count()\n",
    "print('학습 세트 Shape:{0}, 테스트 세트 Shape:{1}'.format(X_train.shape, X_test.shape))\n",
    "\n",
    "print(' 학습 세트 레이블 값 분포 비율')\n",
    "print(y_train.value_counts()/train_cnt)\n",
    "print('\\n 테스트 세트 레이블 값 분포 비율')\n",
    "print(y_test.value_counts()/train_cnt)"
   ]
  },
  {
   "cell_type": "markdown",
   "metadata": {},
   "source": [
    "### 언더샘플링 버전\n",
    "version 1 : 서로 가장 붙어있는 n개의 소수 클래스 데이터로부터 minimum avg distance인 다수 클래스로부터 샘플링\n",
    "\n",
    "version 2 : 서로 가장 멀리있는 n개의 소수 클래스 데이터로부터 minimum avg distance인 다수 클래스로부터 샘플링\n",
    "\n",
    "version 3 : 소수 클래스의 각 데이터 포인트마다 가장 가까운 다수 클래스 데이터를 샘플링"
   ]
  },
  {
   "cell_type": "code",
   "execution_count": 7,
   "metadata": {},
   "outputs": [
    {
     "name": "stdout",
     "output_type": "stream",
     "text": [
      "nearmiss 적용 전 학습용 피처/레이블 데이터 세트:  (8920, 12) (8920,)\n",
      "nearmiss 적용 후 학습용 피처/레이블 데이터 세트:  (1046, 12) (1046,)\n",
      "\n",
      " nearmiss 적용 전 레이블 값 분포: \n",
      " 0    8397\n",
      "1     523\n",
      "Name: 부실기업, dtype: int64\n",
      "\n",
      " nearmiss 적용 후 레이블 값 분포: \n",
      " 0    523\n",
      "1    523\n",
      "Name: 부실기업, dtype: int64\n"
     ]
    }
   ],
   "source": [
    "# Undersample imbalanced dataset with NearMiss-1\n",
    "from imblearn.under_sampling import NearMiss\n",
    "\n",
    "nearmiss = NearMiss(version=1, n_neighbors=5)\n",
    "X_train_under, y_train_under = nearmiss.fit_resample(X_train, y_train)\n",
    "print('nearmiss 적용 전 학습용 피처/레이블 데이터 세트: ', X_train.shape, y_train.shape)\n",
    "print('nearmiss 적용 후 학습용 피처/레이블 데이터 세트: ', X_train_under.shape, y_train_under.shape)\n",
    "\n",
    "\n",
    "print('\\n nearmiss 적용 전 레이블 값 분포: \\n', pd.Series(y_train).value_counts())\n",
    "print('\\n nearmiss 적용 후 레이블 값 분포: \\n', pd.Series(y_train_under).value_counts())"
   ]
  },
  {
   "cell_type": "code",
   "execution_count": 8,
   "metadata": {},
   "outputs": [],
   "source": [
    "import matplotlib.pyplot as plt\n",
    "from sklearn.metrics import roc_curve, roc_auc_score, f1_score, accuracy_score, roc_auc_score, recall_score, \\\n",
    "    precision_score, confusion_matrix"
   ]
  },
  {
   "cell_type": "code",
   "execution_count": 9,
   "metadata": {},
   "outputs": [],
   "source": [
    "def plot_roc_curve(y_train_under, y_test, train_pred, test_pred, train_prob, test_prob):\n",
    "    \n",
    "    fpr, tpr, thresholds = roc_curve(y_test, test_prob) # output 3개가 나오는데, 각 threshhold 마다의 fpr, tpr값 인듯\n",
    "    \n",
    "    train_roc_auc = roc_auc_score(y_train_under, train_pred)\n",
    "    test_roc_auc = roc_auc_score(y_test, test_pred)\n",
    "    \n",
    "    train_f1 = f1_score(y_train_under, train_pred)\n",
    "    test_f1 = f1_score(y_test, test_pred)\n",
    "    \n",
    "    train_recall = recall_score(y_train_under, train_pred)\n",
    "    test_recall = recall_score(y_test, test_pred)\n",
    "    \n",
    "    train_pre = precision_score(y_train_under, train_pred)\n",
    "    test_pre = precision_score(y_test, test_pred)  \n",
    "    \n",
    "    train_acc = accuracy_score(y_train_under, train_pred)\n",
    "    test_acc = accuracy_score(y_test, test_pred)\n",
    "    \n",
    "    plt.plot(fpr, tpr, color='red', label='ROC')\n",
    "    plt.plot([0, 1], [0, 1], color='green', linestyle='--')\n",
    "    plt.xlabel('False Positive Rate')\n",
    "    plt.ylabel('True Positive Rate')\n",
    "    plt.title('test ROC : {}'.format(round(roc_auc_score(y_test, test_prob),3)),fontsize=16)\n",
    "    plt.legend()\n",
    "    plt.show()\n",
    "    \n",
    "    print('train_roc_auc score: ',train_roc_auc)\n",
    "    print('test_roc_auc score: ',test_roc_auc,'\\n')\n",
    "    \n",
    "    print('train_f1 score: ',train_f1)\n",
    "    print('test_f1 score: ',test_f1,'\\n')\n",
    "    \n",
    "    print('train_recall score: ',train_recall)\n",
    "    print('test_recall score: ',test_recall,'\\n')\n",
    "\n",
    "    print('train_pre score: ',train_pre)\n",
    "    print('test_pre score: ',test_pre,'\\n')\n",
    "    \n",
    "    print('train acc score: ',train_acc)\n",
    "    print('test acc score: ',test_acc, '\\n')"
   ]
  },
  {
   "cell_type": "markdown",
   "metadata": {},
   "source": [
    "## Decision Tree"
   ]
  },
  {
   "cell_type": "code",
   "execution_count": 18,
   "metadata": {},
   "outputs": [
    {
     "data": {
      "image/png": "[encoded data removed]",
      "text/plain": [
       "<Figure size 432x288 with 1 Axes>"
      ]
     },
     "metadata": {
      "needs_background": "light"
     },
     "output_type": "display_data"
    },
    {
     "name": "stdout",
     "output_type": "stream",
     "text": [
      "train_roc_auc score:  1.0\n",
      "test_roc_auc score:  0.646032630568713 \n",
      "\n",
      "train_f1 score:  1.0\n",
      "test_f1 score:  0.1609907120743034 \n",
      "\n",
      "train_recall score:  1.0\n",
      "test_recall score:  0.8888888888888888 \n",
      "\n",
      "train_pre score:  1.0\n",
      "test_pre score:  0.08851063829787234 \n",
      "\n",
      "train acc score:  1.0\n",
      "test acc score:  0.432906094690034 \n",
      "\n"
     ]
    }
   ],
   "source": [
    "from sklearn.tree import DecisionTreeClassifier\n",
    "import time\n",
    "import warnings\n",
    "warnings.filterwarnings('ignore')\n",
    "\n",
    "# DecisionTreeClassifier 학습/예측/평가\n",
    "dt_clf_time = time.time()\n",
    "\n",
    "dt_clf = DecisionTreeClassifier(random_state=42)\n",
    "\n",
    "trained_model = dt_clf.fit(X_train_under,y_train_under)\n",
    "train_pred = trained_model.predict(X_train_under)\n",
    "train_prob = trained_model.predict_proba(X_train_under)[:, 1]\n",
    "\n",
    "test_pred = trained_model.predict(X_test)\n",
    "test_prob = trained_model.predict_proba(X_test)[:, 1]\n",
    "\n",
    "plot_roc_curve(y_train_under, y_test, train_pred, test_pred, train_prob, test_prob)"
   ]
  },
  {
   "cell_type": "markdown",
   "metadata": {},
   "source": [
    "## DT GridSearch CV"
   ]
  },
  {
   "cell_type": "code",
   "execution_count": 19,
   "metadata": {},
   "outputs": [],
   "source": [
    "# DecisionTreeClassifier GridSearchCV\n",
    "from sklearn.model_selection import GridSearchCV\n",
    "\n",
    "parameters = {'max_depth':[2, 3, 4, 5, 6],\\\n",
    "            'min_samples_split':[2, 3, 4, 5, 6],\\\n",
    "            'min_samples_leaf':[1, 5, 6, 7, 8]}\n",
    "\n",
    "def best_dtparam(clf, param, scoring_name, cv_num):\n",
    "    b_params= []\n",
    "    \n",
    "    grid_cv = GridSearchCV(clf, param_grid=param, scoring=scoring_name, cv=cv_num,)\n",
    "    grid_cv.fit(X_train_under, y_train_under)\n",
    "    \n",
    "    b_params.append(grid_cv.best_params_)\n",
    "    \n",
    "    print('GridSearchCV 최적 하이퍼 파라미터 :', grid_cv.best_params_)\n",
    "    print('\\nGridSearchCV 최고 정확도 :{0:.4f}'.format(grid_cv.best_score_))\n",
    "    best_est = grid_cv.best_estimator_\n",
    "    \n",
    "    # GridSearchCV의 최적 하이퍼 마라미터로 학습된 Estimator로 예측 및 평가 수행\n",
    "    predictions = best_est.predict(X_test)\n",
    "    accuracy = accuracy_score(y_test, predictions)\n",
    "    print('테스트 세트에서의 DecisionTreeClassifier 정확도 : {0:.4f}'.format(accuracy))\n",
    "    \n",
    "    return b_params"
   ]
  },
  {
   "cell_type": "code",
   "execution_count": 20,
   "metadata": {},
   "outputs": [
    {
     "name": "stdout",
     "output_type": "stream",
     "text": [
      "GridSearchCV 최적 하이퍼 파라미터 : {'max_depth': 6, 'min_samples_leaf': 7, 'min_samples_split': 2}\n",
      "\n",
      "GridSearchCV 최고 정확도 :0.8394\n",
      "테스트 세트에서의 DecisionTreeClassifier 정확도 : 0.5221\n"
     ]
    },
    {
     "data": {
      "text/plain": [
       "{'max_depth': 6, 'min_samples_leaf': 7, 'min_samples_split': 2}"
      ]
     },
     "execution_count": 20,
     "metadata": {},
     "output_type": "execute_result"
    }
   ],
   "source": [
    "b_params = best_dtparam(dt_clf, parameters, 'accuracy', 5)\n",
    "b_params[-1]"
   ]
  },
  {
   "cell_type": "code",
   "execution_count": 21,
   "metadata": {},
   "outputs": [],
   "source": [
    "# 최적 하이퍼 파라미터 저장\n",
    "\n",
    "max_depth = 0\n",
    "min_samples_leaf = 0\n",
    "min_samples_split = 0\n",
    "\n",
    "for key, value in b_params[-1].items():\n",
    "    if key == 'max_depth':\n",
    "        max_depth = value\n",
    "    if key == 'min_samples_leaf':\n",
    "        min_samples_leaf = value\n",
    "    else:\n",
    "        min_samples_split = value"
   ]
  },
  {
   "cell_type": "code",
   "execution_count": 22,
   "metadata": {},
   "outputs": [
    {
     "name": "stdout",
     "output_type": "stream",
     "text": [
      "예측 정확도: 0.9357\n"
     ]
    }
   ],
   "source": [
    "# 최적 하이퍼 파라미터 적용\n",
    "dt_clf1 = DecisionTreeClassifier(max_depth=max_depth, min_samples_split=min_samples_split, min_samples_leaf=min_samples_leaf)\n",
    "dt_clf1.fit(X_train, y_train)\n",
    "dt1_pred = dt_clf1.predict(X_test)\n",
    "print('예측 정확도: {0:.4f}'.format(accuracy_score(y_test, dt1_pred)))"
   ]
  },
  {
   "cell_type": "code",
   "execution_count": 23,
   "metadata": {},
   "outputs": [],
   "source": [
    "# 오차행렬, 정확도, 정밀도, 재현율, F1스코어 함수에 ROC_AUC 추가\n",
    "def get_clf_eval(y_test, pred=None, pred_proba=None):\n",
    "    confusion = confusion_matrix(y_test, pred)\n",
    "    accuracy = accuracy_score(y_test, pred)\n",
    "    precision = precision_score(y_test, pred)\n",
    "    recall = recall_score(y_test, pred)\n",
    "    f1 = f1_score(y_test, pred)\n",
    "    roc_auc = roc_auc_score(y_test, pred_proba)\n",
    "    print('오차행렬')\n",
    "    print(confusion)\n",
    "    print('정확도: {0:.4f}, 정밀도: {1:.4f}, 재현율: {2:.4f}, F1:{3:.4f}, AUC:{4:.4f}'.format(accuracy, precision, recall, f1, roc_auc))"
   ]
  },
  {
   "cell_type": "code",
   "execution_count": 24,
   "metadata": {},
   "outputs": [],
   "source": [
    "# 임곗값별 수치 함수 재설정\n",
    "def get_eval_by_threshold(y_test, pred_proba_c1, thresholds):\n",
    "    for custom_threshold in thresholds:\n",
    "        binarizer = Binarizer(threshold=custom_threshold).fit(pred_proba_c1)\n",
    "        custom_predict = binarizer.transform(pred_proba_c1)\n",
    "        print('임곗값:', custom_threshold)\n",
    "        get_clf_eval(y_test, custom_predict, dt_clf1.predict_proba(X_test)[:, 1])"
   ]
  },
  {
   "cell_type": "code",
   "execution_count": 28,
   "metadata": {},
   "outputs": [
    {
     "name": "stdout",
     "output_type": "stream",
     "text": [
      "임곗값: 0.05\n",
      "오차행렬\n",
      "[[3104  485]\n",
      " [  36  198]]\n",
      "정확도: 0.8637, 정밀도: 0.2899, 재현율: 0.8462, F1:0.4318, AUC:0.8841\n",
      "임곗값: 0.1\n",
      "오차행렬\n",
      "[[3172  417]\n",
      " [  55  179]]\n",
      "정확도: 0.8765, 정밀도: 0.3003, 재현율: 0.7650, F1:0.4313, AUC:0.8841\n",
      "임곗값: 0.2\n",
      "오차행렬\n",
      "[[3280  309]\n",
      " [  73  161]]\n",
      "정확도: 0.9001, 정밀도: 0.3426, 재현율: 0.6880, F1:0.4574, AUC:0.8841\n",
      "임곗값: 0.3\n",
      "오차행렬\n",
      "[[3438  151]\n",
      " [ 152   82]]\n",
      "정확도: 0.9207, 정밀도: 0.3519, 재현율: 0.3504, F1:0.3512, AUC:0.8841\n"
     ]
    }
   ],
   "source": [
    "from sklearn.preprocessing import Binarizer\n",
    "\n",
    "thresholds = [0.05, 0.1, 0.2, 0.3]\n",
    "pred_proba = dt_clf1.predict_proba(X_test)\n",
    "\n",
    "get_eval_by_threshold(y_test, pred_proba[:, 1].reshape(-1, 1), thresholds)"
   ]
  },
  {
   "cell_type": "code",
   "execution_count": 32,
   "metadata": {},
   "outputs": [
    {
     "data": {
      "image/png": "[encoded data removed]",
      "text/plain": [
       "<Figure size 1008x576 with 1 Axes>"
      ]
     },
     "metadata": {
      "needs_background": "light"
     },
     "output_type": "display_data"
    }
   ],
   "source": [
    "from sklearn.metrics import precision_recall_curve\n",
    "import numpy as np\n",
    "\n",
    "plt.rcParams[\"font.family\"] = \"Malgun Gothic\"\n",
    "\n",
    "def precision_recall_curve_plot(y_test, pred_proba_c1):\n",
    "    precisions, recalls, thresholds = precision_recall_curve(y_test, pred_proba_c1)\n",
    "    \n",
    "    # X축을 threshold값으로, Y축은 정밀도, 재현율 값으로 각각 plot 수행. 정밀도는 점선으로 표시\n",
    "    plt.figure(figsize=(14, 8))\n",
    "    # 임곗값 수치    \n",
    "    threshold_boundary = thresholds.shape[0]\n",
    "    # 정밀도는 점선으로\n",
    "    plt.plot(thresholds, precisions[0:threshold_boundary], linestyle='--', label='precision')\n",
    "    # 재현율은 선으로\n",
    "    plt.plot(thresholds, recalls[0:threshold_boundary], label='recall')\n",
    "    \n",
    "    start, end = plt.xlim()\n",
    "    # x축을 0.1씩 증가, 소수점 둘째자리까지 표시\n",
    "    plt.xticks(np.round(np.arange(start, end, 0.1), 2))\n",
    "    \n",
    "    plt.title(\"정밀도와 재현율 곡선\")\n",
    "    plt.xlabel('Threshold value')\n",
    "    plt.ylabel('Precision and Recall value')\n",
    "    plt.legend()\n",
    "    plt.grid()\n",
    "    plt.show()\n",
    "    \n",
    "precision_recall_curve_plot(y_test, dt_clf1.predict_proba(X_test)[:, 1])\n",
    "\n",
    "# 임계값이 낮을수록 재현율은 높고, 정밀도는 낮다.\n",
    "# 임계값이 클수록 재현율은 낮고, 정밀도는 높다."
   ]
  },
  {
   "cell_type": "code",
   "execution_count": 33,
   "metadata": {},
   "outputs": [
    {
     "data": {
      "image/png": "[encoded data removed]",
      "text/plain": [
       "<Figure size 432x288 with 1 Axes>"
      ]
     },
     "metadata": {
      "needs_background": "light"
     },
     "output_type": "display_data"
    },
    {
     "name": "stdout",
     "output_type": "stream",
     "text": [
      "train_roc_auc score:  0.9063097514340344\n",
      "test_roc_auc score:  0.6755619616444359 \n",
      "\n",
      "train_f1 score:  0.9021956087824352\n",
      "test_f1 score:  0.17887640449438202 \n",
      "\n",
      "train_recall score:  0.864244741873805\n",
      "test_recall score:  0.8504273504273504 \n",
      "\n",
      "train_pre score:  0.9436325678496869\n",
      "test_pre score:  0.09994977398292315 \n",
      "\n",
      "train acc score:  0.9063097514340345\n",
      "test acc score:  0.522103060423751 \n",
      "\n"
     ]
    }
   ],
   "source": [
    "from sklearn.tree import DecisionTreeClassifier\n",
    "import time\n",
    "import warnings\n",
    "warnings.filterwarnings('ignore')\n",
    "\n",
    "# DecisionTreeClassifier 학습/예측/평가\n",
    "dt_clf_time = time.time()\n",
    "\n",
    "dt_clf1 = DecisionTreeClassifier(max_depth=max_depth, min_samples_split=min_samples_split, min_samples_leaf=min_samples_leaf, random_state=42)\n",
    "\n",
    "trained_model = dt_clf1.fit(X_train_under,y_train_under)\n",
    "train_pred = trained_model.predict(X_train_under)\n",
    "train_prob = trained_model.predict_proba(X_train_under)[:, 1]\n",
    "\n",
    "test_pred = trained_model.predict(X_test)\n",
    "test_prob = trained_model.predict_proba(X_test)[:, 1]\n",
    "\n",
    "plot_roc_curve(y_train_under, y_test, train_pred, test_pred, train_prob, test_prob)"
   ]
  },
  {
   "cell_type": "markdown",
   "metadata": {},
   "source": [
    "## Random Forest"
   ]
  },
  {
   "cell_type": "code",
   "execution_count": 35,
   "metadata": {},
   "outputs": [
    {
     "data": {
      "image/png": "[encoded data removed]",
      "text/plain": [
       "<Figure size 432x288 with 1 Axes>"
      ]
     },
     "metadata": {
      "needs_background": "light"
     },
     "output_type": "display_data"
    },
    {
     "name": "stdout",
     "output_type": "stream",
     "text": [
      "train_roc_auc score:  1.0\n",
      "test_roc_auc score:  0.6097691664701974 \n",
      "\n",
      "train_f1 score:  1.0\n",
      "test_f1 score:  0.14521008403361343 \n",
      "\n",
      "train_recall score:  1.0\n",
      "test_recall score:  0.9230769230769231 \n",
      "\n",
      "train_pre score:  1.0\n",
      "test_pre score:  0.07880335643925575 \n",
      "\n",
      "train acc score:  1.0\n",
      "test acc score:  0.33481558985090243 \n",
      "\n"
     ]
    }
   ],
   "source": [
    "from sklearn.ensemble import RandomForestClassifier\n",
    "import time\n",
    "import warnings\n",
    "warnings.filterwarnings('ignore')\n",
    "\n",
    "# DecisionTreeClassifier 학습/예측/평가\n",
    "rf_clf_time = time.time()\n",
    "\n",
    "rf_clf = RandomForestClassifier(random_state=42, n_jobs=-1)\n",
    "\n",
    "trained_model = rf_clf.fit(X_train_under, y_train_under,)\n",
    "\n",
    "train_pred = trained_model.predict(X_train_under)\n",
    "train_prob = trained_model.predict_proba(X_train_under)[:, 1]\n",
    "\n",
    "test_pred = trained_model.predict(X_test)\n",
    "test_prob = trained_model.predict_proba(X_test)[:, 1]\n",
    "\n",
    "plot_roc_curve(y_train_under, y_test, train_pred, test_pred, train_prob, test_prob)"
   ]
  },
  {
   "cell_type": "markdown",
   "metadata": {},
   "source": [
    "## RF GridSearch CV"
   ]
  },
  {
   "cell_type": "code",
   "execution_count": 37,
   "metadata": {},
   "outputs": [],
   "source": [
    "# RandomForestClassifier GridSearchCV\n",
    "from sklearn.model_selection import GridSearchCV\n",
    "\n",
    "parameters = {'n_estimators':[100],\\\n",
    "        'max_depth' : [6, 8, 10, 12],\\\n",
    "        'min_samples_leaf' : [6, 8, 10, 12],\\\n",
    "        'min_samples_split' : [4, 6, 8, 10, 12]\n",
    "        }\n",
    "\n",
    "def best_rfparam(clf, param, scoring_name, cv_num):\n",
    "    b_params= []\n",
    "    \n",
    "    grid_cv = GridSearchCV(clf, param_grid=param, scoring=scoring_name, cv=cv_num,)\n",
    "    grid_cv.fit(X_train_under, y_train_under)\n",
    "    \n",
    "    b_params.append(grid_cv.best_params_)\n",
    "    \n",
    "    print('GridSearchCV 최적 하이퍼 파라미터 :', grid_cv.best_params_)\n",
    "    print('\\nGridSearchCV 최고 정확도 :{0:.4f}'.format(grid_cv.best_score_))\n",
    "    best_est = grid_cv.best_estimator_\n",
    "    \n",
    "    # GridSearchCV의 최적 하이퍼 마라미터로 학습된 Estimator로 예측 및 평가 수행\n",
    "    predictions = best_est.predict(X_test)\n",
    "    accuracy = accuracy_score(y_test, predictions)\n",
    "    print('테스트 세트에서의 DecisionTreeClassifier 정확도 : {0:.4f}'.format(accuracy))\n",
    "    \n",
    "    return b_params"
   ]
  },
  {
   "cell_type": "code",
   "execution_count": 38,
   "metadata": {},
   "outputs": [
    {
     "name": "stdout",
     "output_type": "stream",
     "text": [
      "GridSearchCV 최적 하이퍼 파라미터 : {'max_depth': 10, 'min_samples_leaf': 12, 'min_samples_split': 4, 'n_estimators': 100}\n",
      "\n",
      "GridSearchCV 최고 정확도 :0.8843\n",
      "테스트 세트에서의 DecisionTreeClassifier 정확도 : 0.3581\n"
     ]
    },
    {
     "data": {
      "text/plain": [
       "{'max_depth': 10,\n",
       " 'min_samples_leaf': 12,\n",
       " 'min_samples_split': 4,\n",
       " 'n_estimators': 100}"
      ]
     },
     "execution_count": 38,
     "metadata": {},
     "output_type": "execute_result"
    }
   ],
   "source": [
    "b_params = best_rfparam(rf_clf, parameters, 'accuracy', 5)\n",
    "b_params[-1]"
   ]
  },
  {
   "cell_type": "code",
   "execution_count": 39,
   "metadata": {},
   "outputs": [],
   "source": [
    "# 최적 하이퍼 파라미터 저장\n",
    "\n",
    "max_depth = 0\n",
    "min_samples_leaf = 0\n",
    "min_samples_split = 0\n",
    "n_estimators = 0\n",
    "\n",
    "for key, value in b_params[-1].items():\n",
    "    if key == 'max_depth':\n",
    "        max_depth = value\n",
    "    if key == 'min_samples_leaf':\n",
    "        min_samples_leaf = value\n",
    "    elif key == 'min_samples_split':\n",
    "        min_samples_split = value\n",
    "    else:\n",
    "        n_estimators = value"
   ]
  },
  {
   "cell_type": "code",
   "execution_count": 40,
   "metadata": {},
   "outputs": [
    {
     "name": "stdout",
     "output_type": "stream",
     "text": [
      "예측 정확도: 0.9396\n"
     ]
    }
   ],
   "source": [
    "# 최적 하이퍼 파라미터 적용\n",
    "rf_clf1 = RandomForestClassifier(max_depth=max_depth, min_samples_split=min_samples_split, min_samples_leaf=min_samples_leaf, n_estimators=n_estimators)\n",
    "rf_clf1.fit(X_train, y_train)\n",
    "rf1_pred = rf_clf1.predict(X_test)\n",
    "print('예측 정확도: {0:.4f}'.format(accuracy_score(y_test, rf1_pred)))"
   ]
  },
  {
   "cell_type": "code",
   "execution_count": 41,
   "metadata": {},
   "outputs": [],
   "source": [
    "# 오차행렬, 정확도, 정밀도, 재현율, F1스코어 함수에 ROC_AUC 추가\n",
    "def get_clf_eval(y_test, pred=None, pred_proba=None):\n",
    "    confusion = confusion_matrix(y_test, pred)\n",
    "    accuracy = accuracy_score(y_test, pred)\n",
    "    precision = precision_score(y_test, pred)\n",
    "    recall = recall_score(y_test, pred)\n",
    "    f1 = f1_score(y_test, pred)\n",
    "    roc_auc = roc_auc_score(y_test, pred_proba) \n",
    "    print('오차행렬')\n",
    "    print(confusion)\n",
    "    print('정확도: {0:.4f}, 정밀도: {1:.4f}, 재현율: {2:.4f}, F1:{3:.4f}, AUC:{4:.4f}'.format(accuracy, precision, recall, f1, roc_auc))"
   ]
  },
  {
   "cell_type": "code",
   "execution_count": 42,
   "metadata": {},
   "outputs": [],
   "source": [
    "# 임곗값별 수치 함수 재설정\n",
    "def get_eval_by_threshold(y_test, pred_proba_c1, thresholds):\n",
    "    for custom_threshold in thresholds:\n",
    "        binarizer = Binarizer(threshold=custom_threshold).fit(pred_proba_c1)\n",
    "        custom_predict = binarizer.transform(pred_proba_c1)\n",
    "        print('임곗값:', custom_threshold)\n",
    "        get_clf_eval(y_test, custom_predict, dt_clf1.predict_proba(X_test)[:, 1])"
   ]
  },
  {
   "cell_type": "code",
   "execution_count": 43,
   "metadata": {},
   "outputs": [
    {
     "name": "stdout",
     "output_type": "stream",
     "text": [
      "임곗값: 0.05\n",
      "오차행렬\n",
      "[[2878  711]\n",
      " [  13  221]]\n",
      "정확도: 0.8106, 정밀도: 0.2371, 재현율: 0.9444, F1:0.3791, AUC:0.7336\n",
      "임곗값: 0.1\n",
      "오차행렬\n",
      "[[3060  529]\n",
      " [  30  204]]\n",
      "정확도: 0.8538, 정밀도: 0.2783, 재현율: 0.8718, F1:0.4219, AUC:0.7336\n",
      "임곗값: 0.2\n",
      "오차행렬\n",
      "[[3290  299]\n",
      " [  65  169]]\n",
      "정확도: 0.9048, 정밀도: 0.3611, 재현율: 0.7222, F1:0.4815, AUC:0.7336\n",
      "임곗값: 0.3\n",
      "오차행렬\n",
      "[[3465  124]\n",
      " [ 129  105]]\n",
      "정확도: 0.9338, 정밀도: 0.4585, 재현율: 0.4487, F1:0.4536, AUC:0.7336\n"
     ]
    }
   ],
   "source": [
    "from sklearn.preprocessing import Binarizer\n",
    "\n",
    "thresholds = [0.05, 0.1, 0.2, 0.3]\n",
    "pred_proba = rf_clf1.predict_proba(X_test)\n",
    "\n",
    "get_eval_by_threshold(y_test, pred_proba[:, 1].reshape(-1, 1), thresholds)"
   ]
  },
  {
   "cell_type": "code",
   "execution_count": 45,
   "metadata": {},
   "outputs": [
    {
     "data": {
      "image/png": "[encoded data removed]",
      "text/plain": [
       "<Figure size 1008x576 with 1 Axes>"
      ]
     },
     "metadata": {
      "needs_background": "light"
     },
     "output_type": "display_data"
    }
   ],
   "source": [
    "from sklearn.metrics import precision_recall_curve\n",
    "import numpy as np\n",
    "\n",
    "plt.rcParams[\"font.family\"] = \"Malgun Gothic\"\n",
    "plt.rcParams['axes.unicode_minus'] = False\n",
    "\n",
    "def precision_recall_curve_plot(y_test, pred_proba_c1):\n",
    "    precisions, recalls, thresholds = precision_recall_curve(y_test, pred_proba_c1)\n",
    "    \n",
    "    # X축을 threshold값으로, Y축은 정밀도, 재현율 값으로 각각 plot 수행. 정밀도는 점선으로 표시\n",
    "    plt.figure(figsize=(14, 8))\n",
    "    # 임곗값 수치    \n",
    "    threshold_boundary = thresholds.shape[0]\n",
    "    # 정밀도는 점선으로\n",
    "    plt.plot(thresholds, precisions[0:threshold_boundary], linestyle='--', label='precision')\n",
    "    # 재현율은 선으로\n",
    "    plt.plot(thresholds, recalls[0:threshold_boundary], label='recall')\n",
    "    \n",
    "    start, end = plt.xlim()\n",
    "    # x축을 0.1씩 증가, 소수점 둘째자리까지 표시\n",
    "    plt.xticks(np.round(np.arange(start, end, 0.1), 2))\n",
    "    \n",
    "    plt.title(\"정밀도와 재현율 곡선\")\n",
    "    plt.xlabel('Threshold value')\n",
    "    plt.ylabel('Precision and Recall value')\n",
    "    plt.legend()\n",
    "    plt.grid()\n",
    "    plt.show()\n",
    "    \n",
    "precision_recall_curve_plot(y_test, rf_clf1.predict_proba(X_test)[:, 1])\n",
    "\n",
    "# 임계값이 낮을수록 재현율은 높고, 정밀도는 낮다.\n",
    "# 임계값이 클수록 재현율은 낮고, 정밀도는 높다."
   ]
  },
  {
   "cell_type": "code",
   "execution_count": 46,
   "metadata": {},
   "outputs": [
    {
     "data": {
      "image/png": "[encoded data removed]",
      "text/plain": [
       "<Figure size 432x288 with 1 Axes>"
      ]
     },
     "metadata": {
      "needs_background": "light"
     },
     "output_type": "display_data"
    },
    {
     "name": "stdout",
     "output_type": "stream",
     "text": [
      "train_roc_auc score:  0.9149139579349904\n",
      "test_roc_auc score:  0.6707818048024234 \n",
      "\n",
      "train_f1 score:  0.9138431752178122\n",
      "test_f1 score:  0.17428449380606578 \n",
      "\n",
      "train_recall score:  0.9024856596558317\n",
      "test_recall score:  0.8717948717948718 \n",
      "\n",
      "train_pre score:  0.9254901960784314\n",
      "test_pre score:  0.09682012339819648 \n",
      "\n",
      "train acc score:  0.9149139579349904\n",
      "test acc score:  0.4943761443892231 \n",
      "\n"
     ]
    }
   ],
   "source": [
    "from sklearn.ensemble import RandomForestClassifier\n",
    "import time\n",
    "import warnings\n",
    "warnings.filterwarnings('ignore')\n",
    "\n",
    "# RandomForestClassifier 학습/예측/평가\n",
    "rf_clf_time = time.time()\n",
    "\n",
    "rf_clf1 = RandomForestClassifier(max_depth=max_depth, min_samples_split=min_samples_split, min_samples_leaf=min_samples_leaf, random_state=42)\n",
    "\n",
    "trained_model = rf_clf1.fit(X_train_under,y_train_under)\n",
    "train_pred = trained_model.predict(X_train_under)\n",
    "train_prob = trained_model.predict_proba(X_train_under)[:, 1]\n",
    "\n",
    "test_pred = trained_model.predict(X_test)\n",
    "test_prob = trained_model.predict_proba(X_test)[:, 1]\n",
    "\n",
    "plot_roc_curve(y_train_under, y_test, train_pred, test_pred, train_prob, test_prob)"
   ]
  },
  {
   "cell_type": "markdown",
   "metadata": {},
   "source": [
    "## GB Classifier"
   ]
  },
  {
   "cell_type": "code",
   "execution_count": 48,
   "metadata": {},
   "outputs": [
    {
     "data": {
      "image/png": "[encoded data removed]",
      "text/plain": [
       "<Figure size 432x288 with 1 Axes>"
      ]
     },
     "metadata": {
      "needs_background": "light"
     },
     "output_type": "display_data"
    },
    {
     "name": "stdout",
     "output_type": "stream",
     "text": [
      "train_roc_auc score:  0.9751434034416825\n",
      "test_roc_auc score:  0.6563472671720094 \n",
      "\n",
      "train_f1 score:  0.9748549323017408\n",
      "test_f1 score:  0.16334211516748212 \n",
      "\n",
      "train_recall score:  0.9636711281070746\n",
      "test_recall score:  0.9273504273504274 \n",
      "\n",
      "train_pre score:  0.9863013698630136\n",
      "test_pre score:  0.08955839867932315 \n",
      "\n",
      "train acc score:  0.9751434034416826\n",
      "test acc score:  0.41851948731362804 \n",
      "\n"
     ]
    }
   ],
   "source": [
    "from sklearn.ensemble import GradientBoostingClassifier\n",
    "import time\n",
    "import warnings\n",
    "warnings.filterwarnings('ignore')\n",
    "\n",
    "# GradientBoostingClassifier 학습/예측/평가\n",
    "gb_clf_time = time.time()\n",
    "\n",
    "gb_clf = GradientBoostingClassifier(random_state=0)\n",
    "\n",
    "trained_model = gb_clf.fit(X_train_under, y_train_under)\n",
    "\n",
    "train_pred = trained_model.predict(X_train_under)\n",
    "train_prob = trained_model.predict_proba(X_train_under)[:, 1]\n",
    "\n",
    "test_pred = trained_model.predict(X_test)\n",
    "test_prob = trained_model.predict_proba(X_test)[:, 1]\n",
    "\n",
    "plot_roc_curve(y_train_under, y_test, train_pred, test_pred, train_prob, test_prob)"
   ]
  },
  {
   "cell_type": "markdown",
   "metadata": {},
   "source": [
    "## GBClassifier GridSearch CV"
   ]
  },
  {
   "cell_type": "code",
   "execution_count": 53,
   "metadata": {},
   "outputs": [],
   "source": [
    "# DecisionTreeClassifier GridSearchCV\n",
    "from sklearn.model_selection import GridSearchCV\n",
    "\n",
    "parameters = {\n",
    "        'learning_rate':[0.1],\\\n",
    "        'n_estimators':[100],\\\n",
    "        'max_depth' : [3, 5, 8, 10],\\\n",
    "        'min_samples_leaf' : [6, 8, 10, 12],\\\n",
    "        'min_samples_split' : [4, 6, 8, 10]\n",
    "        }\n",
    "\n",
    "def best_gbcparam(clf, param, scoring_name, cv_num):\n",
    "        start_time = time.time()\n",
    "        b_params= []        \n",
    "        grid_cv = GridSearchCV(clf, param_grid=param, scoring=scoring_name, cv=cv_num,)\n",
    "        grid_cv.fit(X_train_under, y_train_under)\n",
    "        \n",
    "        b_params.append(grid_cv.best_params_)\n",
    "        \n",
    "        print('GridSearchCV 최적 하이퍼 파라미터 :', grid_cv.best_params_)\n",
    "        print('\\nGridSearchCV 최고 정확도 :{0:.4f}'.format(grid_cv.best_score_))\n",
    "        best_est = grid_cv.best_estimator_\n",
    "        \n",
    "        # GridSearchCV의 최적 하이퍼 마라미터로 학습된 Estimator로 예측 및 평가 수행\n",
    "        predictions = best_est.predict(X_test)\n",
    "        accuracy = accuracy_score(y_test, predictions)\n",
    "        print('테스트 세트에서의 GBClassifier 정확도 : {0:.4f}'.format(accuracy))\n",
    "        print('GBClassifier GridSearchCV 수행 시간: {0:.1f} 초'.format(time.time()-start_time))\n",
    "        \n",
    "        return b_params"
   ]
  },
  {
   "cell_type": "code",
   "execution_count": 54,
   "metadata": {},
   "outputs": [
    {
     "name": "stdout",
     "output_type": "stream",
     "text": [
      "GridSearchCV 최적 하이퍼 파라미터 : {'learning_rate': 0.1, 'max_depth': 3, 'min_samples_leaf': 8, 'min_samples_split': 4, 'n_estimators': 100}\n",
      "\n",
      "GridSearchCV 최고 정확도 :0.8948\n",
      "테스트 세트에서의 DecisionTreeClassifier 정확도 : 0.4298\n",
      "GBClassifier GridSearchCV 수행 시간: 362.0 초\n"
     ]
    },
    {
     "data": {
      "text/plain": [
       "{'learning_rate': 0.1,\n",
       " 'max_depth': 3,\n",
       " 'min_samples_leaf': 8,\n",
       " 'min_samples_split': 4,\n",
       " 'n_estimators': 100}"
      ]
     },
     "execution_count": 54,
     "metadata": {},
     "output_type": "execute_result"
    }
   ],
   "source": [
    "b_params = best_gbcparam(gb_clf, parameters, 'accuracy', 5)\n",
    "b_params[-1]"
   ]
  },
  {
   "cell_type": "code",
   "execution_count": 57,
   "metadata": {},
   "outputs": [],
   "source": [
    "# 최적 하이퍼 파라미터 저장\n",
    "\n",
    "learning_rate = 0\n",
    "max_depth = 0\n",
    "min_samples_leaf = 0\n",
    "min_samples_split = 0\n",
    "n_estimators = 0\n",
    "\n",
    "for key, value in b_params[-1].items():\n",
    "    if key == 'max_depth':\n",
    "        max_depth = value\n",
    "    if key == 'min_samples_leaf':\n",
    "        min_samples_leaf = value\n",
    "    elif key == 'min_samples_split':\n",
    "        min_samples_split = value\n",
    "    elif key == 'learning_rate':\n",
    "        learning_rate = value\n",
    "    elif key == 'n_estimators':\n",
    "        n_estimators = value\n",
    "    else:\n",
    "        n_estimators = value"
   ]
  },
  {
   "cell_type": "code",
   "execution_count": 59,
   "metadata": {},
   "outputs": [
    {
     "name": "stdout",
     "output_type": "stream",
     "text": [
      "예측 정확도: 0.9419\n"
     ]
    }
   ],
   "source": [
    "# 최적 하이퍼 파라미터 적용\n",
    "gb_clf1 = GradientBoostingClassifier(learning_rate=learning_rate, max_depth=max_depth, min_samples_split=min_samples_split, min_samples_leaf=min_samples_leaf, n_estimators=n_estimators)\n",
    "gb_clf1.fit(X_train, y_train)\n",
    "gb1_pred = gb_clf1.predict(X_test)\n",
    "print('예측 정확도: {0:.4f}'.format(accuracy_score(y_test, gb1_pred)))"
   ]
  },
  {
   "cell_type": "code",
   "execution_count": 60,
   "metadata": {},
   "outputs": [],
   "source": [
    "# 오차행렬, 정확도, 정밀도, 재현율, F1스코어 함수에 ROC_AUC 추가\n",
    "def get_clf_eval(y_test, pred=None, pred_proba=None):\n",
    "    confusion = confusion_matrix(y_test, pred)\n",
    "    accuracy = accuracy_score(y_test, pred)\n",
    "    precision = precision_score(y_test, pred)\n",
    "    recall = recall_score(y_test, pred)\n",
    "    f1 = f1_score(y_test, pred)\n",
    "    roc_auc = roc_auc_score(y_test, pred_proba) \n",
    "    print('오차행렬')\n",
    "    print(confusion)\n",
    "    print('정확도: {0:.4f}, 정밀도: {1:.4f}, 재현율: {2:.4f}, F1:{3:.4f}, AUC:{4:.4f}'.format(accuracy, precision, recall, f1, roc_auc))"
   ]
  },
  {
   "cell_type": "code",
   "execution_count": 61,
   "metadata": {},
   "outputs": [],
   "source": [
    "# 임곗값별 수치 함수 재설정\n",
    "def get_eval_by_threshold(y_test, pred_proba_c1, thresholds):\n",
    "    for custom_threshold in thresholds:\n",
    "        binarizer = Binarizer(threshold=custom_threshold).fit(pred_proba_c1)\n",
    "        custom_predict = binarizer.transform(pred_proba_c1)\n",
    "        print('임곗값:', custom_threshold)\n",
    "        get_clf_eval(y_test, custom_predict, dt_clf1.predict_proba(X_test)[:, 1])"
   ]
  },
  {
   "cell_type": "code",
   "execution_count": 62,
   "metadata": {},
   "outputs": [
    {
     "name": "stdout",
     "output_type": "stream",
     "text": [
      "임곗값: 0.1\n",
      "오차행렬\n",
      "[[3144  445]\n",
      " [  42  192]]\n",
      "정확도: 0.8726, 정밀도: 0.3014, 재현율: 0.8205, F1:0.4409, AUC:0.7336\n",
      "임곗값: 0.2\n",
      "오차행렬\n",
      "[[3342  247]\n",
      " [  91  143]]\n",
      "정확도: 0.9116, 정밀도: 0.3667, 재현율: 0.6111, F1:0.4583, AUC:0.7336\n",
      "임곗값: 0.3\n",
      "오차행렬\n",
      "[[3450  139]\n",
      " [ 130  104]]\n",
      "정확도: 0.9296, 정밀도: 0.4280, 재현율: 0.4444, F1:0.4361, AUC:0.7336\n",
      "임곗값: 0.4\n",
      "오차행렬\n",
      "[[3528   61]\n",
      " [ 167   67]]\n",
      "정확도: 0.9404, 정밀도: 0.5234, 재현율: 0.2863, F1:0.3702, AUC:0.7336\n",
      "임곗값: 0.5\n",
      "오차행렬\n",
      "[[3566   23]\n",
      " [ 199   35]]\n",
      "정확도: 0.9419, 정밀도: 0.6034, 재현율: 0.1496, F1:0.2397, AUC:0.7336\n"
     ]
    }
   ],
   "source": [
    "from sklearn.preprocessing import Binarizer\n",
    "\n",
    "thresholds = [0.1, 0.2, 0.3, 0.4, 0.5]\n",
    "pred_proba = gb_clf1.predict_proba(X_test)\n",
    "\n",
    "get_eval_by_threshold(y_test, pred_proba[:, 1].reshape(-1, 1), thresholds)"
   ]
  },
  {
   "cell_type": "code",
   "execution_count": 63,
   "metadata": {},
   "outputs": [
    {
     "data": {
      "image/png": "[encoded data removed]",
      "text/plain": [
       "<Figure size 1008x576 with 1 Axes>"
      ]
     },
     "metadata": {
      "needs_background": "light"
     },
     "output_type": "display_data"
    }
   ],
   "source": [
    "from sklearn.metrics import precision_recall_curve\n",
    "import numpy as np\n",
    "\n",
    "plt.rcParams[\"font.family\"] = \"Malgun Gothic\"\n",
    "plt.rcParams['axes.unicode_minus'] = False\n",
    "\n",
    "def precision_recall_curve_plot(y_test, pred_proba_c1):\n",
    "    precisions, recalls, thresholds = precision_recall_curve(y_test, pred_proba_c1)\n",
    "    \n",
    "    # X축을 threshold값으로, Y축은 정밀도, 재현율 값으로 각각 plot 수행. 정밀도는 점선으로 표시\n",
    "    plt.figure(figsize=(14, 8))\n",
    "    # 임곗값 수치    \n",
    "    threshold_boundary = thresholds.shape[0]\n",
    "    # 정밀도는 점선으로\n",
    "    plt.plot(thresholds, precisions[0:threshold_boundary], linestyle='--', label='precision')\n",
    "    # 재현율은 선으로\n",
    "    plt.plot(thresholds, recalls[0:threshold_boundary], label='recall')\n",
    "    \n",
    "    start, end = plt.xlim()\n",
    "    # x축을 0.1씩 증가, 소수점 둘째자리까지 표시\n",
    "    plt.xticks(np.round(np.arange(start, end, 0.1), 2))\n",
    "    \n",
    "    plt.title(\"정밀도와 재현율 곡선\")\n",
    "    plt.xlabel('Threshold value')\n",
    "    plt.ylabel('Precision and Recall value')\n",
    "    plt.legend()\n",
    "    plt.grid()\n",
    "    plt.show()\n",
    "    \n",
    "precision_recall_curve_plot(y_test, gb_clf1.predict_proba(X_test)[:, 1])\n",
    "\n",
    "# 임계값이 낮을수록 재현율은 높고, 정밀도는 낮다.\n",
    "# 임계값이 클수록 재현율은 낮고, 정밀도는 높다."
   ]
  },
  {
   "cell_type": "markdown",
   "metadata": {},
   "source": [
    "## ROC_AUC"
   ]
  },
  {
   "cell_type": "code",
   "execution_count": 70,
   "metadata": {},
   "outputs": [
    {
     "name": "stdout",
     "output_type": "stream",
     "text": [
      "샘플 추출을 위한 임곗값 배열의 index: [  1   2   3   4   5   6   7   8   9  10  11  12  13  14  15  16  17  18\n",
      "  19  20  21  22  23  24  25  26  27  28  29  30  31  32  33  34  35  36\n",
      "  37  38  39  40  41  42  43  44  45  46  47  48  49  50  51  52  53  54\n",
      "  55  56  57  58  59  60  61  62  63  64  65  66  67  68  69  70  71  72\n",
      "  73  74  75  76  77  78  79  80  81  82  83  84  85  86  87  88  89  90\n",
      "  91  92  93  94  95  96  97  98  99 100 101 102 103 104 105 106 107 108\n",
      " 109 110 111 112 113 114 115 116 117 118 119 120 121 122 123 124 125 126\n",
      " 127 128 129 130 131 132 133 134 135 136 137 138 139 140 141 142 143 144\n",
      " 145 146 147 148 149 150 151 152 153 154 155 156 157 158 159 160 161 162\n",
      " 163 164 165 166 167 168 169 170 171 172 173 174 175 176 177 178 179 180\n",
      " 181 182 183 184 185 186 187 188 189 190 191 192 193 194 195 196 197 198\n",
      " 199 200 201 202 203 204 205 206 207 208 209 210 211 212 213 214 215 216\n",
      " 217 218 219 220 221 222 223 224 225 226 227 228 229 230 231 232 233 234\n",
      " 235 236 237 238 239 240 241 242 243 244 245 246 247 248 249 250 251 252\n",
      " 253 254 255 256 257 258 259 260 261 262 263 264 265 266 267 268 269 270\n",
      " 271 272 273 274 275 276 277 278 279 280 281 282 283 284 285 286 287 288\n",
      " 289 290 291 292 293 294 295 296 297 298 299 300 301 302 303 304 305 306\n",
      " 307 308 309 310 311 312 313 314 315 316 317 318 319 320 321 322 323 324\n",
      " 325 326 327 328 329 330 331 332 333 334 335 336 337 338 339 340 341 342\n",
      " 343 344 345 346 347 348 349 350 351 352 353 354 355 356 357 358 359 360\n",
      " 361 362 363 364 365 366 367 368 369 370 371 372 373 374 375 376 377 378\n",
      " 379 380 381 382 383 384 385 386 387 388 389 390 391 392 393 394 395 396\n",
      " 397 398 399 400 401 402 403 404 405 406 407 408 409 410 411 412 413 414\n",
      " 415 416 417 418 419 420 421 422 423 424 425 426 427 428 429 430 431 432\n",
      " 433 434 435 436 437 438 439 440 441 442 443 444 445 446 447]\n",
      "샘플 index로 추출한 임곗값:  [1.   1.   1.   1.   1.   1.   1.   1.   1.   1.   1.   1.   1.   1.\n",
      " 1.   1.   1.   1.   1.   1.   1.   1.   1.   1.   1.   1.   1.   1.\n",
      " 1.   1.   1.   1.   1.   1.   1.   1.   1.   1.   1.   1.   1.   1.\n",
      " 1.   1.   1.   1.   1.   1.   1.   1.   1.   1.   1.   1.   1.   1.\n",
      " 1.   1.   1.   1.   1.   1.   1.   1.   1.   1.   1.   1.   1.   1.\n",
      " 1.   1.   1.   1.   1.   1.   1.   1.   1.   1.   1.   1.   1.   1.\n",
      " 1.   1.   1.   1.   1.   1.   1.   1.   1.   1.   1.   1.   1.   1.\n",
      " 1.   1.   1.   1.   1.   1.   1.   1.   1.   1.   1.   1.   1.   1.\n",
      " 1.   1.   1.   1.   1.   1.   1.   1.   1.   1.   1.   1.   1.   0.99\n",
      " 0.99 0.99 0.99 0.99 0.99 0.99 0.99 0.99 0.99 0.99 0.99 0.99 0.99 0.99\n",
      " 0.99 0.99 0.99 0.99 0.99 0.99 0.99 0.99 0.99 0.99 0.99 0.99 0.99 0.99\n",
      " 0.99 0.99 0.99 0.99 0.99 0.99 0.99 0.99 0.99 0.99 0.99 0.99 0.99 0.99\n",
      " 0.99 0.99 0.99 0.99 0.99 0.99 0.99 0.99 0.99 0.99 0.99 0.99 0.99 0.99\n",
      " 0.99 0.99 0.99 0.99 0.99 0.99 0.99 0.99 0.99 0.99 0.99 0.99 0.99 0.99\n",
      " 0.99 0.99 0.99 0.99 0.99 0.99 0.99 0.99 0.99 0.99 0.99 0.99 0.99 0.98\n",
      " 0.98 0.98 0.98 0.98 0.98 0.98 0.98 0.98 0.98 0.98 0.98 0.98 0.98 0.98\n",
      " 0.98 0.98 0.98 0.98 0.98 0.98 0.98 0.98 0.98 0.98 0.98 0.98 0.98 0.98\n",
      " 0.98 0.98 0.98 0.98 0.98 0.98 0.97 0.97 0.97 0.97 0.97 0.97 0.97 0.97\n",
      " 0.97 0.97 0.97 0.97 0.97 0.97 0.97 0.97 0.97 0.97 0.97 0.97 0.97 0.96\n",
      " 0.96 0.96 0.96 0.96 0.96 0.96 0.96 0.95 0.95 0.95 0.95 0.95 0.95 0.95\n",
      " 0.95 0.95 0.95 0.95 0.95 0.94 0.94 0.94 0.94 0.94 0.94 0.94 0.94 0.94\n",
      " 0.94 0.94 0.94 0.94 0.94 0.93 0.93 0.93 0.93 0.93 0.93 0.93 0.93 0.92\n",
      " 0.92 0.92 0.92 0.92 0.92 0.92 0.92 0.92 0.92 0.92 0.92 0.92 0.91 0.91\n",
      " 0.91 0.91 0.91 0.91 0.88 0.88 0.88 0.88 0.88 0.88 0.88 0.88 0.88 0.88\n",
      " 0.87 0.87 0.87 0.87 0.87 0.87 0.86 0.86 0.85 0.85 0.84 0.84 0.83 0.83\n",
      " 0.81 0.81 0.81 0.81 0.8  0.8  0.8  0.8  0.8  0.79 0.78 0.78 0.78 0.78\n",
      " 0.78 0.78 0.76 0.76 0.75 0.75 0.74 0.74 0.74 0.74 0.73 0.73 0.73 0.73\n",
      " 0.72 0.72 0.72 0.72 0.68 0.68 0.67 0.67 0.66 0.66 0.64 0.64 0.63 0.63\n",
      " 0.62 0.62 0.58 0.58 0.53 0.53 0.5  0.5  0.48 0.48 0.47 0.47 0.47 0.47\n",
      " 0.43 0.43 0.41 0.41 0.36 0.36 0.35 0.35 0.29 0.29 0.28 0.28 0.27 0.27\n",
      " 0.26 0.25 0.23 0.23 0.22 0.22 0.2  0.2  0.14 0.14 0.14 0.14 0.12 0.12\n",
      " 0.1  0.1  0.09 0.09 0.08 0.08 0.04 0.04 0.02 0.02 0.01 0.01 0.01]\n",
      "샘플 임곗값별 FPR:  [0.    0.001 0.002 0.005 0.006 0.007 0.007 0.013 0.014 0.015 0.016 0.019\n",
      " 0.02  0.021 0.021 0.024 0.024 0.025 0.025 0.025 0.025 0.028 0.028 0.028\n",
      " 0.029 0.03  0.03  0.031 0.031 0.038 0.038 0.038 0.038 0.039 0.039 0.041\n",
      " 0.041 0.043 0.043 0.043 0.043 0.048 0.048 0.05  0.05  0.053 0.053 0.054\n",
      " 0.054 0.055 0.055 0.056 0.056 0.058 0.058 0.059 0.059 0.059 0.059 0.06\n",
      " 0.06  0.06  0.06  0.06  0.06  0.061 0.061 0.061 0.061 0.065 0.065 0.065\n",
      " 0.065 0.069 0.069 0.069 0.069 0.07  0.07  0.072 0.072 0.072 0.072 0.072\n",
      " 0.072 0.074 0.074 0.077 0.077 0.078 0.078 0.079 0.079 0.08  0.08  0.082\n",
      " 0.082 0.082 0.082 0.083 0.083 0.084 0.084 0.085 0.085 0.087 0.087 0.088\n",
      " 0.088 0.089 0.089 0.089 0.089 0.09  0.09  0.091 0.091 0.091 0.091 0.093\n",
      " 0.093 0.095 0.095 0.096 0.096 0.097 0.097 0.099 0.099 0.1   0.1   0.101\n",
      " 0.101 0.101 0.101 0.102 0.102 0.102 0.102 0.103 0.103 0.104 0.104 0.106\n",
      " 0.106 0.106 0.106 0.109 0.109 0.112 0.112 0.114 0.114 0.116 0.116 0.128\n",
      " 0.128 0.128 0.128 0.129 0.129 0.13  0.13  0.13  0.13  0.132 0.132 0.133\n",
      " 0.133 0.134 0.134 0.134 0.134 0.136 0.136 0.14  0.14  0.143 0.143 0.144\n",
      " 0.144 0.145 0.145 0.147 0.147 0.15  0.15  0.15  0.15  0.152 0.152 0.154\n",
      " 0.154 0.154 0.154 0.156 0.156 0.161 0.161 0.161 0.161 0.164 0.164 0.165\n",
      " 0.165 0.165 0.165 0.167 0.167 0.169 0.169 0.171 0.171 0.172 0.172 0.172\n",
      " 0.172 0.176 0.176 0.178 0.178 0.179 0.179 0.18  0.181 0.183 0.183 0.194\n",
      " 0.194 0.196 0.196 0.198 0.198 0.203 0.203 0.209 0.209 0.211 0.211 0.211\n",
      " 0.211 0.212 0.212 0.213 0.213 0.216 0.216 0.217 0.217 0.221 0.221 0.224\n",
      " 0.224 0.224 0.224 0.225 0.225 0.229 0.229 0.233 0.233 0.234 0.234 0.235\n",
      " 0.235 0.25  0.25  0.252 0.252 0.27  0.27  0.271 0.271 0.275 0.275 0.277\n",
      " 0.277 0.278 0.278 0.289 0.289 0.291 0.291 0.292 0.292 0.295 0.295 0.296\n",
      " 0.296 0.297 0.297 0.297 0.297 0.306 0.306 0.309 0.309 0.31  0.31  0.313\n",
      " 0.313 0.319 0.319 0.322 0.322 0.326 0.326 0.327 0.327 0.329 0.329 0.329\n",
      " 0.334 0.334 0.336 0.336 0.337 0.337 0.34  0.34  0.342 0.342 0.349 0.349\n",
      " 0.35  0.35  0.374 0.374 0.375 0.375 0.376 0.376 0.377 0.377 0.379 0.379\n",
      " 0.382 0.382 0.387 0.387 0.388 0.388 0.396 0.396 0.406 0.406 0.411 0.411\n",
      " 0.42  0.42  0.437 0.437 0.437 0.437 0.444 0.444 0.448 0.448 0.448 0.448\n",
      " 0.458 0.458 0.459 0.459 0.459 0.459 0.471 0.471 0.479 0.479 0.481 0.481\n",
      " 0.487 0.488 0.489 0.489 0.493 0.493 0.494 0.494 0.497 0.497 0.518 0.518\n",
      " 0.523 0.523 0.524 0.524 0.536 0.536 0.542 0.542 0.543 0.543 0.565 0.565\n",
      " 0.585 0.585 0.602 0.602 0.607 0.607 0.614 0.614 0.614 0.614 0.635 0.635\n",
      " 0.647 0.647 0.671 0.671 0.674 0.674 0.71  0.71  0.713 0.713 0.717 0.717\n",
      " 0.724 0.724 0.739 0.739 0.746 0.746 0.758 0.758 0.806 0.806 0.808 0.808\n",
      " 0.827 0.827 0.848 0.848 0.86  0.86  0.874 0.874 0.92  0.921 0.981 0.982\n",
      " 0.996 0.997 1.   ]\n",
      "샘플 임곗값별 TPR:  [0.    0.    0.    0.    0.    0.    0.    0.    0.    0.    0.    0.\n",
      " 0.    0.    0.004 0.004 0.004 0.004 0.009 0.009 0.013 0.013 0.013 0.013\n",
      " 0.013 0.013 0.017 0.017 0.021 0.021 0.026 0.026 0.043 0.043 0.051 0.051\n",
      " 0.056 0.056 0.06  0.06  0.064 0.064 0.068 0.068 0.073 0.073 0.077 0.077\n",
      " 0.081 0.081 0.085 0.085 0.09  0.09  0.094 0.094 0.098 0.098 0.103 0.103\n",
      " 0.107 0.107 0.111 0.111 0.115 0.115 0.124 0.124 0.132 0.132 0.137 0.137\n",
      " 0.141 0.141 0.145 0.145 0.15  0.15  0.154 0.154 0.158 0.158 0.162 0.162\n",
      " 0.171 0.171 0.175 0.175 0.179 0.179 0.184 0.184 0.188 0.188 0.192 0.192\n",
      " 0.201 0.201 0.205 0.205 0.209 0.209 0.214 0.214 0.218 0.218 0.222 0.222\n",
      " 0.226 0.226 0.235 0.235 0.239 0.239 0.244 0.244 0.248 0.248 0.252 0.252\n",
      " 0.256 0.256 0.261 0.261 0.265 0.265 0.282 0.282 0.286 0.286 0.291 0.291\n",
      " 0.299 0.299 0.303 0.303 0.308 0.308 0.312 0.312 0.316 0.316 0.325 0.325\n",
      " 0.329 0.329 0.333 0.333 0.338 0.338 0.342 0.342 0.355 0.355 0.359 0.359\n",
      " 0.368 0.368 0.372 0.372 0.376 0.376 0.38  0.38  0.385 0.385 0.389 0.389\n",
      " 0.397 0.397 0.402 0.402 0.41  0.41  0.415 0.415 0.419 0.419 0.423 0.423\n",
      " 0.427 0.427 0.432 0.432 0.436 0.436 0.44  0.44  0.444 0.444 0.449 0.449\n",
      " 0.453 0.453 0.457 0.457 0.462 0.462 0.474 0.474 0.479 0.479 0.483 0.483\n",
      " 0.487 0.487 0.491 0.491 0.496 0.496 0.504 0.504 0.509 0.509 0.513 0.513\n",
      " 0.517 0.517 0.521 0.521 0.526 0.526 0.53  0.53  0.53  0.53  0.534 0.534\n",
      " 0.538 0.538 0.543 0.543 0.547 0.547 0.551 0.551 0.556 0.556 0.56  0.56\n",
      " 0.564 0.564 0.568 0.568 0.581 0.581 0.585 0.585 0.59  0.59  0.594 0.594\n",
      " 0.598 0.598 0.603 0.603 0.607 0.607 0.611 0.611 0.615 0.615 0.62  0.62\n",
      " 0.624 0.624 0.628 0.628 0.637 0.637 0.65  0.65  0.654 0.654 0.658 0.658\n",
      " 0.662 0.662 0.667 0.667 0.671 0.671 0.671 0.671 0.675 0.675 0.679 0.679\n",
      " 0.684 0.684 0.688 0.688 0.692 0.692 0.697 0.697 0.701 0.701 0.705 0.705\n",
      " 0.709 0.709 0.714 0.714 0.718 0.718 0.722 0.722 0.726 0.726 0.726 0.731\n",
      " 0.731 0.735 0.735 0.739 0.739 0.744 0.744 0.748 0.748 0.752 0.752 0.756\n",
      " 0.756 0.761 0.761 0.765 0.765 0.769 0.769 0.774 0.774 0.778 0.778 0.786\n",
      " 0.786 0.791 0.791 0.795 0.795 0.799 0.799 0.803 0.803 0.808 0.808 0.812\n",
      " 0.812 0.816 0.816 0.821 0.821 0.825 0.825 0.829 0.829 0.833 0.833 0.838\n",
      " 0.838 0.842 0.842 0.846 0.846 0.85  0.85  0.855 0.855 0.859 0.859 0.863\n",
      " 0.863 0.863 0.863 0.868 0.868 0.872 0.872 0.876 0.876 0.88  0.88  0.885\n",
      " 0.885 0.889 0.889 0.893 0.893 0.897 0.897 0.902 0.902 0.906 0.906 0.91\n",
      " 0.91  0.915 0.915 0.919 0.919 0.923 0.923 0.927 0.927 0.932 0.932 0.936\n",
      " 0.936 0.94  0.94  0.944 0.944 0.949 0.949 0.949 0.949 0.953 0.953 0.957\n",
      " 0.957 0.962 0.962 0.966 0.966 0.97  0.97  0.974 0.974 0.979 0.979 0.983\n",
      " 0.983 0.987 0.987 0.991 0.991 0.996 0.996 1.    1.    1.    1.    1.\n",
      " 1.    1.    1.   ]\n"
     ]
    }
   ],
   "source": [
    "from sklearn.metrics import roc_curve\n",
    "\n",
    "# 레이블 값이 1일때의 예측 확률\n",
    "pred_proba_class1 = gb_clf1.predict_proba(X_test)[:, 1]\n",
    "\n",
    "fprs, tprs, thresholds = roc_curve(y_test, pred_proba_class1)\n",
    "\n",
    "# thresholds[0]은 max(예측확률)+1로 임의 설정. 이를 제외하기 위해 np.arange는 1부터 시작\n",
    "thr_index = np.arange(1, thresholds.shape[0])\n",
    "\n",
    "print('샘플 추출을 위한 임곗값 배열의 index:', thr_index)\n",
    "print('샘플 index로 추출한 임곗값: ', np.round(thresholds[thr_index], 2))\n",
    "\n",
    "print('샘플 임곗값별 FPR: ', np.round(fprs[thr_index], 3))\n",
    "print('샘플 임곗값별 TPR: ', np.round(tprs[thr_index], 3))"
   ]
  },
  {
   "cell_type": "code",
   "execution_count": 71,
   "metadata": {},
   "outputs": [
    {
     "name": "stdout",
     "output_type": "stream",
     "text": [
      "AUC 값: 0.7541\n"
     ]
    }
   ],
   "source": [
    "from sklearn.metrics import roc_auc_score\n",
    "\n",
    "pred_proba = gb_clf1.predict_proba(X_test)[:, 1]\n",
    "roc_score = roc_auc_score(y_test, pred_proba)\n",
    "print('AUC 값: {0:.4f}'.format(roc_score))"
   ]
  },
  {
   "cell_type": "code",
   "execution_count": 72,
   "metadata": {},
   "outputs": [
    {
     "data": {
      "image/png": "[encoded data removed]",
      "text/plain": [
       "<Figure size 720x576 with 1 Axes>"
      ]
     },
     "metadata": {
      "needs_background": "light"
     },
     "output_type": "display_data"
    }
   ],
   "source": [
    "plt.figure(figsize=(10,8))\n",
    "\n",
    "plt.title(\"ROC 곡선\")\n",
    "plt.plot([0, 1], [0, 1], 'k--', label='Random')\n",
    "plt.plot(fprs, tprs, label=\"ROC\")\n",
    "plt.xlabel('FPR(1 - Sensitivity)')\n",
    "plt.ylabel('TPR( Recall )')\n",
    "plt.legend()\n",
    "plt.fill_between(fprs, tprs, color='y', alpha=0.3)\n",
    "plt.annotate('AUC : {0:.4f}'.format(roc_score), xy=(0.6, 0.2),ha='center', va='baseline', fontsize=15)\n",
    "plt.show()"
   ]
  },
  {
   "cell_type": "markdown",
   "metadata": {},
   "source": [
    "## LightGBM"
   ]
  },
  {
   "cell_type": "code",
   "execution_count": 73,
   "metadata": {},
   "outputs": [
    {
     "data": {
      "image/png": "[encoded data removed]",
      "text/plain": [
       "<Figure size 432x288 with 1 Axes>"
      ]
     },
     "metadata": {
      "needs_background": "light"
     },
     "output_type": "display_data"
    },
    {
     "name": "stdout",
     "output_type": "stream",
     "text": [
      "train_roc_auc score:  1.0\n",
      "test_roc_auc score:  0.6369807555374565 \n",
      "\n",
      "train_f1 score:  1.0\n",
      "test_f1 score:  0.1558063341827448 \n",
      "\n",
      "train_recall score:  1.0\n",
      "test_recall score:  0.9145299145299145 \n",
      "\n",
      "train_pre score:  1.0\n",
      "test_pre score:  0.08515718265021886 \n",
      "\n",
      "train acc score:  1.0\n",
      "test acc score:  0.39340831807481036 \n",
      "\n",
      "---0.8966035842895508 seconds ---\n"
     ]
    }
   ],
   "source": [
    "import lightgbm\n",
    "from lightgbm import LGBMClassifier\n",
    "import os\n",
    "import time\n",
    "import warnings\n",
    "warnings.filterwarnings('ignore')\n",
    "\n",
    "start_time=time.time()\n",
    "\n",
    "lgbm_clf = LGBMClassifier(random_state=0)\n",
    "\n",
    "trained_model = lgbm_clf.fit(X_train_under,y_train_under)\n",
    "        # eval_set=[(X_test, y_test)],\n",
    "        # early_stopping_rounds=25, \n",
    "        # verbose = 5, \n",
    "        # eval_metric = 'auc'\n",
    "\n",
    "train_pred = trained_model.predict(X_train_under)\n",
    "train_prob = trained_model.predict_proba(X_train_under)[:, 1]\n",
    "\n",
    "test_pred = trained_model.predict(X_test)\n",
    "test_prob = trained_model.predict_proba(X_test)[:, 1]\n",
    "\n",
    "plot_roc_curve(y_train_under, y_test, train_pred, test_pred, train_prob, test_prob)\n",
    "# confusion_matrix(y_test, test_pred)\n",
    "print(\"---%s seconds ---\" % (time.time() - start_time))"
   ]
  },
  {
   "cell_type": "markdown",
   "metadata": {},
   "source": [
    "## LightGBM GridSearch CV"
   ]
  },
  {
   "cell_type": "code",
   "execution_count": 74,
   "metadata": {},
   "outputs": [],
   "source": [
    "# LGBMTreeClassifier GridSearchCV\n",
    "from sklearn.model_selection import GridSearchCV\n",
    "\n",
    "parameters = {\n",
    "        'learning_rate':[0.05, 0.1],\\\n",
    "        'num_iterations':[500, 1000],\\\n",
    "        'max_depth' : [5, 8, 10]\\\n",
    "        }\n",
    "\n",
    "def best_lgbmparam(clf, param, scoring_name, cv_num):\n",
    "        start_time = time.time()\n",
    "        b_params= []        \n",
    "        grid_cv = GridSearchCV(clf, param_grid=param, scoring=scoring_name, cv=cv_num,)\n",
    "        grid_cv.fit(X_train_under, y_train_under)\n",
    "        \n",
    "        b_params.append(grid_cv.best_params_)\n",
    "        \n",
    "        print('GridSearchCV 최적 하이퍼 파라미터 :', grid_cv.best_params_)\n",
    "        print('\\nGridSearchCV 최고 정확도 :{0:.4f}'.format(grid_cv.best_score_))\n",
    "        best_est = grid_cv.best_estimator_\n",
    "        \n",
    "        # GridSearchCV의 최적 하이퍼 마라미터로 학습된 Estimator로 예측 및 평가 수행\n",
    "        predictions = best_est.predict(X_test)\n",
    "        accuracy = accuracy_score(y_test, predictions)\n",
    "        print('테스트 세트에서의 DecisionTreeClassifier 정확도 : {0:.4f}'.format(accuracy))\n",
    "        print('LGBMClassifier GridSearchCV 수행 시간: {0:.1f} 초'.format(time.time()-start_time))\n",
    "        \n",
    "        return b_params"
   ]
  },
  {
   "cell_type": "code",
   "execution_count": 75,
   "metadata": {},
   "outputs": [
    {
     "name": "stdout",
     "output_type": "stream",
     "text": [
      "GridSearchCV 최적 하이퍼 파라미터 : {'learning_rate': 0.05, 'max_depth': 8, 'num_iterations': 1000}\n",
      "\n",
      "GridSearchCV 최고 정확도 :0.8977\n",
      "테스트 세트에서의 DecisionTreeClassifier 정확도 : 0.4109\n",
      "GBClassifier GridSearchCV 수행 시간: 90.6 초\n"
     ]
    },
    {
     "data": {
      "text/plain": [
       "{'learning_rate': 0.05, 'max_depth': 8, 'num_iterations': 1000}"
      ]
     },
     "execution_count": 75,
     "metadata": {},
     "output_type": "execute_result"
    }
   ],
   "source": [
    "b_params = best_lgbmparam(lgbm_clf, parameters, 'accuracy', 5)\n",
    "b_params[-1]"
   ]
  },
  {
   "cell_type": "code",
   "execution_count": 76,
   "metadata": {},
   "outputs": [],
   "source": [
    "# 최적 하이퍼 파라미터 저장\n",
    "\n",
    "learning_rate = 0\n",
    "num_iterations = 0\n",
    "max_depth = 0\n",
    "\n",
    "for key, value in b_params[-1].items():\n",
    "    if key == 'learning_rate':\n",
    "        learning_rate = value\n",
    "    if key == 'num_iterations':\n",
    "        num_iterations = value\n",
    "    else:\n",
    "        max_depth = value"
   ]
  },
  {
   "cell_type": "code",
   "execution_count": 78,
   "metadata": {},
   "outputs": [
    {
     "name": "stdout",
     "output_type": "stream",
     "text": [
      "예측 정확도: 0.9372\n"
     ]
    }
   ],
   "source": [
    "# 최적 하이퍼 파라미터 적용\n",
    "lgbm_clf1 = LGBMClassifier(learning_rate=learning_rate, max_depth=max_depth, num_iterations=num_iterations)\n",
    "lgbm_clf1.fit(X_train, y_train)\n",
    "lgbm_clf1_pred = lgbm_clf1.predict(X_test)\n",
    "print('예측 정확도: {0:.4f}'.format(accuracy_score(y_test, lgbm_clf1_pred)))"
   ]
  },
  {
   "cell_type": "code",
   "execution_count": 79,
   "metadata": {},
   "outputs": [],
   "source": [
    "# 오차행렬, 정확도, 정밀도, 재현율, F1스코어 함수에 ROC_AUC 추가\n",
    "def get_clf_eval(y_test, pred=None, pred_proba=None):\n",
    "    confusion = confusion_matrix(y_test, pred)\n",
    "    accuracy = accuracy_score(y_test, pred)\n",
    "    precision = precision_score(y_test, pred)\n",
    "    recall = recall_score(y_test, pred)\n",
    "    f1 = f1_score(y_test, pred)\n",
    "    roc_auc = roc_auc_score(y_test, pred_proba) \n",
    "    print('오차행렬')\n",
    "    print(confusion)\n",
    "    print('정확도: {0:.4f}, 정밀도: {1:.4f}, 재현율: {2:.4f}, F1:{3:.4f}, AUC:{4:.4f}'.format(accuracy, precision, recall, f1, roc_auc))"
   ]
  },
  {
   "cell_type": "code",
   "execution_count": 80,
   "metadata": {},
   "outputs": [],
   "source": [
    "# 임곗값별 수치 함수 재설정\n",
    "def get_eval_by_threshold(y_test, pred_proba_c1, thresholds):\n",
    "    for custom_threshold in thresholds:\n",
    "        binarizer = Binarizer(threshold=custom_threshold).fit(pred_proba_c1)\n",
    "        custom_predict = binarizer.transform(pred_proba_c1)\n",
    "        print('임곗값:', custom_threshold)\n",
    "        get_clf_eval(y_test, custom_predict, dt_clf1.predict_proba(X_test)[:, 1])"
   ]
  },
  {
   "cell_type": "code",
   "execution_count": 85,
   "metadata": {},
   "outputs": [
    {
     "name": "stdout",
     "output_type": "stream",
     "text": [
      "임곗값: 0.01\n",
      "오차행렬\n",
      "[[3224  365]\n",
      " [  68  166]]\n",
      "정확도: 0.8867, 정밀도: 0.3126, 재현율: 0.7094, F1:0.4340, AUC:0.7336\n",
      "임곗값: 0.05\n",
      "오차행렬\n",
      "[[3384  205]\n",
      " [ 112  122]]\n",
      "정확도: 0.9171, 정밀도: 0.3731, 재현율: 0.5214, F1:0.4349, AUC:0.7336\n",
      "임곗값: 0.1\n",
      "오차행렬\n",
      "[[3442  147]\n",
      " [ 140   94]]\n",
      "정확도: 0.9249, 정밀도: 0.3900, 재현율: 0.4017, F1:0.3958, AUC:0.7336\n",
      "임곗값: 0.2\n",
      "오차행렬\n",
      "[[3492   97]\n",
      " [ 163   71]]\n",
      "정확도: 0.9320, 정밀도: 0.4226, 재현율: 0.3034, F1:0.3532, AUC:0.7336\n"
     ]
    }
   ],
   "source": [
    "from sklearn.preprocessing import Binarizer\n",
    "\n",
    "thresholds = [0.01, 0.05, 0.1, 0.2]\n",
    "pred_proba = lgbm_clf1.predict_proba(X_test)\n",
    "\n",
    "get_eval_by_threshold(y_test, pred_proba[:, 1].reshape(-1, 1), thresholds)"
   ]
  },
  {
   "cell_type": "code",
   "execution_count": 84,
   "metadata": {},
   "outputs": [
    {
     "data": {
      "image/png": "[encoded data removed]",
      "text/plain": [
       "<Figure size 1008x576 with 1 Axes>"
      ]
     },
     "metadata": {
      "needs_background": "light"
     },
     "output_type": "display_data"
    }
   ],
   "source": [
    "from sklearn.metrics import precision_recall_curve\n",
    "import numpy as np\n",
    "\n",
    "plt.rcParams[\"font.family\"] = \"Malgun Gothic\"\n",
    "plt.rcParams['axes.unicode_minus'] = False\n",
    "\n",
    "def precision_recall_curve_plot(y_test, pred_proba_c1):\n",
    "    precisions, recalls, thresholds = precision_recall_curve(y_test, pred_proba_c1)\n",
    "    \n",
    "    # X축을 threshold값으로, Y축은 정밀도, 재현율 값으로 각각 plot 수행. 정밀도는 점선으로 표시\n",
    "    plt.figure(figsize=(14, 8))\n",
    "    # 임곗값 수치    \n",
    "    threshold_boundary = thresholds.shape[0]\n",
    "    # 정밀도는 점선으로\n",
    "    plt.plot(thresholds, precisions[0:threshold_boundary], linestyle='--', label='precision')\n",
    "    # 재현율은 선으로\n",
    "    plt.plot(thresholds, recalls[0:threshold_boundary], label='recall')\n",
    "    \n",
    "    start, end = plt.xlim()\n",
    "    # x축을 0.1씩 증가, 소수점 둘째자리까지 표시\n",
    "    plt.xticks(np.round(np.arange(start, end, 0.1), 2))\n",
    "    \n",
    "    plt.title(\"정밀도와 재현율 곡선\")\n",
    "    plt.xlabel('Threshold value')\n",
    "    plt.ylabel('Precision and Recall value')\n",
    "    plt.legend()\n",
    "    plt.grid()\n",
    "    plt.show()\n",
    "    \n",
    "precision_recall_curve_plot(y_test, lgbm_clf1.predict_proba(X_test)[:, 1])\n",
    "\n",
    "# 임계값이 낮을수록 재현율은 높고, 정밀도는 낮다.\n",
    "# 임계값이 클수록 재현율은 낮고, 정밀도는 높다."
   ]
  },
  {
   "cell_type": "markdown",
   "metadata": {},
   "source": [
    "## ROC_AUC"
   ]
  },
  {
   "cell_type": "code",
   "execution_count": 86,
   "metadata": {},
   "outputs": [
    {
     "name": "stdout",
     "output_type": "stream",
     "text": [
      "샘플 추출을 위한 임곗값 배열의 index: [  1   2   3   4   5   6   7   8   9  10  11  12  13  14  15  16  17  18\n",
      "  19  20  21  22  23  24  25  26  27  28  29  30  31  32  33  34  35  36\n",
      "  37  38  39  40  41  42  43  44  45  46  47  48  49  50  51  52  53  54\n",
      "  55  56  57  58  59  60  61  62  63  64  65  66  67  68  69  70  71  72\n",
      "  73  74  75  76  77  78  79  80  81  82  83  84  85  86  87  88  89  90\n",
      "  91  92  93  94  95  96  97  98  99 100 101 102 103 104 105 106 107 108\n",
      " 109 110 111 112 113 114 115 116 117 118 119 120 121 122 123 124 125 126\n",
      " 127 128 129 130 131 132 133 134 135 136 137 138 139 140 141 142 143 144\n",
      " 145 146 147 148 149 150 151 152 153 154 155 156 157 158 159 160 161 162\n",
      " 163 164 165 166 167 168 169 170 171 172 173 174 175 176 177 178 179 180\n",
      " 181 182 183 184 185 186 187 188 189 190 191 192 193 194 195 196 197 198\n",
      " 199 200 201 202 203 204 205 206 207 208 209 210 211 212 213 214 215 216\n",
      " 217 218 219 220 221 222 223 224 225 226 227 228 229 230 231 232 233 234\n",
      " 235 236 237 238 239 240 241 242 243 244 245 246 247 248 249 250 251 252\n",
      " 253 254 255 256 257 258 259 260 261 262 263 264 265 266 267 268 269 270\n",
      " 271 272 273 274 275 276 277 278 279 280 281 282 283 284 285 286 287 288\n",
      " 289 290 291 292 293 294 295 296 297 298 299 300 301 302 303 304 305 306\n",
      " 307 308 309 310 311 312 313 314 315 316 317 318 319 320 321 322 323 324\n",
      " 325 326 327 328 329 330 331 332 333 334 335 336 337 338 339]\n",
      "샘플 index로 추출한 임곗값:  [1.   1.   0.99 0.98 0.97 0.97 0.97 0.95 0.95 0.93 0.92 0.91 0.88 0.87\n",
      " 0.84 0.83 0.82 0.82 0.81 0.8  0.8  0.78 0.75 0.71 0.68 0.68 0.63 0.62\n",
      " 0.59 0.58 0.58 0.57 0.56 0.56 0.55 0.55 0.54 0.53 0.53 0.53 0.51 0.5\n",
      " 0.49 0.49 0.46 0.46 0.45 0.44 0.43 0.41 0.41 0.41 0.41 0.41 0.38 0.37\n",
      " 0.37 0.37 0.36 0.34 0.33 0.32 0.3  0.3  0.28 0.26 0.26 0.26 0.25 0.25\n",
      " 0.25 0.24 0.23 0.23 0.22 0.21 0.21 0.2  0.18 0.18 0.18 0.18 0.17 0.17\n",
      " 0.15 0.15 0.14 0.14 0.13 0.13 0.12 0.12 0.12 0.12 0.11 0.11 0.11 0.11\n",
      " 0.11 0.11 0.1  0.1  0.1  0.1  0.09 0.09 0.09 0.09 0.09 0.09 0.09 0.09\n",
      " 0.09 0.09 0.08 0.08 0.08 0.08 0.07 0.07 0.07 0.07 0.07 0.07 0.06 0.06\n",
      " 0.06 0.06 0.06 0.06 0.06 0.06 0.06 0.06 0.06 0.06 0.06 0.06 0.05 0.05\n",
      " 0.05 0.05 0.05 0.04 0.04 0.04 0.04 0.04 0.04 0.04 0.04 0.04 0.04 0.04\n",
      " 0.04 0.04 0.03 0.03 0.03 0.03 0.03 0.03 0.03 0.03 0.03 0.03 0.03 0.03\n",
      " 0.02 0.02 0.02 0.02 0.02 0.02 0.02 0.02 0.02 0.02 0.02 0.02 0.02 0.02\n",
      " 0.02 0.02 0.02 0.02 0.02 0.02 0.02 0.02 0.02 0.02 0.01 0.01 0.01 0.01\n",
      " 0.01 0.01 0.01 0.01 0.01 0.01 0.01 0.01 0.01 0.01 0.01 0.01 0.01 0.01\n",
      " 0.01 0.01 0.01 0.01 0.01 0.01 0.01 0.01 0.01 0.01 0.01 0.01 0.01 0.01\n",
      " 0.01 0.01 0.01 0.01 0.01 0.01 0.01 0.01 0.01 0.01 0.01 0.01 0.01 0.01\n",
      " 0.01 0.01 0.01 0.01 0.01 0.01 0.01 0.01 0.   0.   0.   0.   0.   0.\n",
      " 0.   0.   0.   0.   0.   0.   0.   0.   0.   0.   0.   0.   0.   0.\n",
      " 0.   0.   0.   0.   0.   0.   0.   0.   0.   0.   0.   0.   0.   0.\n",
      " 0.   0.   0.   0.   0.   0.   0.   0.   0.   0.   0.   0.   0.   0.\n",
      " 0.   0.   0.   0.   0.   0.   0.   0.   0.   0.   0.   0.   0.   0.\n",
      " 0.   0.   0.   0.   0.   0.   0.   0.   0.   0.   0.   0.   0.   0.\n",
      " 0.   0.   0.   0.   0.   0.   0.   0.   0.   0.   0.   0.   0.   0.\n",
      " 0.   0.   0.  ]\n",
      "샘플 임곗값별 FPR:  [0.    0.    0.001 0.001 0.001 0.001 0.002 0.002 0.003 0.003 0.003 0.003\n",
      " 0.003 0.003 0.004 0.004 0.004 0.004 0.004 0.004 0.005 0.005 0.005 0.005\n",
      " 0.006 0.006 0.007 0.007 0.009 0.009 0.009 0.009 0.01  0.01  0.011 0.011\n",
      " 0.011 0.011 0.011 0.011 0.012 0.012 0.013 0.013 0.014 0.014 0.014 0.014\n",
      " 0.015 0.015 0.015 0.015 0.016 0.016 0.017 0.017 0.017 0.017 0.018 0.018\n",
      " 0.018 0.018 0.021 0.021 0.022 0.022 0.023 0.023 0.023 0.023 0.023 0.023\n",
      " 0.025 0.025 0.026 0.026 0.027 0.027 0.028 0.028 0.029 0.029 0.031 0.031\n",
      " 0.034 0.034 0.035 0.035 0.037 0.037 0.038 0.038 0.038 0.038 0.039 0.039\n",
      " 0.04  0.04  0.041 0.041 0.041 0.041 0.042 0.042 0.042 0.042 0.043 0.043\n",
      " 0.043 0.043 0.044 0.044 0.044 0.044 0.045 0.045 0.045 0.045 0.049 0.049\n",
      " 0.05  0.05  0.05  0.05  0.053 0.053 0.054 0.054 0.054 0.054 0.055 0.055\n",
      " 0.055 0.055 0.055 0.055 0.056 0.056 0.057 0.057 0.057 0.057 0.059 0.059\n",
      " 0.06  0.06  0.06  0.06  0.061 0.061 0.062 0.062 0.062 0.062 0.063 0.063\n",
      " 0.067 0.067 0.068 0.068 0.069 0.069 0.069 0.069 0.07  0.07  0.075 0.075\n",
      " 0.077 0.077 0.078 0.078 0.079 0.079 0.079 0.079 0.081 0.081 0.082 0.082\n",
      " 0.083 0.083 0.084 0.084 0.085 0.085 0.089 0.089 0.091 0.091 0.091 0.091\n",
      " 0.092 0.092 0.093 0.093 0.095 0.095 0.095 0.095 0.096 0.096 0.098 0.098\n",
      " 0.098 0.098 0.1   0.1   0.101 0.101 0.105 0.105 0.107 0.107 0.107 0.107\n",
      " 0.11  0.11  0.111 0.111 0.111 0.111 0.112 0.112 0.113 0.113 0.114 0.114\n",
      " 0.115 0.115 0.116 0.116 0.118 0.118 0.118 0.118 0.119 0.119 0.119 0.119\n",
      " 0.123 0.123 0.124 0.124 0.125 0.125 0.126 0.126 0.128 0.128 0.131 0.131\n",
      " 0.132 0.132 0.135 0.135 0.135 0.135 0.14  0.14  0.142 0.142 0.145 0.145\n",
      " 0.15  0.15  0.157 0.157 0.166 0.166 0.167 0.167 0.167 0.167 0.169 0.169\n",
      " 0.174 0.174 0.177 0.177 0.182 0.182 0.184 0.184 0.199 0.199 0.199 0.199\n",
      " 0.202 0.202 0.202 0.202 0.203 0.203 0.213 0.213 0.227 0.227 0.229 0.229\n",
      " 0.236 0.236 0.236 0.236 0.244 0.244 0.25  0.25  0.255 0.255 0.257 0.257\n",
      " 0.262 0.262 0.272 0.272 0.274 0.274 0.283 0.283 0.293 0.293 0.32  0.32\n",
      " 0.341 0.341 0.366 0.366 0.379 0.379 0.461 0.461 0.578 0.578 0.596 0.596\n",
      " 0.82  0.82  1.   ]\n",
      "샘플 임곗값별 TPR:  [0.    0.004 0.004 0.017 0.017 0.021 0.021 0.026 0.026 0.034 0.034 0.043\n",
      " 0.043 0.047 0.047 0.06  0.06  0.068 0.068 0.073 0.073 0.081 0.081 0.111\n",
      " 0.111 0.115 0.115 0.12  0.12  0.128 0.128 0.132 0.132 0.137 0.137 0.141\n",
      " 0.141 0.15  0.15  0.154 0.154 0.162 0.162 0.171 0.171 0.179 0.179 0.184\n",
      " 0.184 0.192 0.192 0.197 0.197 0.201 0.201 0.205 0.205 0.209 0.209 0.235\n",
      " 0.235 0.248 0.248 0.252 0.252 0.274 0.274 0.282 0.282 0.291 0.291 0.295\n",
      " 0.295 0.299 0.299 0.303 0.303 0.312 0.312 0.316 0.316 0.333 0.333 0.338\n",
      " 0.338 0.342 0.342 0.35  0.35  0.359 0.359 0.363 0.363 0.372 0.372 0.38\n",
      " 0.38  0.389 0.389 0.393 0.393 0.402 0.402 0.406 0.406 0.41  0.41  0.415\n",
      " 0.415 0.419 0.419 0.432 0.432 0.436 0.436 0.44  0.44  0.444 0.444 0.449\n",
      " 0.449 0.453 0.453 0.462 0.462 0.474 0.474 0.483 0.483 0.487 0.487 0.491\n",
      " 0.491 0.496 0.496 0.5   0.5   0.504 0.504 0.509 0.509 0.521 0.521 0.538\n",
      " 0.538 0.543 0.543 0.547 0.547 0.551 0.551 0.556 0.556 0.56  0.56  0.564\n",
      " 0.564 0.568 0.568 0.573 0.573 0.577 0.577 0.581 0.581 0.585 0.585 0.59\n",
      " 0.59  0.594 0.594 0.598 0.598 0.603 0.603 0.607 0.607 0.615 0.615 0.62\n",
      " 0.62  0.628 0.628 0.632 0.632 0.637 0.637 0.641 0.641 0.645 0.645 0.65\n",
      " 0.65  0.662 0.662 0.667 0.667 0.679 0.679 0.688 0.688 0.692 0.692 0.697\n",
      " 0.697 0.701 0.701 0.705 0.705 0.709 0.709 0.714 0.714 0.718 0.718 0.722\n",
      " 0.722 0.726 0.726 0.731 0.731 0.735 0.735 0.739 0.739 0.744 0.744 0.748\n",
      " 0.748 0.752 0.752 0.756 0.756 0.761 0.761 0.765 0.765 0.769 0.769 0.774\n",
      " 0.774 0.778 0.778 0.782 0.782 0.786 0.786 0.791 0.791 0.795 0.795 0.803\n",
      " 0.803 0.816 0.816 0.821 0.821 0.825 0.825 0.829 0.829 0.833 0.833 0.838\n",
      " 0.838 0.842 0.842 0.846 0.846 0.85  0.85  0.855 0.855 0.859 0.859 0.863\n",
      " 0.863 0.868 0.868 0.872 0.872 0.876 0.876 0.88  0.88  0.885 0.885 0.893\n",
      " 0.893 0.897 0.897 0.902 0.902 0.906 0.906 0.91  0.91  0.915 0.915 0.919\n",
      " 0.919 0.923 0.923 0.927 0.927 0.932 0.932 0.936 0.936 0.94  0.94  0.944\n",
      " 0.944 0.949 0.949 0.953 0.953 0.957 0.957 0.962 0.962 0.966 0.966 0.97\n",
      " 0.97  0.974 0.974 0.979 0.979 0.983 0.983 0.987 0.987 0.991 0.991 0.996\n",
      " 0.996 1.    1.   ]\n"
     ]
    }
   ],
   "source": [
    "from sklearn.metrics import roc_curve\n",
    "\n",
    "# 레이블 값이 1일때의 예측 확률\n",
    "pred_proba_class1 = lgbm_clf1.predict_proba(X_test)[:, 1]\n",
    "\n",
    "fprs, tprs, thresholds = roc_curve(y_test, pred_proba_class1)\n",
    "\n",
    "# thresholds[0]은 max(예측확률)+1로 임의 설정. 이를 제외하기 위해 np.arange는 1부터 시작\n",
    "thr_index = np.arange(1, thresholds.shape[0])\n",
    "\n",
    "print('샘플 추출을 위한 임곗값 배열의 index:', thr_index)\n",
    "print('샘플 index로 추출한 임곗값: ', np.round(thresholds[thr_index], 2))\n",
    "\n",
    "print('샘플 임곗값별 FPR: ', np.round(fprs[thr_index], 3))\n",
    "print('샘플 임곗값별 TPR: ', np.round(tprs[thr_index], 3))"
   ]
  },
  {
   "cell_type": "code",
   "execution_count": 87,
   "metadata": {},
   "outputs": [
    {
     "name": "stdout",
     "output_type": "stream",
     "text": [
      "AUC 값: 0.9123\n"
     ]
    }
   ],
   "source": [
    "from sklearn.metrics import roc_auc_score\n",
    "\n",
    "pred_proba = lgbm_clf1.predict_proba(X_test)[:, 1]\n",
    "roc_score = roc_auc_score(y_test, pred_proba)\n",
    "print('AUC 값: {0:.4f}'.format(roc_score))"
   ]
  },
  {
   "cell_type": "code",
   "execution_count": 88,
   "metadata": {},
   "outputs": [
    {
     "data": {
      "image/png": "[encoded data removed]",
      "text/plain": [
       "<Figure size 720x576 with 1 Axes>"
      ]
     },
     "metadata": {
      "needs_background": "light"
     },
     "output_type": "display_data"
    }
   ],
   "source": [
    "plt.figure(figsize=(10,8))\n",
    "\n",
    "plt.title(\"ROC 곡선\")\n",
    "plt.plot([0, 1], [0, 1], 'k--', label='Random')\n",
    "plt.plot(fprs, tprs, label=\"ROC\")\n",
    "plt.xlabel('FPR(1 - Sensitivity)')\n",
    "plt.ylabel('TPR( Recall )')\n",
    "plt.legend()\n",
    "plt.fill_between(fprs, tprs, color='y', alpha=0.3)\n",
    "plt.annotate('AUC : {0:.4f}'.format(roc_score), xy=(0.6, 0.2),ha='center', va='baseline', fontsize=15)\n",
    "plt.show()"
   ]
  },
  {
   "cell_type": "markdown",
   "metadata": {},
   "source": [
    "## XGB Classifier"
   ]
  },
  {
   "cell_type": "code",
   "execution_count": 11,
   "metadata": {},
   "outputs": [
    {
     "data": {
      "image/png": "[encoded data removed]",
      "text/plain": [
       "<Figure size 432x288 with 1 Axes>"
      ]
     },
     "metadata": {
      "needs_background": "light"
     },
     "output_type": "display_data"
    },
    {
     "name": "stdout",
     "output_type": "stream",
     "text": [
      "train_roc_auc score:  1.0\n",
      "test_roc_auc score:  0.6553250316136914 \n",
      "\n",
      "train_f1 score:  1.0\n",
      "test_f1 score:  0.1631419939577039 \n",
      "\n",
      "train_recall score:  1.0\n",
      "test_recall score:  0.9230769230769231 \n",
      "\n",
      "train_pre score:  1.0\n",
      "test_pre score:  0.08947804473902236 \n",
      "\n",
      "train acc score:  1.0\n",
      "test acc score:  0.4203505100706252 \n",
      "\n"
     ]
    }
   ],
   "source": [
    "from xgboost import XGBClassifier\n",
    "import time\n",
    "import warnings\n",
    "warnings.filterwarnings('ignore')\n",
    "\n",
    "# DecisionTreeClassifier 학습/예측/평가\n",
    "xgb_clf_time = time.time()\n",
    "\n",
    "xgb_clf = XGBClassifier(random_state=0)\n",
    "\n",
    "trained_model = xgb_clf.fit(X_train_under, y_train_under,)\n",
    "\n",
    "train_pred = trained_model.predict(X_train_under)\n",
    "train_prob = trained_model.predict_proba(X_train_under)[:, 1]\n",
    "\n",
    "test_pred = trained_model.predict(X_test)\n",
    "test_prob = trained_model.predict_proba(X_test)[:, 1]\n",
    "\n",
    "plot_roc_curve(y_train_under, y_test, train_pred, test_pred, train_prob, test_prob)"
   ]
  },
  {
   "cell_type": "markdown",
   "metadata": {},
   "source": [
    "## XGB Classifier GridSearch CV"
   ]
  },
  {
   "cell_type": "code",
   "execution_count": 16,
   "metadata": {},
   "outputs": [],
   "source": [
    "# LGBMTreeClassifier GridSearchCV\n",
    "from sklearn.model_selection import GridSearchCV\n",
    "\n",
    "parameters = {\n",
    "        'learning_rate':[0.05, 0.1],\\\n",
    "        'n_estimators':[500, 1000],\\\n",
    "        'max_depth' : [5, 8, 10]\\\n",
    "        }\n",
    "\n",
    "def best_xgbparam(clf, param, scoring_name, cv_num):\n",
    "        start_time = time.time()\n",
    "        b_params= []        \n",
    "        grid_cv = GridSearchCV(clf, param_grid=param, scoring=scoring_name, cv=cv_num,)\n",
    "        grid_cv.fit(X_train_under, y_train_under)\n",
    "        \n",
    "        b_params.append(grid_cv.best_params_)\n",
    "        \n",
    "        print('GridSearchCV 최적 하이퍼 파라미터 :', grid_cv.best_params_)\n",
    "        print('\\nGridSearchCV 최고 정확도 :{0:.4f}'.format(grid_cv.best_score_))\n",
    "        best_est = grid_cv.best_estimator_\n",
    "        \n",
    "        # GridSearchCV의 최적 하이퍼 마라미터로 학습된 Estimator로 예측 및 평가 수행\n",
    "        predictions = best_est.predict(X_test)\n",
    "        accuracy = accuracy_score(y_test, predictions)\n",
    "        print('테스트 세트에서의 XGBClassifier 정확도 : {0:.4f}'.format(accuracy))\n",
    "        print('XGBClassifier GridSearchCV 수행 시간: {0:.1f} 초'.format(time.time()-start_time))\n",
    "        \n",
    "        return b_params"
   ]
  },
  {
   "cell_type": "code",
   "execution_count": 17,
   "metadata": {},
   "outputs": [
    {
     "name": "stdout",
     "output_type": "stream",
     "text": [
      "GridSearchCV 최적 하이퍼 파라미터 : {'learning_rate': 0.05, 'max_depth': 8, 'n_estimators': 1000}\n",
      "\n",
      "GridSearchCV 최고 정확도 :0.8948\n",
      "테스트 세트에서의 XGBClassifier 정확도 : 0.4224\n",
      "XGBClassifier GridSearchCV 수행 시간: 188.0 초\n"
     ]
    },
    {
     "data": {
      "text/plain": [
       "{'learning_rate': 0.05, 'max_depth': 8, 'n_estimators': 1000}"
      ]
     },
     "execution_count": 17,
     "metadata": {},
     "output_type": "execute_result"
    }
   ],
   "source": [
    "b_params = best_xgbparam(xgb_clf, parameters, 'accuracy', 5)\n",
    "b_params[-1]"
   ]
  },
  {
   "cell_type": "code",
   "execution_count": 18,
   "metadata": {},
   "outputs": [],
   "source": [
    "# 최적 하이퍼 파라미터 저장\n",
    "\n",
    "learning_rate = 0\n",
    "n_estimators = 0\n",
    "max_depth = 0\n",
    "\n",
    "for key, value in b_params[-1].items():\n",
    "    if key == 'learning_rate':\n",
    "        learning_rate = value\n",
    "    if key == 'num_iterations':\n",
    "        n_estimators = value\n",
    "    else:\n",
    "        max_depth = value"
   ]
  },
  {
   "cell_type": "code",
   "execution_count": 19,
   "metadata": {},
   "outputs": [
    {
     "name": "stdout",
     "output_type": "stream",
     "text": [
      "예측 정확도: 0.9388\n"
     ]
    }
   ],
   "source": [
    "# 최적 하이퍼 파라미터 적용\n",
    "xgb_clf1 = XGBClassifier(learning_rate=learning_rate, max_depth=max_depth, n_estimators=n_estimators)\n",
    "xgb_clf1.fit(X_train, y_train)\n",
    "xgb_clf1_pred = xgb_clf1.predict(X_test)\n",
    "print('예측 정확도: {0:.4f}'.format(accuracy_score(y_test, xgb_clf1_pred)))"
   ]
  },
  {
   "cell_type": "code",
   "execution_count": 28,
   "metadata": {},
   "outputs": [],
   "source": [
    "# 오차행렬, 정확도, 정밀도, 재현율, F1스코어 함수에 ROC_AUC 추가\n",
    "def get_clf_eval(y_test, pred=None, pred_proba=None):\n",
    "    confusion = confusion_matrix(y_test, pred)\n",
    "    accuracy = accuracy_score(y_test, pred)\n",
    "    precision = precision_score(y_test, pred)\n",
    "    recall = recall_score(y_test, pred)\n",
    "    f1 = f1_score(y_test, pred)\n",
    "    roc_auc = roc_auc_score(y_test, pred_proba) \n",
    "    print('오차행렬')\n",
    "    print(confusion)\n",
    "    print('정확도: {0:.4f}, 정밀도: {1:.4f}, 재현율: {2:.4f}, F1:{3:.4f}, AUC:{4:.4f}'.format(accuracy, precision, recall, f1, roc_auc))"
   ]
  },
  {
   "cell_type": "code",
   "execution_count": 29,
   "metadata": {},
   "outputs": [],
   "source": [
    "# 임곗값별 수치 함수 재설정\n",
    "def get_eval_by_threshold(y_test, pred_proba_c1, thresholds):\n",
    "    for custom_threshold in thresholds:\n",
    "        binarizer = Binarizer(threshold=custom_threshold).fit(pred_proba_c1)\n",
    "        custom_predict = binarizer.transform(pred_proba_c1)\n",
    "        print('임곗값:', custom_threshold)\n",
    "        get_clf_eval(y_test, custom_predict, xgb_clf1.predict_proba(X_test)[:, 1])"
   ]
  },
  {
   "cell_type": "code",
   "execution_count": 30,
   "metadata": {},
   "outputs": [
    {
     "name": "stdout",
     "output_type": "stream",
     "text": [
      "임곗값: 0.01\n",
      "오차행렬\n",
      "[[   0 3589]\n",
      " [   0  234]]\n",
      "정확도: 0.0612, 정밀도: 0.0612, 재현율: 1.0000, F1:0.1154, AUC:0.5000\n",
      "임곗값: 0.05\n",
      "오차행렬\n",
      "[[   0 3589]\n",
      " [   0  234]]\n",
      "정확도: 0.0612, 정밀도: 0.0612, 재현율: 1.0000, F1:0.1154, AUC:0.5000\n",
      "임곗값: 0.1\n",
      "오차행렬\n",
      "[[   0 3589]\n",
      " [   0  234]]\n",
      "정확도: 0.0612, 정밀도: 0.0612, 재현율: 1.0000, F1:0.1154, AUC:0.5000\n",
      "임곗값: 0.2\n",
      "오차행렬\n",
      "[[   0 3589]\n",
      " [   0  234]]\n",
      "정확도: 0.0612, 정밀도: 0.0612, 재현율: 1.0000, F1:0.1154, AUC:0.5000\n"
     ]
    }
   ],
   "source": [
    "from sklearn.preprocessing import Binarizer\n",
    "\n",
    "thresholds = [0.01, 0.05, 0.1, 0.2]\n",
    "pred_proba = xgb_clf1.predict_proba(X_test)\n",
    "\n",
    "get_eval_by_threshold(y_test, pred_proba[:, 1].reshape(-1, 1), thresholds)"
   ]
  },
  {
   "cell_type": "code",
   "execution_count": 31,
   "metadata": {},
   "outputs": [
    {
     "data": {
      "image/png": "[encoded data removed]",
      "text/plain": [
       "<Figure size 1008x576 with 1 Axes>"
      ]
     },
     "metadata": {
      "needs_background": "light"
     },
     "output_type": "display_data"
    }
   ],
   "source": [
    "from sklearn.metrics import precision_recall_curve\n",
    "import numpy as np\n",
    "\n",
    "plt.rcParams[\"font.family\"] = \"Malgun Gothic\"\n",
    "plt.rcParams['axes.unicode_minus'] = False\n",
    "\n",
    "def precision_recall_curve_plot(y_test, pred_proba_c1):\n",
    "    precisions, recalls, thresholds = precision_recall_curve(y_test, pred_proba_c1)\n",
    "    \n",
    "    # X축을 threshold값으로, Y축은 정밀도, 재현율 값으로 각각 plot 수행. 정밀도는 점선으로 표시\n",
    "    plt.figure(figsize=(14, 8))\n",
    "    # 임곗값 수치    \n",
    "    threshold_boundary = thresholds.shape[0]\n",
    "    # 정밀도는 점선으로\n",
    "    plt.plot(thresholds, precisions[0:threshold_boundary], linestyle='--', label='precision')\n",
    "    # 재현율은 선으로\n",
    "    plt.plot(thresholds, recalls[0:threshold_boundary], label='recall')\n",
    "    \n",
    "    start, end = plt.xlim()\n",
    "    # x축을 0.1씩 증가, 소수점 둘째자리까지 표시\n",
    "    plt.xticks(np.round(np.arange(start, end, 0.1), 2))\n",
    "    \n",
    "    plt.title(\"정밀도와 재현율 곡선\")\n",
    "    plt.xlabel('Threshold value')\n",
    "    plt.ylabel('Precision and Recall value')\n",
    "    plt.legend()\n",
    "    plt.grid()\n",
    "    plt.show()\n",
    "    \n",
    "precision_recall_curve_plot(y_test, xgb_clf1.predict_proba(X_test)[:, 1])\n",
    "\n",
    "# 임계값이 낮을수록 재현율은 높고, 정밀도는 낮다.\n",
    "# 임계값이 클수록 재현율은 낮고, 정밀도는 높다."
   ]
  },
  {
   "cell_type": "markdown",
   "metadata": {},
   "source": [
    "## ROC_AUC"
   ]
  },
  {
   "cell_type": "code",
   "execution_count": 32,
   "metadata": {},
   "outputs": [
    {
     "name": "stdout",
     "output_type": "stream",
     "text": [
      "샘플 추출을 위한 임곗값 배열의 index: [1]\n",
      "샘플 index로 추출한 임곗값:  [0.5]\n",
      "샘플 임곗값별 FPR:  [1.]\n",
      "샘플 임곗값별 TPR:  [1.]\n"
     ]
    }
   ],
   "source": [
    "from sklearn.metrics import roc_curve\n",
    "\n",
    "# 레이블 값이 1일때의 예측 확률\n",
    "pred_proba_class1 = xgb_clf1.predict_proba(X_test)[:, 1]\n",
    "\n",
    "fprs, tprs, thresholds = roc_curve(y_test, pred_proba_class1)\n",
    "\n",
    "# thresholds[0]은 max(예측확률)+1로 임의 설정. 이를 제외하기 위해 np.arange는 1부터 시작\n",
    "thr_index = np.arange(1, thresholds.shape[0])\n",
    "\n",
    "print('샘플 추출을 위한 임곗값 배열의 index:', thr_index)\n",
    "print('샘플 index로 추출한 임곗값: ', np.round(thresholds[thr_index], 2))\n",
    "\n",
    "print('샘플 임곗값별 FPR: ', np.round(fprs[thr_index], 3))\n",
    "print('샘플 임곗값별 TPR: ', np.round(tprs[thr_index], 3))"
   ]
  },
  {
   "cell_type": "code",
   "execution_count": 33,
   "metadata": {},
   "outputs": [
    {
     "name": "stdout",
     "output_type": "stream",
     "text": [
      "AUC 값: 0.5000\n"
     ]
    }
   ],
   "source": [
    "from sklearn.metrics import roc_auc_score\n",
    "\n",
    "pred_proba = xgb_clf1.predict_proba(X_test)[:, 1]\n",
    "roc_score = roc_auc_score(y_test, pred_proba)\n",
    "print('AUC 값: {0:.4f}'.format(roc_score))"
   ]
  },
  {
   "cell_type": "code",
   "execution_count": 34,
   "metadata": {},
   "outputs": [
    {
     "data": {
      "image/png": "[encoded data removed]",
      "text/plain": [
       "<Figure size 720x576 with 1 Axes>"
      ]
     },
     "metadata": {
      "needs_background": "light"
     },
     "output_type": "display_data"
    }
   ],
   "source": [
    "plt.figure(figsize=(10,8))\n",
    "\n",
    "plt.title(\"ROC 곡선\")\n",
    "plt.plot([0, 1], [0, 1], 'k--', label='Random')\n",
    "plt.plot(fprs, tprs, label=\"ROC\")\n",
    "plt.xlabel('FPR(1 - Sensitivity)')\n",
    "plt.ylabel('TPR( Recall )')\n",
    "plt.legend()\n",
    "plt.fill_between(fprs, tprs, color='y', alpha=0.3)\n",
    "plt.annotate('AUC : {0:.4f}'.format(roc_score), xy=(0.6, 0.2),ha='center', va='baseline', fontsize=15)\n",
    "plt.show()"
   ]
  },
  {
   "cell_type": "markdown",
   "metadata": {},
   "source": [
    "## KNN"
   ]
  },
  {
   "cell_type": "code",
   "execution_count": 35,
   "metadata": {},
   "outputs": [
    {
     "data": {
      "image/png": "[encoded data removed]",
      "text/plain": [
       "<Figure size 432x288 with 1 Axes>"
      ]
     },
     "metadata": {
      "needs_background": "light"
     },
     "output_type": "display_data"
    },
    {
     "name": "stdout",
     "output_type": "stream",
     "text": [
      "train_roc_auc score:  0.8795411089866156\n",
      "test_roc_auc score:  0.6725387163531493 \n",
      "\n",
      "train_f1 score:  0.8684759916492694\n",
      "test_f1 score:  0.18052930056710773 \n",
      "\n",
      "train_recall score:  0.7954110898661568\n",
      "test_recall score:  0.8162393162393162 \n",
      "\n",
      "train_pre score:  0.9563218390804598\n",
      "test_pre score:  0.10148777895855472 \n",
      "\n",
      "train acc score:  0.8795411089866156\n",
      "test acc score:  0.5464295056238556 \n",
      "\n"
     ]
    }
   ],
   "source": [
    "from sklearn.neighbors import KNeighborsClassifier\n",
    "import time\n",
    "import warnings\n",
    "warnings.filterwarnings('ignore')\n",
    "\n",
    "# DecisionTreeClassifier 학습/예측/평가\n",
    "knn_clf_time = time.time()\n",
    "\n",
    "knn_clf = KNeighborsClassifier()\n",
    "\n",
    "trained_model = knn_clf.fit(X_train_under, y_train_under)\n",
    "\n",
    "train_pred = trained_model.predict(X_train_under)\n",
    "train_prob = trained_model.predict_proba(X_train_under)[:, 1]\n",
    "\n",
    "test_pred = trained_model.predict(X_test)\n",
    "test_prob = trained_model.predict_proba(X_test)[:, 1]\n",
    "\n",
    "plot_roc_curve(y_train_under, y_test, train_pred, test_pred, train_prob, test_prob)"
   ]
  },
  {
   "cell_type": "markdown",
   "metadata": {},
   "source": [
    "## KNN Classifier GridSearch CV"
   ]
  },
  {
   "cell_type": "code",
   "execution_count": 37,
   "metadata": {},
   "outputs": [],
   "source": [
    "# LGBMTreeClassifier GridSearchCV\n",
    "from sklearn.model_selection import GridSearchCV\n",
    "\n",
    "parameters = {\n",
    "        'learning_rate':[0.05, 0.1],\\\n",
    "        'n_estimators':[500, 1000],\\\n",
    "        'max_depth' : [5, 8, 10]\\\n",
    "        }\n",
    "\n",
    "def best_knparam(clf, param, scoring_name, cv_num):\n",
    "        start_time = time.time()\n",
    "        b_params= []        \n",
    "        grid_cv = GridSearchCV(clf, param_grid=param, scoring=scoring_name, cv=cv_num,)\n",
    "        grid_cv.fit(X_train_under, y_train_under)\n",
    "        \n",
    "        b_params.append(grid_cv.best_params_)\n",
    "        \n",
    "        print('GridSearchCV 최적 하이퍼 파라미터 :', grid_cv.best_params_)\n",
    "        print('\\nGridSearchCV 최고 정확도 :{0:.4f}'.format(grid_cv.best_score_))\n",
    "        best_est = grid_cv.best_estimator_\n",
    "        \n",
    "        # GridSearchCV의 최적 하이퍼 마라미터로 학습된 Estimator로 예측 및 평가 수행\n",
    "        predictions = best_est.predict(X_test)\n",
    "        accuracy = accuracy_score(y_test, predictions)\n",
    "        print('테스트 세트에서의 KNClassifier 정확도 : {0:.4f}'.format(accuracy))\n",
    "        print('KNClassifier GridSearchCV 수행 시간: {0:.1f} 초'.format(time.time()-start_time))\n",
    "        \n",
    "        return b_params"
   ]
  },
  {
   "cell_type": "code",
   "execution_count": 38,
   "metadata": {},
   "outputs": [
    {
     "ename": "ValueError",
     "evalue": "Invalid parameter 'learning_rate' for estimator KNeighborsClassifier(). Valid parameters are: ['algorithm', 'leaf_size', 'metric', 'metric_params', 'n_jobs', 'n_neighbors', 'p', 'weights'].",
     "output_type": "error",
     "traceback": [
      "\u001b[1;31m---------------------------------------------------------------------------\u001b[0m",
      "\u001b[1;31mValueError\u001b[0m                                Traceback (most recent call last)",
      "\u001b[1;32mc:\\project2_quaero\\리샘플링\\dataset1_raw_nearmiss.ipynb 셀 87\u001b[0m in \u001b[0;36m<cell line: 1>\u001b[1;34m()\u001b[0m\n\u001b[1;32m----> <a href='vscode-notebook-cell:/c%3A/project2_quaero/%EB%A6%AC%EC%83%98%ED%94%8C%EB%A7%81/dataset1_raw_nearmiss.ipynb#Y152sZmlsZQ%3D%3D?line=0'>1</a>\u001b[0m b_params \u001b[39m=\u001b[39m best_knparam(knn_clf, parameters, \u001b[39m'\u001b[39;49m\u001b[39maccuracy\u001b[39;49m\u001b[39m'\u001b[39;49m, \u001b[39m5\u001b[39;49m)\n\u001b[0;32m      <a href='vscode-notebook-cell:/c%3A/project2_quaero/%EB%A6%AC%EC%83%98%ED%94%8C%EB%A7%81/dataset1_raw_nearmiss.ipynb#Y152sZmlsZQ%3D%3D?line=1'>2</a>\u001b[0m b_params[\u001b[39m-\u001b[39m\u001b[39m1\u001b[39m]\n",
      "\u001b[1;32mc:\\project2_quaero\\리샘플링\\dataset1_raw_nearmiss.ipynb 셀 87\u001b[0m in \u001b[0;36mbest_knparam\u001b[1;34m(clf, param, scoring_name, cv_num)\u001b[0m\n\u001b[0;32m     <a href='vscode-notebook-cell:/c%3A/project2_quaero/%EB%A6%AC%EC%83%98%ED%94%8C%EB%A7%81/dataset1_raw_nearmiss.ipynb#Y152sZmlsZQ%3D%3D?line=11'>12</a>\u001b[0m b_params\u001b[39m=\u001b[39m []        \n\u001b[0;32m     <a href='vscode-notebook-cell:/c%3A/project2_quaero/%EB%A6%AC%EC%83%98%ED%94%8C%EB%A7%81/dataset1_raw_nearmiss.ipynb#Y152sZmlsZQ%3D%3D?line=12'>13</a>\u001b[0m grid_cv \u001b[39m=\u001b[39m GridSearchCV(clf, param_grid\u001b[39m=\u001b[39mparam, scoring\u001b[39m=\u001b[39mscoring_name, cv\u001b[39m=\u001b[39mcv_num,)\n\u001b[1;32m---> <a href='vscode-notebook-cell:/c%3A/project2_quaero/%EB%A6%AC%EC%83%98%ED%94%8C%EB%A7%81/dataset1_raw_nearmiss.ipynb#Y152sZmlsZQ%3D%3D?line=13'>14</a>\u001b[0m grid_cv\u001b[39m.\u001b[39;49mfit(X_train_under, y_train_under)\n\u001b[0;32m     <a href='vscode-notebook-cell:/c%3A/project2_quaero/%EB%A6%AC%EC%83%98%ED%94%8C%EB%A7%81/dataset1_raw_nearmiss.ipynb#Y152sZmlsZQ%3D%3D?line=15'>16</a>\u001b[0m b_params\u001b[39m.\u001b[39mappend(grid_cv\u001b[39m.\u001b[39mbest_params_)\n\u001b[0;32m     <a href='vscode-notebook-cell:/c%3A/project2_quaero/%EB%A6%AC%EC%83%98%ED%94%8C%EB%A7%81/dataset1_raw_nearmiss.ipynb#Y152sZmlsZQ%3D%3D?line=17'>18</a>\u001b[0m \u001b[39mprint\u001b[39m(\u001b[39m'\u001b[39m\u001b[39mGridSearchCV 최적 하이퍼 파라미터 :\u001b[39m\u001b[39m'\u001b[39m, grid_cv\u001b[39m.\u001b[39mbest_params_)\n",
      "File \u001b[1;32mc:\\Users\\wndgj\\AppData\\Local\\Programs\\Python\\Python310\\lib\\site-packages\\sklearn\\model_selection\\_search.py:875\u001b[0m, in \u001b[0;36mBaseSearchCV.fit\u001b[1;34m(self, X, y, groups, **fit_params)\u001b[0m\n\u001b[0;32m    869\u001b[0m     results \u001b[39m=\u001b[39m \u001b[39mself\u001b[39m\u001b[39m.\u001b[39m_format_results(\n\u001b[0;32m    870\u001b[0m         all_candidate_params, n_splits, all_out, all_more_results\n\u001b[0;32m    871\u001b[0m     )\n\u001b[0;32m    873\u001b[0m     \u001b[39mreturn\u001b[39;00m results\n\u001b[1;32m--> 875\u001b[0m \u001b[39mself\u001b[39;49m\u001b[39m.\u001b[39;49m_run_search(evaluate_candidates)\n\u001b[0;32m    877\u001b[0m \u001b[39m# multimetric is determined here because in the case of a callable\u001b[39;00m\n\u001b[0;32m    878\u001b[0m \u001b[39m# self.scoring the return type is only known after calling\u001b[39;00m\n\u001b[0;32m    879\u001b[0m first_test_score \u001b[39m=\u001b[39m all_out[\u001b[39m0\u001b[39m][\u001b[39m\"\u001b[39m\u001b[39mtest_scores\u001b[39m\u001b[39m\"\u001b[39m]\n",
      "File \u001b[1;32mc:\\Users\\wndgj\\AppData\\Local\\Programs\\Python\\Python310\\lib\\site-packages\\sklearn\\model_selection\\_search.py:1375\u001b[0m, in \u001b[0;36mGridSearchCV._run_search\u001b[1;34m(self, evaluate_candidates)\u001b[0m\n\u001b[0;32m   1373\u001b[0m \u001b[39mdef\u001b[39;00m \u001b[39m_run_search\u001b[39m(\u001b[39mself\u001b[39m, evaluate_candidates):\n\u001b[0;32m   1374\u001b[0m     \u001b[39m\"\"\"Search all candidates in param_grid\"\"\"\u001b[39;00m\n\u001b[1;32m-> 1375\u001b[0m     evaluate_candidates(ParameterGrid(\u001b[39mself\u001b[39;49m\u001b[39m.\u001b[39;49mparam_grid))\n",
      "File \u001b[1;32mc:\\Users\\wndgj\\AppData\\Local\\Programs\\Python\\Python310\\lib\\site-packages\\sklearn\\model_selection\\_search.py:822\u001b[0m, in \u001b[0;36mBaseSearchCV.fit.<locals>.evaluate_candidates\u001b[1;34m(candidate_params, cv, more_results)\u001b[0m\n\u001b[0;32m    814\u001b[0m \u001b[39mif\u001b[39;00m \u001b[39mself\u001b[39m\u001b[39m.\u001b[39mverbose \u001b[39m>\u001b[39m \u001b[39m0\u001b[39m:\n\u001b[0;32m    815\u001b[0m     \u001b[39mprint\u001b[39m(\n\u001b[0;32m    816\u001b[0m         \u001b[39m\"\u001b[39m\u001b[39mFitting \u001b[39m\u001b[39m{0}\u001b[39;00m\u001b[39m folds for each of \u001b[39m\u001b[39m{1}\u001b[39;00m\u001b[39m candidates,\u001b[39m\u001b[39m\"\u001b[39m\n\u001b[0;32m    817\u001b[0m         \u001b[39m\"\u001b[39m\u001b[39m totalling \u001b[39m\u001b[39m{2}\u001b[39;00m\u001b[39m fits\u001b[39m\u001b[39m\"\u001b[39m\u001b[39m.\u001b[39mformat(\n\u001b[0;32m    818\u001b[0m             n_splits, n_candidates, n_candidates \u001b[39m*\u001b[39m n_splits\n\u001b[0;32m    819\u001b[0m         )\n\u001b[0;32m    820\u001b[0m     )\n\u001b[1;32m--> 822\u001b[0m out \u001b[39m=\u001b[39m parallel(\n\u001b[0;32m    823\u001b[0m     delayed(_fit_and_score)(\n\u001b[0;32m    824\u001b[0m         clone(base_estimator),\n\u001b[0;32m    825\u001b[0m         X,\n\u001b[0;32m    826\u001b[0m         y,\n\u001b[0;32m    827\u001b[0m         train\u001b[39m=\u001b[39;49mtrain,\n\u001b[0;32m    828\u001b[0m         test\u001b[39m=\u001b[39;49mtest,\n\u001b[0;32m    829\u001b[0m         parameters\u001b[39m=\u001b[39;49mparameters,\n\u001b[0;32m    830\u001b[0m         split_progress\u001b[39m=\u001b[39;49m(split_idx, n_splits),\n\u001b[0;32m    831\u001b[0m         candidate_progress\u001b[39m=\u001b[39;49m(cand_idx, n_candidates),\n\u001b[0;32m    832\u001b[0m         \u001b[39m*\u001b[39;49m\u001b[39m*\u001b[39;49mfit_and_score_kwargs,\n\u001b[0;32m    833\u001b[0m     )\n\u001b[0;32m    834\u001b[0m     \u001b[39mfor\u001b[39;49;00m (cand_idx, parameters), (split_idx, (train, test)) \u001b[39min\u001b[39;49;00m product(\n\u001b[0;32m    835\u001b[0m         \u001b[39menumerate\u001b[39;49m(candidate_params), \u001b[39menumerate\u001b[39;49m(cv\u001b[39m.\u001b[39;49msplit(X, y, groups))\n\u001b[0;32m    836\u001b[0m     )\n\u001b[0;32m    837\u001b[0m )\n\u001b[0;32m    839\u001b[0m \u001b[39mif\u001b[39;00m \u001b[39mlen\u001b[39m(out) \u001b[39m<\u001b[39m \u001b[39m1\u001b[39m:\n\u001b[0;32m    840\u001b[0m     \u001b[39mraise\u001b[39;00m \u001b[39mValueError\u001b[39;00m(\n\u001b[0;32m    841\u001b[0m         \u001b[39m\"\u001b[39m\u001b[39mNo fits were performed. \u001b[39m\u001b[39m\"\u001b[39m\n\u001b[0;32m    842\u001b[0m         \u001b[39m\"\u001b[39m\u001b[39mWas the CV iterator empty? \u001b[39m\u001b[39m\"\u001b[39m\n\u001b[0;32m    843\u001b[0m         \u001b[39m\"\u001b[39m\u001b[39mWere there no candidates?\u001b[39m\u001b[39m\"\u001b[39m\n\u001b[0;32m    844\u001b[0m     )\n",
      "File \u001b[1;32mc:\\Users\\wndgj\\AppData\\Local\\Programs\\Python\\Python310\\lib\\site-packages\\joblib\\parallel.py:1043\u001b[0m, in \u001b[0;36mParallel.__call__\u001b[1;34m(self, iterable)\u001b[0m\n\u001b[0;32m   1034\u001b[0m \u001b[39mtry\u001b[39;00m:\n\u001b[0;32m   1035\u001b[0m     \u001b[39m# Only set self._iterating to True if at least a batch\u001b[39;00m\n\u001b[0;32m   1036\u001b[0m     \u001b[39m# was dispatched. In particular this covers the edge\u001b[39;00m\n\u001b[1;32m   (...)\u001b[0m\n\u001b[0;32m   1040\u001b[0m     \u001b[39m# was very quick and its callback already dispatched all the\u001b[39;00m\n\u001b[0;32m   1041\u001b[0m     \u001b[39m# remaining jobs.\u001b[39;00m\n\u001b[0;32m   1042\u001b[0m     \u001b[39mself\u001b[39m\u001b[39m.\u001b[39m_iterating \u001b[39m=\u001b[39m \u001b[39mFalse\u001b[39;00m\n\u001b[1;32m-> 1043\u001b[0m     \u001b[39mif\u001b[39;00m \u001b[39mself\u001b[39;49m\u001b[39m.\u001b[39;49mdispatch_one_batch(iterator):\n\u001b[0;32m   1044\u001b[0m         \u001b[39mself\u001b[39m\u001b[39m.\u001b[39m_iterating \u001b[39m=\u001b[39m \u001b[39mself\u001b[39m\u001b[39m.\u001b[39m_original_iterator \u001b[39mis\u001b[39;00m \u001b[39mnot\u001b[39;00m \u001b[39mNone\u001b[39;00m\n\u001b[0;32m   1046\u001b[0m     \u001b[39mwhile\u001b[39;00m \u001b[39mself\u001b[39m\u001b[39m.\u001b[39mdispatch_one_batch(iterator):\n",
      "File \u001b[1;32mc:\\Users\\wndgj\\AppData\\Local\\Programs\\Python\\Python310\\lib\\site-packages\\joblib\\parallel.py:861\u001b[0m, in \u001b[0;36mParallel.dispatch_one_batch\u001b[1;34m(self, iterator)\u001b[0m\n\u001b[0;32m    859\u001b[0m     \u001b[39mreturn\u001b[39;00m \u001b[39mFalse\u001b[39;00m\n\u001b[0;32m    860\u001b[0m \u001b[39melse\u001b[39;00m:\n\u001b[1;32m--> 861\u001b[0m     \u001b[39mself\u001b[39;49m\u001b[39m.\u001b[39;49m_dispatch(tasks)\n\u001b[0;32m    862\u001b[0m     \u001b[39mreturn\u001b[39;00m \u001b[39mTrue\u001b[39;00m\n",
      "File \u001b[1;32mc:\\Users\\wndgj\\AppData\\Local\\Programs\\Python\\Python310\\lib\\site-packages\\joblib\\parallel.py:779\u001b[0m, in \u001b[0;36mParallel._dispatch\u001b[1;34m(self, batch)\u001b[0m\n\u001b[0;32m    777\u001b[0m \u001b[39mwith\u001b[39;00m \u001b[39mself\u001b[39m\u001b[39m.\u001b[39m_lock:\n\u001b[0;32m    778\u001b[0m     job_idx \u001b[39m=\u001b[39m \u001b[39mlen\u001b[39m(\u001b[39mself\u001b[39m\u001b[39m.\u001b[39m_jobs)\n\u001b[1;32m--> 779\u001b[0m     job \u001b[39m=\u001b[39m \u001b[39mself\u001b[39;49m\u001b[39m.\u001b[39;49m_backend\u001b[39m.\u001b[39;49mapply_async(batch, callback\u001b[39m=\u001b[39;49mcb)\n\u001b[0;32m    780\u001b[0m     \u001b[39m# A job can complete so quickly than its callback is\u001b[39;00m\n\u001b[0;32m    781\u001b[0m     \u001b[39m# called before we get here, causing self._jobs to\u001b[39;00m\n\u001b[0;32m    782\u001b[0m     \u001b[39m# grow. To ensure correct results ordering, .insert is\u001b[39;00m\n\u001b[0;32m    783\u001b[0m     \u001b[39m# used (rather than .append) in the following line\u001b[39;00m\n\u001b[0;32m    784\u001b[0m     \u001b[39mself\u001b[39m\u001b[39m.\u001b[39m_jobs\u001b[39m.\u001b[39minsert(job_idx, job)\n",
      "File \u001b[1;32mc:\\Users\\wndgj\\AppData\\Local\\Programs\\Python\\Python310\\lib\\site-packages\\joblib\\_parallel_backends.py:208\u001b[0m, in \u001b[0;36mSequentialBackend.apply_async\u001b[1;34m(self, func, callback)\u001b[0m\n\u001b[0;32m    206\u001b[0m \u001b[39mdef\u001b[39;00m \u001b[39mapply_async\u001b[39m(\u001b[39mself\u001b[39m, func, callback\u001b[39m=\u001b[39m\u001b[39mNone\u001b[39;00m):\n\u001b[0;32m    207\u001b[0m     \u001b[39m\"\"\"Schedule a func to be run\"\"\"\u001b[39;00m\n\u001b[1;32m--> 208\u001b[0m     result \u001b[39m=\u001b[39m ImmediateResult(func)\n\u001b[0;32m    209\u001b[0m     \u001b[39mif\u001b[39;00m callback:\n\u001b[0;32m    210\u001b[0m         callback(result)\n",
      "File \u001b[1;32mc:\\Users\\wndgj\\AppData\\Local\\Programs\\Python\\Python310\\lib\\site-packages\\joblib\\_parallel_backends.py:572\u001b[0m, in \u001b[0;36mImmediateResult.__init__\u001b[1;34m(self, batch)\u001b[0m\n\u001b[0;32m    569\u001b[0m \u001b[39mdef\u001b[39;00m \u001b[39m__init__\u001b[39m(\u001b[39mself\u001b[39m, batch):\n\u001b[0;32m    570\u001b[0m     \u001b[39m# Don't delay the application, to avoid keeping the input\u001b[39;00m\n\u001b[0;32m    571\u001b[0m     \u001b[39m# arguments in memory\u001b[39;00m\n\u001b[1;32m--> 572\u001b[0m     \u001b[39mself\u001b[39m\u001b[39m.\u001b[39mresults \u001b[39m=\u001b[39m batch()\n",
      "File \u001b[1;32mc:\\Users\\wndgj\\AppData\\Local\\Programs\\Python\\Python310\\lib\\site-packages\\joblib\\parallel.py:262\u001b[0m, in \u001b[0;36mBatchedCalls.__call__\u001b[1;34m(self)\u001b[0m\n\u001b[0;32m    258\u001b[0m \u001b[39mdef\u001b[39;00m \u001b[39m__call__\u001b[39m(\u001b[39mself\u001b[39m):\n\u001b[0;32m    259\u001b[0m     \u001b[39m# Set the default nested backend to self._backend but do not set the\u001b[39;00m\n\u001b[0;32m    260\u001b[0m     \u001b[39m# change the default number of processes to -1\u001b[39;00m\n\u001b[0;32m    261\u001b[0m     \u001b[39mwith\u001b[39;00m parallel_backend(\u001b[39mself\u001b[39m\u001b[39m.\u001b[39m_backend, n_jobs\u001b[39m=\u001b[39m\u001b[39mself\u001b[39m\u001b[39m.\u001b[39m_n_jobs):\n\u001b[1;32m--> 262\u001b[0m         \u001b[39mreturn\u001b[39;00m [func(\u001b[39m*\u001b[39margs, \u001b[39m*\u001b[39m\u001b[39m*\u001b[39mkwargs)\n\u001b[0;32m    263\u001b[0m                 \u001b[39mfor\u001b[39;00m func, args, kwargs \u001b[39min\u001b[39;00m \u001b[39mself\u001b[39m\u001b[39m.\u001b[39mitems]\n",
      "File \u001b[1;32mc:\\Users\\wndgj\\AppData\\Local\\Programs\\Python\\Python310\\lib\\site-packages\\joblib\\parallel.py:262\u001b[0m, in \u001b[0;36m<listcomp>\u001b[1;34m(.0)\u001b[0m\n\u001b[0;32m    258\u001b[0m \u001b[39mdef\u001b[39;00m \u001b[39m__call__\u001b[39m(\u001b[39mself\u001b[39m):\n\u001b[0;32m    259\u001b[0m     \u001b[39m# Set the default nested backend to self._backend but do not set the\u001b[39;00m\n\u001b[0;32m    260\u001b[0m     \u001b[39m# change the default number of processes to -1\u001b[39;00m\n\u001b[0;32m    261\u001b[0m     \u001b[39mwith\u001b[39;00m parallel_backend(\u001b[39mself\u001b[39m\u001b[39m.\u001b[39m_backend, n_jobs\u001b[39m=\u001b[39m\u001b[39mself\u001b[39m\u001b[39m.\u001b[39m_n_jobs):\n\u001b[1;32m--> 262\u001b[0m         \u001b[39mreturn\u001b[39;00m [func(\u001b[39m*\u001b[39margs, \u001b[39m*\u001b[39m\u001b[39m*\u001b[39mkwargs)\n\u001b[0;32m    263\u001b[0m                 \u001b[39mfor\u001b[39;00m func, args, kwargs \u001b[39min\u001b[39;00m \u001b[39mself\u001b[39m\u001b[39m.\u001b[39mitems]\n",
      "File \u001b[1;32mc:\\Users\\wndgj\\AppData\\Local\\Programs\\Python\\Python310\\lib\\site-packages\\sklearn\\utils\\fixes.py:117\u001b[0m, in \u001b[0;36m_FuncWrapper.__call__\u001b[1;34m(self, *args, **kwargs)\u001b[0m\n\u001b[0;32m    115\u001b[0m \u001b[39mdef\u001b[39;00m \u001b[39m__call__\u001b[39m(\u001b[39mself\u001b[39m, \u001b[39m*\u001b[39margs, \u001b[39m*\u001b[39m\u001b[39m*\u001b[39mkwargs):\n\u001b[0;32m    116\u001b[0m     \u001b[39mwith\u001b[39;00m config_context(\u001b[39m*\u001b[39m\u001b[39m*\u001b[39m\u001b[39mself\u001b[39m\u001b[39m.\u001b[39mconfig):\n\u001b[1;32m--> 117\u001b[0m         \u001b[39mreturn\u001b[39;00m \u001b[39mself\u001b[39m\u001b[39m.\u001b[39mfunction(\u001b[39m*\u001b[39margs, \u001b[39m*\u001b[39m\u001b[39m*\u001b[39mkwargs)\n",
      "File \u001b[1;32mc:\\Users\\wndgj\\AppData\\Local\\Programs\\Python\\Python310\\lib\\site-packages\\sklearn\\model_selection\\_validation.py:674\u001b[0m, in \u001b[0;36m_fit_and_score\u001b[1;34m(estimator, X, y, scorer, train, test, verbose, parameters, fit_params, return_train_score, return_parameters, return_n_test_samples, return_times, return_estimator, split_progress, candidate_progress, error_score)\u001b[0m\n\u001b[0;32m    671\u001b[0m     \u001b[39mfor\u001b[39;00m k, v \u001b[39min\u001b[39;00m parameters\u001b[39m.\u001b[39mitems():\n\u001b[0;32m    672\u001b[0m         cloned_parameters[k] \u001b[39m=\u001b[39m clone(v, safe\u001b[39m=\u001b[39m\u001b[39mFalse\u001b[39;00m)\n\u001b[1;32m--> 674\u001b[0m     estimator \u001b[39m=\u001b[39m estimator\u001b[39m.\u001b[39mset_params(\u001b[39m*\u001b[39m\u001b[39m*\u001b[39mcloned_parameters)\n\u001b[0;32m    676\u001b[0m start_time \u001b[39m=\u001b[39m time\u001b[39m.\u001b[39mtime()\n\u001b[0;32m    678\u001b[0m X_train, y_train \u001b[39m=\u001b[39m _safe_split(estimator, X, y, train)\n",
      "File \u001b[1;32mc:\\Users\\wndgj\\AppData\\Local\\Programs\\Python\\Python310\\lib\\site-packages\\sklearn\\base.py:246\u001b[0m, in \u001b[0;36mBaseEstimator.set_params\u001b[1;34m(self, **params)\u001b[0m\n\u001b[0;32m    244\u001b[0m \u001b[39mif\u001b[39;00m key \u001b[39mnot\u001b[39;00m \u001b[39min\u001b[39;00m valid_params:\n\u001b[0;32m    245\u001b[0m     local_valid_params \u001b[39m=\u001b[39m \u001b[39mself\u001b[39m\u001b[39m.\u001b[39m_get_param_names()\n\u001b[1;32m--> 246\u001b[0m     \u001b[39mraise\u001b[39;00m \u001b[39mValueError\u001b[39;00m(\n\u001b[0;32m    247\u001b[0m         \u001b[39mf\u001b[39m\u001b[39m\"\u001b[39m\u001b[39mInvalid parameter \u001b[39m\u001b[39m{\u001b[39;00mkey\u001b[39m!r}\u001b[39;00m\u001b[39m for estimator \u001b[39m\u001b[39m{\u001b[39;00m\u001b[39mself\u001b[39m\u001b[39m}\u001b[39;00m\u001b[39m. \u001b[39m\u001b[39m\"\u001b[39m\n\u001b[0;32m    248\u001b[0m         \u001b[39mf\u001b[39m\u001b[39m\"\u001b[39m\u001b[39mValid parameters are: \u001b[39m\u001b[39m{\u001b[39;00mlocal_valid_params\u001b[39m!r}\u001b[39;00m\u001b[39m.\u001b[39m\u001b[39m\"\u001b[39m\n\u001b[0;32m    249\u001b[0m     )\n\u001b[0;32m    251\u001b[0m \u001b[39mif\u001b[39;00m delim:\n\u001b[0;32m    252\u001b[0m     nested_params[key][sub_key] \u001b[39m=\u001b[39m value\n",
      "\u001b[1;31mValueError\u001b[0m: Invalid parameter 'learning_rate' for estimator KNeighborsClassifier(). Valid parameters are: ['algorithm', 'leaf_size', 'metric', 'metric_params', 'n_jobs', 'n_neighbors', 'p', 'weights']."
     ]
    }
   ],
   "source": [
    "b_params = best_knparam(knn_clf, parameters, 'accuracy', 5)\n",
    "b_params[-1]"
   ]
  },
  {
   "cell_type": "code",
   "execution_count": null,
   "metadata": {},
   "outputs": [],
   "source": [
    "# 최적 하이퍼 파라미터 저장\n",
    "\n",
    "learning_rate = 0\n",
    "n_estimators = 0\n",
    "max_depth = 0\n",
    "\n",
    "for key, value in b_params[-1].items():\n",
    "    if key == 'learning_rate':\n",
    "        learning_rate = value\n",
    "    if key == 'num_iterations':\n",
    "        n_estimators = value\n",
    "    else:\n",
    "        max_depth = value"
   ]
  },
  {
   "cell_type": "code",
   "execution_count": null,
   "metadata": {},
   "outputs": [
    {
     "name": "stdout",
     "output_type": "stream",
     "text": [
      "예측 정확도: 0.9388\n"
     ]
    }
   ],
   "source": [
    "# 최적 하이퍼 파라미터 적용\n",
    "xgb_clf1 = XGBClassifier(learning_rate=learning_rate, max_depth=max_depth, n_estimators=n_estimators)\n",
    "xgb_clf1.fit(X_train, y_train)\n",
    "xgb_clf1_pred = xgb_clf1.predict(X_test)\n",
    "print('예측 정확도: {0:.4f}'.format(accuracy_score(y_test, xgb_clf1_pred)))"
   ]
  },
  {
   "cell_type": "code",
   "execution_count": null,
   "metadata": {},
   "outputs": [],
   "source": [
    "# 오차행렬, 정확도, 정밀도, 재현율, F1스코어 함수에 ROC_AUC 추가\n",
    "def get_clf_eval(y_test, pred=None, pred_proba=None):\n",
    "    confusion = confusion_matrix(y_test, pred)\n",
    "    accuracy = accuracy_score(y_test, pred)\n",
    "    precision = precision_score(y_test, pred)\n",
    "    recall = recall_score(y_test, pred)\n",
    "    f1 = f1_score(y_test, pred)\n",
    "    roc_auc = roc_auc_score(y_test, pred_proba) \n",
    "    print('오차행렬')\n",
    "    print(confusion)\n",
    "    print('정확도: {0:.4f}, 정밀도: {1:.4f}, 재현율: {2:.4f}, F1:{3:.4f}, AUC:{4:.4f}'.format(accuracy, precision, recall, f1, roc_auc))"
   ]
  },
  {
   "cell_type": "code",
   "execution_count": null,
   "metadata": {},
   "outputs": [],
   "source": [
    "# 임곗값별 수치 함수 재설정\n",
    "def get_eval_by_threshold(y_test, pred_proba_c1, thresholds):\n",
    "    for custom_threshold in thresholds:\n",
    "        binarizer = Binarizer(threshold=custom_threshold).fit(pred_proba_c1)\n",
    "        custom_predict = binarizer.transform(pred_proba_c1)\n",
    "        print('임곗값:', custom_threshold)\n",
    "        get_clf_eval(y_test, custom_predict, xgb_clf1.predict_proba(X_test)[:, 1])"
   ]
  },
  {
   "cell_type": "code",
   "execution_count": null,
   "metadata": {},
   "outputs": [
    {
     "name": "stdout",
     "output_type": "stream",
     "text": [
      "임곗값: 0.01\n",
      "오차행렬\n",
      "[[   0 3589]\n",
      " [   0  234]]\n",
      "정확도: 0.0612, 정밀도: 0.0612, 재현율: 1.0000, F1:0.1154, AUC:0.5000\n",
      "임곗값: 0.05\n",
      "오차행렬\n",
      "[[   0 3589]\n",
      " [   0  234]]\n",
      "정확도: 0.0612, 정밀도: 0.0612, 재현율: 1.0000, F1:0.1154, AUC:0.5000\n",
      "임곗값: 0.1\n",
      "오차행렬\n",
      "[[   0 3589]\n",
      " [   0  234]]\n",
      "정확도: 0.0612, 정밀도: 0.0612, 재현율: 1.0000, F1:0.1154, AUC:0.5000\n",
      "임곗값: 0.2\n",
      "오차행렬\n",
      "[[   0 3589]\n",
      " [   0  234]]\n",
      "정확도: 0.0612, 정밀도: 0.0612, 재현율: 1.0000, F1:0.1154, AUC:0.5000\n"
     ]
    }
   ],
   "source": [
    "from sklearn.preprocessing import Binarizer\n",
    "\n",
    "thresholds = [0.01, 0.05, 0.1, 0.2]\n",
    "pred_proba = xgb_clf1.predict_proba(X_test)\n",
    "\n",
    "get_eval_by_threshold(y_test, pred_proba[:, 1].reshape(-1, 1), thresholds)"
   ]
  },
  {
   "cell_type": "code",
   "execution_count": null,
   "metadata": {},
   "outputs": [
    {
     "data": {
      "image/png": "[encoded data removed]",
      "text/plain": [
       "<Figure size 1008x576 with 1 Axes>"
      ]
     },
     "metadata": {},
     "output_type": "display_data"
    }
   ],
   "source": [
    "from sklearn.metrics import precision_recall_curve\n",
    "import numpy as np\n",
    "\n",
    "plt.rcParams[\"font.family\"] = \"Malgun Gothic\"\n",
    "plt.rcParams['axes.unicode_minus'] = False\n",
    "\n",
    "def precision_recall_curve_plot(y_test, pred_proba_c1):\n",
    "    precisions, recalls, thresholds = precision_recall_curve(y_test, pred_proba_c1)\n",
    "    \n",
    "    # X축을 threshold값으로, Y축은 정밀도, 재현율 값으로 각각 plot 수행. 정밀도는 점선으로 표시\n",
    "    plt.figure(figsize=(14, 8))\n",
    "    # 임곗값 수치    \n",
    "    threshold_boundary = thresholds.shape[0]\n",
    "    # 정밀도는 점선으로\n",
    "    plt.plot(thresholds, precisions[0:threshold_boundary], linestyle='--', label='precision')\n",
    "    # 재현율은 선으로\n",
    "    plt.plot(thresholds, recalls[0:threshold_boundary], label='recall')\n",
    "    \n",
    "    start, end = plt.xlim()\n",
    "    # x축을 0.1씩 증가, 소수점 둘째자리까지 표시\n",
    "    plt.xticks(np.round(np.arange(start, end, 0.1), 2))\n",
    "    \n",
    "    plt.title(\"정밀도와 재현율 곡선\")\n",
    "    plt.xlabel('Threshold value')\n",
    "    plt.ylabel('Precision and Recall value')\n",
    "    plt.legend()\n",
    "    plt.grid()\n",
    "    plt.show()\n",
    "    \n",
    "precision_recall_curve_plot(y_test, lgbm_clf1.predict_proba(X_test)[:, 1])\n",
    "\n",
    "# 임계값이 낮을수록 재현율은 높고, 정밀도는 낮다.\n",
    "# 임계값이 클수록 재현율은 낮고, 정밀도는 높다."
   ]
  },
  {
   "cell_type": "markdown",
   "metadata": {},
   "source": [
    "## ROC_AUC"
   ]
  },
  {
   "cell_type": "code",
   "execution_count": null,
   "metadata": {},
   "outputs": [
    {
     "name": "stdout",
     "output_type": "stream",
     "text": [
      "샘플 추출을 위한 임곗값 배열의 index: [1]\n",
      "샘플 index로 추출한 임곗값:  [0.5]\n",
      "샘플 임곗값별 FPR:  [1.]\n",
      "샘플 임곗값별 TPR:  [1.]\n"
     ]
    }
   ],
   "source": [
    "from sklearn.metrics import roc_curve\n",
    "\n",
    "# 레이블 값이 1일때의 예측 확률\n",
    "pred_proba_class1 = xgb_clf1.predict_proba(X_test)[:, 1]\n",
    "\n",
    "fprs, tprs, thresholds = roc_curve(y_test, pred_proba_class1)\n",
    "\n",
    "# thresholds[0]은 max(예측확률)+1로 임의 설정. 이를 제외하기 위해 np.arange는 1부터 시작\n",
    "thr_index = np.arange(1, thresholds.shape[0])\n",
    "\n",
    "print('샘플 추출을 위한 임곗값 배열의 index:', thr_index)\n",
    "print('샘플 index로 추출한 임곗값: ', np.round(thresholds[thr_index], 2))\n",
    "\n",
    "print('샘플 임곗값별 FPR: ', np.round(fprs[thr_index], 3))\n",
    "print('샘플 임곗값별 TPR: ', np.round(tprs[thr_index], 3))"
   ]
  },
  {
   "cell_type": "code",
   "execution_count": null,
   "metadata": {},
   "outputs": [
    {
     "name": "stdout",
     "output_type": "stream",
     "text": [
      "AUC 값: 0.5000\n"
     ]
    }
   ],
   "source": [
    "from sklearn.metrics import roc_auc_score\n",
    "\n",
    "pred_proba = xgb_clf1.predict_proba(X_test)[:, 1]\n",
    "roc_score = roc_auc_score(y_test, pred_proba)\n",
    "print('AUC 값: {0:.4f}'.format(roc_score))"
   ]
  },
  {
   "cell_type": "code",
   "execution_count": null,
   "metadata": {},
   "outputs": [
    {
     "data": {
      "image/png": "[encoded data removed]",
      "text/plain": [
       "<Figure size 720x576 with 1 Axes>"
      ]
     },
     "metadata": {},
     "output_type": "display_data"
    }
   ],
   "source": [
    "plt.figure(figsize=(10,8))\n",
    "\n",
    "plt.title(\"ROC 곡선\")\n",
    "plt.plot([0, 1], [0, 1], 'k--', label='Random')\n",
    "plt.plot(fprs, tprs, label=\"ROC\")\n",
    "plt.xlabel('FPR(1 - Sensitivity)')\n",
    "plt.ylabel('TPR( Recall )')\n",
    "plt.legend()\n",
    "plt.fill_between(fprs, tprs, color='y', alpha=0.3)\n",
    "plt.annotate('AUC : {0:.4f}'.format(roc_score), xy=(0.6, 0.2),ha='center', va='baseline', fontsize=15)\n",
    "plt.show()"
   ]
  },
  {
   "cell_type": "markdown",
   "metadata": {},
   "source": [
    "## GaussianNB"
   ]
  },
  {
   "cell_type": "code",
   "execution_count": 42,
   "metadata": {},
   "outputs": [
    {
     "data": {
      "image/png": "[encoded data removed]",
      "text/plain": [
       "<Figure size 432x288 with 1 Axes>"
      ]
     },
     "metadata": {
      "needs_background": "light"
     },
     "output_type": "display_data"
    },
    {
     "name": "stdout",
     "output_type": "stream",
     "text": [
      "train_roc_auc score:  0.8833652007648184\n",
      "test_roc_auc score:  0.5880200184323896 \n",
      "\n",
      "train_f1 score:  0.8718487394957982\n",
      "test_f1 score:  0.1405204460966543 \n",
      "\n",
      "train_recall score:  0.7934990439770554\n",
      "test_recall score:  0.8076923076923077 \n",
      "\n",
      "train_pre score:  0.9673659673659674\n",
      "test_pre score:  0.07695439739413681 \n",
      "\n",
      "train acc score:  0.8833652007648184\n",
      "test acc score:  0.3952393408318075 \n",
      "\n"
     ]
    }
   ],
   "source": [
    "from sklearn.naive_bayes import GaussianNB\n",
    "import time\n",
    "import warnings\n",
    "warnings.filterwarnings('ignore')\n",
    "\n",
    "# DecisionTreeClassifier 학습/예측/평가\n",
    "nb_clf_time = time.time()\n",
    "\n",
    "nb_clf = GaussianNB()\n",
    "\n",
    "trained_model = nb_clf.fit(X_train_under, y_train_under,)\n",
    "\n",
    "train_pred = trained_model.predict(X_train_under)\n",
    "train_prob = trained_model.predict_proba(X_train_under)[:, 1]\n",
    "\n",
    "test_pred = trained_model.predict(X_test)\n",
    "test_prob = trained_model.predict_proba(X_test)[:, 1]\n",
    "\n",
    "plot_roc_curve(y_train_under, y_test, train_pred, test_pred, train_prob, test_prob)"
   ]
  },
  {
   "cell_type": "markdown",
   "metadata": {},
   "source": [
    "## SVC"
   ]
  },
  {
   "cell_type": "code",
   "execution_count": 45,
   "metadata": {},
   "outputs": [
    {
     "ename": "AttributeError",
     "evalue": "predict_proba is not available when  probability=False",
     "output_type": "error",
     "traceback": [
      "\u001b[1;31m---------------------------------------------------------------------------\u001b[0m",
      "\u001b[1;31mAttributeError\u001b[0m                            Traceback (most recent call last)",
      "\u001b[1;32mc:\\project2_quaero\\리샘플링\\dataset1_raw_nearmiss.ipynb 셀 26\u001b[0m in \u001b[0;36m<cell line: 14>\u001b[1;34m()\u001b[0m\n\u001b[0;32m     <a href='vscode-notebook-cell:/c%3A/project2_quaero/%EB%A6%AC%EC%83%98%ED%94%8C%EB%A7%81/dataset1_raw_nearmiss.ipynb#X45sZmlsZQ%3D%3D?line=10'>11</a>\u001b[0m trained_model \u001b[39m=\u001b[39m svc_clf\u001b[39m.\u001b[39mfit(X_train_under, y_train_under,)\n\u001b[0;32m     <a href='vscode-notebook-cell:/c%3A/project2_quaero/%EB%A6%AC%EC%83%98%ED%94%8C%EB%A7%81/dataset1_raw_nearmiss.ipynb#X45sZmlsZQ%3D%3D?line=12'>13</a>\u001b[0m train_pred \u001b[39m=\u001b[39m trained_model\u001b[39m.\u001b[39mpredict(X_train_under)\n\u001b[1;32m---> <a href='vscode-notebook-cell:/c%3A/project2_quaero/%EB%A6%AC%EC%83%98%ED%94%8C%EB%A7%81/dataset1_raw_nearmiss.ipynb#X45sZmlsZQ%3D%3D?line=13'>14</a>\u001b[0m train_prob \u001b[39m=\u001b[39m trained_model\u001b[39m.\u001b[39;49mpredict_proba(X_train_under)[:, \u001b[39m1\u001b[39m]\n\u001b[0;32m     <a href='vscode-notebook-cell:/c%3A/project2_quaero/%EB%A6%AC%EC%83%98%ED%94%8C%EB%A7%81/dataset1_raw_nearmiss.ipynb#X45sZmlsZQ%3D%3D?line=15'>16</a>\u001b[0m test_pred \u001b[39m=\u001b[39m trained_model\u001b[39m.\u001b[39mpredict(X_test)\n\u001b[0;32m     <a href='vscode-notebook-cell:/c%3A/project2_quaero/%EB%A6%AC%EC%83%98%ED%94%8C%EB%A7%81/dataset1_raw_nearmiss.ipynb#X45sZmlsZQ%3D%3D?line=16'>17</a>\u001b[0m test_prob \u001b[39m=\u001b[39m trained_model\u001b[39m.\u001b[39mpredict_proba(X_test)[:, \u001b[39m1\u001b[39m]\n",
      "File \u001b[1;32mc:\\Users\\wndgj\\AppData\\Local\\Programs\\Python\\Python310\\lib\\site-packages\\sklearn\\utils\\metaestimators.py:127\u001b[0m, in \u001b[0;36m_AvailableIfDescriptor.__get__\u001b[1;34m(self, obj, owner)\u001b[0m\n\u001b[0;32m    121\u001b[0m attr_err \u001b[39m=\u001b[39m \u001b[39mAttributeError\u001b[39;00m(\n\u001b[0;32m    122\u001b[0m     \u001b[39mf\u001b[39m\u001b[39m\"\u001b[39m\u001b[39mThis \u001b[39m\u001b[39m{\u001b[39;00m\u001b[39mrepr\u001b[39m(owner\u001b[39m.\u001b[39m\u001b[39m__name__\u001b[39m)\u001b[39m}\u001b[39;00m\u001b[39m has no attribute \u001b[39m\u001b[39m{\u001b[39;00m\u001b[39mrepr\u001b[39m(\u001b[39mself\u001b[39m\u001b[39m.\u001b[39mattribute_name)\u001b[39m}\u001b[39;00m\u001b[39m\"\u001b[39m\n\u001b[0;32m    123\u001b[0m )\n\u001b[0;32m    124\u001b[0m \u001b[39mif\u001b[39;00m obj \u001b[39mis\u001b[39;00m \u001b[39mnot\u001b[39;00m \u001b[39mNone\u001b[39;00m:\n\u001b[0;32m    125\u001b[0m     \u001b[39m# delegate only on instances, not the classes.\u001b[39;00m\n\u001b[0;32m    126\u001b[0m     \u001b[39m# this is to allow access to the docstrings.\u001b[39;00m\n\u001b[1;32m--> 127\u001b[0m     \u001b[39mif\u001b[39;00m \u001b[39mnot\u001b[39;00m \u001b[39mself\u001b[39;49m\u001b[39m.\u001b[39;49mcheck(obj):\n\u001b[0;32m    128\u001b[0m         \u001b[39mraise\u001b[39;00m attr_err\n\u001b[0;32m    129\u001b[0m     out \u001b[39m=\u001b[39m MethodType(\u001b[39mself\u001b[39m\u001b[39m.\u001b[39mfn, obj)\n",
      "File \u001b[1;32mc:\\Users\\wndgj\\AppData\\Local\\Programs\\Python\\Python310\\lib\\site-packages\\sklearn\\svm\\_base.py:819\u001b[0m, in \u001b[0;36mBaseSVC._check_proba\u001b[1;34m(self)\u001b[0m\n\u001b[0;32m    817\u001b[0m \u001b[39mdef\u001b[39;00m \u001b[39m_check_proba\u001b[39m(\u001b[39mself\u001b[39m):\n\u001b[0;32m    818\u001b[0m     \u001b[39mif\u001b[39;00m \u001b[39mnot\u001b[39;00m \u001b[39mself\u001b[39m\u001b[39m.\u001b[39mprobability:\n\u001b[1;32m--> 819\u001b[0m         \u001b[39mraise\u001b[39;00m \u001b[39mAttributeError\u001b[39;00m(\n\u001b[0;32m    820\u001b[0m             \u001b[39m\"\u001b[39m\u001b[39mpredict_proba is not available when  probability=False\u001b[39m\u001b[39m\"\u001b[39m\n\u001b[0;32m    821\u001b[0m         )\n\u001b[0;32m    822\u001b[0m     \u001b[39mif\u001b[39;00m \u001b[39mself\u001b[39m\u001b[39m.\u001b[39m_impl \u001b[39mnot\u001b[39;00m \u001b[39min\u001b[39;00m (\u001b[39m\"\u001b[39m\u001b[39mc_svc\u001b[39m\u001b[39m\"\u001b[39m, \u001b[39m\"\u001b[39m\u001b[39mnu_svc\u001b[39m\u001b[39m\"\u001b[39m):\n\u001b[0;32m    823\u001b[0m         \u001b[39mraise\u001b[39;00m \u001b[39mAttributeError\u001b[39;00m(\u001b[39m\"\u001b[39m\u001b[39mpredict_proba only implemented for SVC and NuSVC\u001b[39m\u001b[39m\"\u001b[39m)\n",
      "\u001b[1;31mAttributeError\u001b[0m: predict_proba is not available when  probability=False"
     ]
    }
   ],
   "source": [
    "from sklearn.svm import SVC\n",
    "import time\n",
    "import warnings\n",
    "warnings.filterwarnings('ignore')\n",
    "\n",
    "# DecisionTreeClassifier 학습/예측/평가\n",
    "svc_clf_time = time.time()\n",
    "\n",
    "svc_clf = SVC()\n",
    "\n",
    "trained_model = svc_clf.fit(X_train_under, y_train_under,)\n",
    "\n",
    "train_pred = trained_model.predict(X_train_under)\n",
    "train_prob = trained_model.predict_proba(X_train_under)[:, 1]\n",
    "\n",
    "test_pred = trained_model.predict(X_test)\n",
    "test_prob = trained_model.predict_proba(X_test)[:, 1]\n",
    "\n",
    "plot_roc_curve(y_train_under, y_test, train_pred, test_pred, train_prob, test_prob)"
   ]
  },
  {
   "cell_type": "code",
   "execution_count": null,
   "metadata": {},
   "outputs": [],
   "source": []
  }
 ],
 "metadata": {
  "kernelspec": {
   "display_name": "Python 3.10.1 64-bit",
   "language": "python",
   "name": "python3"
  },
  "language_info": {
   "codemirror_mode": {
    "name": "ipython",
    "version": 3
   },
   "file_extension": ".py",
   "mimetype": "text/x-python",
   "name": "python",
   "nbconvert_exporter": "python",
   "pygments_lexer": "ipython3",
   "version": "3.10.1"
  },
  "orig_nbformat": 4,
  "vscode": {
   "interpreter": {
    "hash": "664601c8c9e5ea170ac235a51849067b39cba8c284ace64cc1dec43cb5b20d30"
   }
  }
 },
 "nbformat": 4,
 "nbformat_minor": 2
}
